{
 "cells": [
  {
   "cell_type": "markdown",
   "id": "a51d1bd2-0369-4c0a-8f4f-0660228af1fd",
   "metadata": {},
   "source": [
    "# Title"
   ]
  },
  {
   "cell_type": "markdown",
   "id": "5a575542-7ea5-44cc-95a0-4c5cdc418bf3",
   "metadata": {},
   "source": [
    "## Objectives: \n",
    "1. Choose a real-world phenomenon that can be measured.\n",
    "2. Investigate the types of variables involved, their likely distributions, and their\n",
    "relationships with each other, accross at least 4 variables.\n",
    "3. Synthesise/simulate a data set as closely matching their properties as possible."
   ]
  },
  {
   "cell_type": "markdown",
   "id": "d903a639-d963-4e6b-82d6-f2259dd6f6ad",
   "metadata": {},
   "source": [
    "\n",
    "<br>\n",
    "\n",
    "## Real World Phenomenon\n",
    "***"
   ]
  },
  {
   "cell_type": "markdown",
   "id": "25442878-6d7d-4a48-a521-379c0ae7fea5",
   "metadata": {},
   "source": [
    "### Hypertension\n",
    "This project will explore *hypertension*, which is more commonly known as high blood pressure. This real world problem can result in stroke, heart<br>\n",
    "disease and heart attacks. Blood pressure is measured using systolic blood pressure which measures the pressure in ones arteries when their heart<br>\n",
    "beats, and diastolic blood pressure which measures the pressure in ones artetries between heart beats [1]. The Centers for Disease Control and<br>\n",
    "Prevention defines hypertension as a systolic reading of ≥ 130 mmHg and/or a diastolic reading of ≥ 80 mmHg.\n"
   ]
  },
  {
   "cell_type": "markdown",
   "id": "531e368c-2532-4854-a941-0c6c5e1cf0ae",
   "metadata": {},
   "source": [
    "\n",
    "<br>\n",
    "\n",
    "## Investigating the Variables\n",
    "***\n",
    "### Selection:\n",
    "Justin et al.(2013) detail how 467 abstracts related to hypertension were closely examined and how 11 articles of 467 were indentified that explored<br>\n",
    "linear regression prediction models with incident hypertension as their outcome of interest. The results of these articles showed  that the best predictor<br>\n",
    "variables for hypertension were age, sex, body mass index, diabetes status, parental hypertension, smoking and systolic/diastolic blood pressure. \n",
    "\n",
    "The variables described in table 1 will be selected to model a predictive hypertension dataset.<br>"
   ]
  },
  {
   "cell_type": "markdown",
   "id": "4bdc21fa-14d2-4d77-82c7-1890752cc09e",
   "metadata": {},
   "source": [
    "\n",
    "<br>\n",
    "\n",
    "<table style = 'float : left;'>\n",
    "<tr><th>Table 1: Variable Summary</th>\n",
    "<tr><td>\n",
    "\n",
    "|Variable Type| Variable |Units|\n",
    "|:--:|:--:|:--:|\n",
    "|Continuous|Systolic Blood Pressure (BPs) |[mmHg]|\n",
    "|Continuous|Diastolic Blood Pressure (BPd)|[mmHg]|\n",
    "|Continuous|BMI|[kg/m²]|\n",
    "|Discrete|Age|Years|\n",
    "|Categorical|Sex |-|\n",
    "|Categorical|Smoker|-|\n",
    "\n",
    "</td></tr> </table>"
   ]
  },
  {
   "cell_type": "code",
   "execution_count": 1,
   "id": "1262bf84-8580-4972-b226-ec7017c590af",
   "metadata": {},
   "outputs": [],
   "source": [
    "#Table 1 wil be useful for deducing incident rate to evaluate most important variables to model.\n",
    "## https://www.ahajournals.org/doi/10.1161/HYPERTENSIONAHA.120.16354\n",
    "\n",
    "# gives dist tables (not for each sex, doesnt do correlation stats)\n",
    "#https://www.hindawi.com/journals/ijhy/2018/4186496/\n",
    "\n",
    "## looks at dist tables for age, weight, height, bmi, heart rate in young greek adults, also does lienar regression etc....\n",
    "#https://www.ncbi.nlm.nih.gov/pmc/articles/PMC4378027/\n",
    "\n",
    "\n",
    "## Assumptions for pearsons correlation etc....(needs to be normally dist....use spearman if not)\n",
    "# https://journals.lww.com/anesthesia-analgesia/fulltext/2018/05000/correlation_coefficients__appropriate_use_and.50.aspx\n",
    "\n",
    "## Bivariate normal distributed is important for pearsons......\n",
    "# https://www.statisticshowto.com/bivariate-normal-distribution/\n",
    "#hist / scatter overlap regplot i think shows this "
   ]
  },
  {
   "cell_type": "markdown",
   "id": "3bf44702-f028-4ccc-95ca-8fc55d5a4a5e",
   "metadata": {},
   "source": [
    "### Distribution:"
   ]
  },
  {
   "cell_type": "code",
   "execution_count": null,
   "id": "c85e8577-a78f-4c5d-973a-ac1a5fac4366",
   "metadata": {},
   "outputs": [],
   "source": []
  },
  {
   "cell_type": "markdown",
   "id": "6cab6247-7a19-4335-b3a1-193a214283ad",
   "metadata": {},
   "source": [
    "### Correlation:"
   ]
  },
  {
   "cell_type": "markdown",
   "id": "351a7501-5a23-4325-b04f-a21086bc1d75",
   "metadata": {},
   "source": [
    "Importance of drawing samples from distribution, as mean and std dev alone can not determine an accurate distribution\n",
    "# https://en.wikipedia.org/wiki/Anscombe%27s_quartet\n",
    "\n",
    "# parental hypertension"
   ]
  },
  {
   "cell_type": "markdown",
   "id": "6863a1d6-cc06-4fa9-b4fe-f60d7afd71e4",
   "metadata": {},
   "source": [
    "# link to paper: https://www.ncbi.nlm.nih.gov/pmc/articles/PMC3728227/\n",
    "# # Normality of variables distribution was checked and found satisfactorily\n",
    "\n",
    "\n",
    "# what variables are important for each variables .... how are they related?...."
   ]
  },
  {
   "cell_type": "code",
   "execution_count": null,
   "id": "8b250e1c-4915-4241-af11-caaa7d1665ee",
   "metadata": {},
   "outputs": [],
   "source": [
    " - Continuous:\n",
    "    - Systolic Blood Pressure (BPs) [mmHg]\n",
    "    - Diastolic Blood Pressure (BPd) [mmHg] \n",
    "    - BMI [kg/m²]<br><br>\n",
    "    \n",
    "- Discrete:\n",
    "    - Body Fat [%]\n",
    "    - Age [Years]"
   ]
  },
  {
   "cell_type": "markdown",
   "id": "edd6c5cf-471a-48c1-8804-cff2a7f97786",
   "metadata": {},
   "source": [
    "<table style = 'float : left;'>\n",
    "<tr><th>Male Statistics </th><th>Female Statistics</th></tr>\n",
    "<tr><td>\n",
    "\n",
    "|Variable| Mean | Std Dev|\n",
    "|--|--|--|\n",
    "|BPs [mmHg]|133.1| 17.0|\n",
    "|BPd [mmHg]|82.5 | 11.6|\n",
    "|Age [years]|46.1|16.6|\n",
    "|Body Fat [%]|23.2|7.0 |\n",
    "|BMI [kg/m²]|26.8|3.9|\n",
    "\n",
    "</td><td>\n",
    "\n",
    "| Mean | Std Dev|\n",
    "|--|--|\n",
    "|127.7| 17.5|\n",
    "|78.5 | 10.6|\n",
    "|45.4|15.4|\n",
    "|29.4|8.3|\n",
    "|24.8|4.6|\n",
    "\n",
    "</td></tr> </table>"
   ]
  },
  {
   "cell_type": "markdown",
   "id": "cdaa2c88-7fa3-4d09-a672-84fa4509089b",
   "metadata": {},
   "source": [
    "## Simulating The Dataset"
   ]
  },
  {
   "cell_type": "code",
   "execution_count": 2,
   "id": "c30bcf0c-e6f1-421e-aeb4-1094b5806d17",
   "metadata": {},
   "outputs": [],
   "source": [
    "import matplotlib.pyplot as plt             # for plotting\n",
    "import numpy as np                          # for numeric processing (from different distributions)\n",
    "import pandas as pd                         # to generate dataframes & manipulat data\n",
    "\n",
    "plt.rcParams['font.size'] = 13              # set default plot font size \n",
    "plt.rcParams[\"figure.figsize\"] = (10, 6)    # set default figure font size "
   ]
  },
  {
   "cell_type": "code",
   "execution_count": 3,
   "id": "f771d3a0-75c1-42b7-ac39-63e0ddc35061",
   "metadata": {},
   "outputs": [],
   "source": [
    "def generate_multivariate_normal(means, std_devs, corr_coeff, num_samples):\n",
    "    '''This fuction returns a multivariate normal array'''\n",
    "    # Construct new Generator using default BitGenerator(PCG64) and store in rng variable\n",
    "    rng = np.random.default_rng(100)\n",
    "    \n",
    "    variances = np.square(std_devs) \n",
    "    \n",
    "    covariance = corr_coeff * (std_devs[0] * std_devs[1]) \n",
    "    covariance_matrix = [[variances[0], covariance], [covariance, variances[1]]]    \n",
    "    array = rng.multivariate_normal(means, covariance_matrix, num_samples)\n",
    "    \n",
    "    print('variances are: {}'.format(variances))\n",
    "    print('covariances are: {}'.format(covariance))\n",
    "    print('covariance_matrix is: {}'.format(covariance_matrix))\n",
    "    return array"
   ]
  },
  {
   "cell_type": "code",
   "execution_count": 4,
   "id": "9229825a-b9e2-4052-84d0-455627ca3e57",
   "metadata": {},
   "outputs": [],
   "source": [
    "def test(means, std_devs, corr_coeff, num_samples):\n",
    "    '''This fuction returns a multivariate normal array'''\n",
    "    \n",
    "    # Construct new Generator using default BitGenerator(PCG64) and store in rng variable\n",
    "    rng = np.random.default_rng(100)\n",
    "    \n",
    "    variances = np.square(std_devs) \n",
    "    covariance = corr_coeff * (std_devs[0] * std_devs[1]) \n",
    "    covariance_matrix = [[variances[0], covariance], [covariance, variances[1]]]  \n",
    "    array = rng.multivariate_normal(means, covariance_matrix, num_samples)\n",
    "    return array"
   ]
  },
  {
   "cell_type": "code",
   "execution_count": 6,
   "id": "bdadeda7-a361-432e-a940-0609cf2f5781",
   "metadata": {},
   "outputs": [],
   "source": [
    "# male array formation\n",
    "# element order: BPs, BPd, Age, fat%, BMI\n",
    "#means = {'Male' :[133.1, 82.5, 46.1, 23.2, 26.8], 'Female': [127.7, 78.5, 45.4, 29.4, 24.8]}  \n",
    "#std_devs = {'Male' :[17.0, 11.6, 16.6, 7.0, 3.9], 'Female': [17.5, 10.6, 15.4, 8.3, 4.6]}  \n",
    "\n",
    "\n",
    "#corr_coeff = 0.5\n",
    "#num_samples = 120\n",
    "\n",
    "#male_weight_vs_fat = generate_multivariate_normal(means, std_devs, corr_coeff, num_samples)\n",
    "#male_gender = np.repeat('Male', num_samples)"
   ]
  },
  {
   "cell_type": "code",
   "execution_count": null,
   "id": "e9c9902b-7aed-4578-a0f1-b41f740da955",
   "metadata": {},
   "outputs": [],
   "source": []
  },
  {
   "cell_type": "code",
   "execution_count": null,
   "id": "b5b19a89-60a0-4ba2-a521-c9866712ee63",
   "metadata": {},
   "outputs": [],
   "source": []
  },
  {
   "cell_type": "code",
   "execution_count": null,
   "id": "62b02ca6-3909-42c8-b01d-fab5a2350cb4",
   "metadata": {},
   "outputs": [],
   "source": []
  },
  {
   "cell_type": "code",
   "execution_count": null,
   "id": "1e223cf0-ce71-48dd-9409-227b9176b80f",
   "metadata": {},
   "outputs": [],
   "source": []
  },
  {
   "cell_type": "code",
   "execution_count": null,
   "id": "3cacdd73-3147-4385-a0c7-7158a771e38c",
   "metadata": {},
   "outputs": [],
   "source": []
  },
  {
   "cell_type": "code",
   "execution_count": null,
   "id": "640eba26-c48a-424f-9380-c57711dcf577",
   "metadata": {},
   "outputs": [],
   "source": []
  },
  {
   "cell_type": "code",
   "execution_count": 114,
   "id": "105c687a-8f2f-467f-b385-87450a41b005",
   "metadata": {},
   "outputs": [
    {
     "data": {
      "image/png": "[encoded data removed]",
      "text/plain": [
       "<Figure size 1800x720 with 6 Axes>"
      ]
     },
     "metadata": {
      "needs_background": "light"
     },
     "output_type": "display_data"
    },
    {
     "name": "stdout",
     "output_type": "stream",
     "text": [
      "8.201142264948194\n",
      "8.349182097281796\n",
      "4.533819511834754\n",
      "4.537452684407146\n"
     ]
    }
   ],
   "source": [
    "\n",
    "'''This fuction returns a multivariate normal array'''\n",
    "rng = np.random.default_rng(100)\n",
    "    #variances = np.square(std_devs) \n",
    "    #covariance_one = corr_coeff[0] * (std_devs[0] * std_devs[1]) \n",
    "    #covariance_two = corr_coeff[1] * (std_devs[2] * std_devs[3]) \n",
    "    \n",
    "'''\n",
    "mean = (45.4 ,67.3 ,164.7 ,29.4 ,127.7,78.8, 24.8)\n",
    "covariance_matrix = [\n",
    "    [1,     0.36, -0.23, 0.63,  0.46,  0.33, 0.44],\n",
    "    [0.36,  1   ,  0.2,  0.73,  0.37,  0.36, 0.91],\n",
    "    [-0.23, 0.2 ,  1,   -0.25, -0.00,  0.02,-0.16],\n",
    "    [0.63,  0.73, -0.25, 1     ,0.39,  0.32, 0.81],\n",
    "    [0.46,  0.37, -0.00, 0.39,  1,     0.7,  0.37],\n",
    "    [0.33,  0.36,  0.02, 0.32,  0.7,   1,    0.35],\n",
    "    [0.44,  0.91, -0.16, 0.81,  0.37,  0.35, 1]]\n",
    "    '''\n",
    "\n",
    "# fat%, BMI after \n",
    "mean = (29.4, 24.8) \n",
    "var1 = np.square(8.3)\n",
    "var2 = np.square(4.6)\n",
    "cor = 0.9\n",
    "\n",
    "#covariance_matrix = [[np.square(8.3+4.6), 1], [1, np.square(4.6+8.3)]] \n",
    "covariance_matrix = [[var1, cor], [cor, var2]] \n",
    "multi_array = rng.multivariate_normal(mean, covariance_matrix, 1000)\n",
    "fat_normal = rng.normal(29.4, 8.3, 1000)\n",
    "bmi_normal = rng.normal(24.8, 4.6, 1000)\n",
    "\n",
    "fig, ax = plt.subplots(2, 3, figsize = (25, 10), sharex = False, sharey = False)\n",
    "ax[0, 0].scatter(multi_array[:,0], multi_array[:,1])\n",
    "ax[0, 1].hist((multi_array[:,0]), bins = 60)\n",
    "ax[0, 2].hist((multi_array[:,1]), bins = 60)\n",
    "\n",
    "ax[1, 0].scatter(fat_normal, bmi_normal)\n",
    "ax[1, 1].hist(fat_normal, bins = 60)\n",
    "ax[1, 2].hist(bmi_normal, bins = 60)\n",
    "plt.show()\n",
    "\n",
    "print(np.std(multi_array[:,0]))\n",
    "print(np.std(fat_normal))\n",
    "print(np.std(multi_array[:,1]))\n",
    "print(np.std(bmi_normal))"
   ]
  },
  {
   "cell_type": "code",
   "execution_count": null,
   "id": "a87fe3ad-4c17-4150-8446-7fb63470ca54",
   "metadata": {},
   "outputs": [],
   "source": []
  },
  {
   "cell_type": "code",
   "execution_count": null,
   "id": "acfb4732-f125-4553-92ae-28d66b038861",
   "metadata": {},
   "outputs": [],
   "source": []
  },
  {
   "cell_type": "code",
   "execution_count": null,
   "id": "a9f6d16b-8d85-4239-b85d-70cda26d8c05",
   "metadata": {},
   "outputs": [],
   "source": []
  },
  {
   "cell_type": "code",
   "execution_count": null,
   "id": "0e66249c-defe-4a8d-813a-380a265a938d",
   "metadata": {},
   "outputs": [],
   "source": []
  },
  {
   "cell_type": "code",
   "execution_count": null,
   "id": "90523fe5-b1d2-4aa9-a5c8-be5ca8a06f96",
   "metadata": {},
   "outputs": [],
   "source": []
  },
  {
   "cell_type": "code",
   "execution_count": null,
   "id": "4166aceb-4029-483c-b6dc-7ccd31996a65",
   "metadata": {},
   "outputs": [],
   "source": []
  },
  {
   "cell_type": "code",
   "execution_count": 10,
   "id": "670de13d-bfe7-4ab3-8232-83d5dab065f1",
   "metadata": {},
   "outputs": [],
   "source": [
    "'''\n",
    "Table 1\n",
    "Basic sample characteristics – men.\n",
    "\n",
    "Variable\tCount\tMean\tStandard deviation\n",
    "BMI\t120\t26.8\t3.9\n",
    "Weight [kg]\t120\t84.4\t13.2\n",
    "Fat percentage\t120\t23.3\t7.0\n",
    "Age [years]\t120\t46.1\t16.6\n",
    "Height [cm]\t120\t176.9\t7.6\n",
    "BPs [mmHg]\t120\t133.1\t17.0\n",
    "BPd [mmHg]\t120\t82.5\t11.6\n",
    "BMI – Body Mass Index [kg/m2]; Fat percentage – percentage of total body fat [%]; BPs – systolic blood pressure; BPd – diastolic blood pressure.\n",
    "''';"
   ]
  },
  {
   "cell_type": "code",
   "execution_count": null,
   "id": "1b125d0c-9543-4b0e-845b-ff36710ff852",
   "metadata": {},
   "outputs": [],
   "source": []
  },
  {
   "cell_type": "markdown",
   "id": "f846fdee-0803-41af-8910-8c6454e85ba0",
   "metadata": {},
   "source": [
    "## References\n",
    "[X] CDC, 2021, High Blood Pressure Symptoms and Causes, Available at:<br>\n",
    "[Ref X](https://www.cdc.gov/bloodpressure/about.htm) (Accessed 08 December 2021).<br>\n",
    "\n",
    "<br>\n",
    "\n",
    "[X]. Singh, S, 2019, Getting the Basics of Correlation & Covariance, Available at:<br>\n",
    "[Ref X](https://towardsdatascience.com/getting-the-basics-of-correlation-covariance-c8fc110b90b4) (Accessed 07 December 2021).\n",
    "\n",
    "\n",
    "<br>\n",
    "\n",
    "Justin, B, et al. (2013), Risk Models to Predict Hypertension: A Systematic Review, Plos One, Availabile at:<br>\n",
    "[Ref X](https://www.ncbi.nlm.nih.gov/pmc/articles/PMC3702558/) (Accessed 08 December 2021).\n",
    "\n",
    "<br>\n",
    "\n",
    "\n",
    "\n",
    "<br>\n",
    "\n",
    "\n",
    "\n",
    "<br>\n",
    "\n",
    "\n",
    "\n",
    "<br>\n",
    "\n",
    "\n",
    "\n",
    "<br>\n",
    "\n",
    "\n",
    "\n",
    "<br>\n",
    "\n",
    "\n",
    "\n",
    "<br>\n",
    "\n",
    "\n",
    "\n",
    "<br>\n",
    "\n",
    "\n",
    "\n",
    "<br>\n",
    "\n",
    "\n",
    "\n",
    "<br>\n"
   ]
  },
  {
   "cell_type": "code",
   "execution_count": null,
   "id": "4f15cdf2-e84a-46c8-8b7c-8f5d9e6c6285",
   "metadata": {},
   "outputs": [],
   "source": []
  }
 ],
 "metadata": {
  "kernelspec": {
   "display_name": "Python 3",
   "language": "python",
   "name": "python3"
  },
  "language_info": {
   "codemirror_mode": {
    "name": "ipython",
    "version": 3
   },
   "file_extension": ".py",
   "mimetype": "text/x-python",
   "name": "python",
   "nbconvert_exporter": "python",
   "pygments_lexer": "ipython3",
   "version": "3.8.8"
  }
 },
 "nbformat": 4,
 "nbformat_minor": 5
}

{
 "cells": [
  {
   "cell_type": "markdown",
   "id": "a51d1bd2-0369-4c0a-8f4f-0660228af1fd",
   "metadata": {},
   "source": [
    "# Title"
   ]
  },
  {
   "cell_type": "markdown",
   "id": "5a575542-7ea5-44cc-95a0-4c5cdc418bf3",
   "metadata": {},
   "source": [
    "## Objectives: \n",
    "1. Choose a real-world phenomenon that can be measured.\n",
    "2. Investigate the types of variables involved, their likely distributions, and their\n",
    "relationships with each other, accross at least 4 variables.\n",
    "3. Synthesise/simulate a data set as closely matching their properties as possible."
   ]
  },
  {
   "cell_type": "markdown",
   "id": "d903a639-d963-4e6b-82d6-f2259dd6f6ad",
   "metadata": {},
   "source": [
    "\n",
    "<br>\n",
    "\n",
    "## Real World Phenomenon\n",
    "***"
   ]
  },
  {
   "cell_type": "markdown",
   "id": "25442878-6d7d-4a48-a521-379c0ae7fea5",
   "metadata": {},
   "source": [
    "### Hypertension\n",
    "This project will explore *hypertension*, which is more commonly known as high blood pressure. This real world problem can result in stroke, heart<br>\n",
    "disease and heart attacks. Blood pressure is measured using systolic blood pressure which measures the pressure in ones arteries when their heart<br>\n",
    "beats, and diastolic blood pressure which measures the pressure in ones artetries between heart beats [1]. The Centers for Disease Control and<br>\n",
    "Prevention defines hypertension as a systolic reading of ≥ 130 mmHg and/or a diastolic reading of ≥ 80 mmHg.\n"
   ]
  },
  {
   "cell_type": "markdown",
   "id": "531e368c-2532-4854-a941-0c6c5e1cf0ae",
   "metadata": {},
   "source": [
    "\n",
    "<br>\n",
    "\n",
    "## Investigating the Variables\n",
    "***\n",
    "### Selection:\n",
    "Justin et al.(2013) detail how 467 abstracts related to hypertension were closely examined and how 11 articles of 467 were indentified that explored<br>\n",
    "linear regression prediction models with incident hypertension as their outcome of interest. The results of these articles showed suggested that the<br>\n",
    "best predictor variables were age, sex, body mass index, diabetes status, parental hypertension, smoking and systolic/diastolic blood pressure. \n",
    "\n",
    "The following variables will be selected to model a predictive hypertension dataset.<br>\n",
    "- Continuous:<br>\n",
    "    - BMI [kg/m²]\n",
    "    - Systolic Blood Pressure (BPd) [mmHg] \n",
    "    - Diastolic Blood Pressure (BPs) [mmHg]<br> <br>\n",
    "\n",
    "- Discrete:\n",
    "    - Age\n",
    "- Categorical:\n",
    "    - Sex \n",
    "    - Parental hypertension \n",
    "    "
   ]
  },
  {
   "cell_type": "markdown",
   "id": "4bdc21fa-14d2-4d77-82c7-1890752cc09e",
   "metadata": {},
   "source": [
    "<table style = 'float : left;'>\n",
    "<tr><th>Variable Summary</th>\n",
    "<tr><td>\n",
    "\n",
    "|Variable Type| Variable |Units|\n",
    "|--|--|--|\n",
    "|Continuous|BMI|[kg/m²]|\n",
    "|Continuous|Systolic Blood Pressure (BPd) |[mmHg]|\n",
    "|Continuous|Diastolic Blood Pressure (BPs)|[mmHg]|\n",
    "|Discrete|Age|Years|\n",
    "|Categorical|Sex | |\n",
    "|Categorical|Parental hypertension | |\n",
    "\n",
    "</td></tr> </table>"
   ]
  },
  {
   "cell_type": "markdown",
   "id": "3bf44702-f028-4ccc-95ca-8fc55d5a4a5e",
   "metadata": {},
   "source": [
    "### Distribution:"
   ]
  },
  {
   "cell_type": "markdown",
   "id": "6cab6247-7a19-4335-b3a1-193a214283ad",
   "metadata": {},
   "source": [
    "### Correlation:"
   ]
  },
  {
   "cell_type": "code",
   "execution_count": null,
   "id": "7ecc6975-c326-4a1b-abec-54e742a52ab4",
   "metadata": {},
   "outputs": [],
   "source": [
    "Importance of drawing samples from distribution, as mean and std dev alone can not determine an accurate distribution\n",
    "# https://en.wikipedia.org/wiki/Anscombe%27s_quartet\n",
    "\n",
    "# parental hypertension"
   ]
  },
  {
   "cell_type": "code",
   "execution_count": 2,
   "id": "3fe9d0b9-adae-4d28-8ea3-430c84201e83",
   "metadata": {},
   "outputs": [],
   "source": [
    "# link to paper: https://www.ncbi.nlm.nih.gov/pmc/articles/PMC3728227/\n",
    "# # Normality of variables distribution was checked and found satisfactorily\n",
    "\n",
    "\n",
    "# what variables are important for each variables .... how are they related?...."
   ]
  },
  {
   "cell_type": "code",
   "execution_count": null,
   "id": "8b250e1c-4915-4241-af11-caaa7d1665ee",
   "metadata": {},
   "outputs": [],
   "source": [
    " - Continuous:\n",
    "    - Systolic Blood Pressure (BPs) [mmHg]\n",
    "    - Diastolic Blood Pressure (BPd) [mmHg] \n",
    "    - BMI [kg/m²]<br><br>\n",
    "    \n",
    "- Discrete:\n",
    "    - Body Fat [%]\n",
    "    - Age [Years]"
   ]
  },
  {
   "cell_type": "markdown",
   "id": "edd6c5cf-471a-48c1-8804-cff2a7f97786",
   "metadata": {},
   "source": [
    "<table style = 'float : left;'>\n",
    "<tr><th>Male Statistics </th><th>Female Statistics</th></tr>\n",
    "<tr><td>\n",
    "\n",
    "|Variable| Mean | Std Dev|\n",
    "|--|--|--|\n",
    "|BPs [mmHg]|133.1| 17.0|\n",
    "|BPd [mmHg]|82.5 | 11.6|\n",
    "|Age [years]|46.1|16.6|\n",
    "|Body Fat [%]|23.2|7.0 |\n",
    "|BMI [kg/m²]|26.8|3.9|\n",
    "\n",
    "</td><td>\n",
    "\n",
    "| Mean | Std Dev|\n",
    "|--|--|\n",
    "|127.7| 17.5|\n",
    "|78.5 | 10.6|\n",
    "|45.4|15.4|\n",
    "|29.4|8.3|\n",
    "|24.8|4.6|\n",
    "\n",
    "</td></tr> </table>"
   ]
  },
  {
   "cell_type": "markdown",
   "id": "cdaa2c88-7fa3-4d09-a672-84fa4509089b",
   "metadata": {},
   "source": [
    "## Simulating The Dataset"
   ]
  },
  {
   "cell_type": "code",
   "execution_count": 2,
   "id": "c30bcf0c-e6f1-421e-aeb4-1094b5806d17",
   "metadata": {},
   "outputs": [],
   "source": [
    "import matplotlib.pyplot as plt             # for plotting\n",
    "import numpy as np                          # for numeric processing (from different distributions)\n",
    "import pandas as pd                         # to generate dataframes & manipulat data\n",
    "\n",
    "plt.rcParams['font.size'] = 13              # set default plot font size \n",
    "plt.rcParams[\"figure.figsize\"] = (10, 6)    # set default figure font size "
   ]
  },
  {
   "cell_type": "code",
   "execution_count": 3,
   "id": "f771d3a0-75c1-42b7-ac39-63e0ddc35061",
   "metadata": {},
   "outputs": [],
   "source": [
    "def generate_multivariate_normal(means, std_devs, corr_coeff, num_samples):\n",
    "    '''This fuction returns a multivariate normal array'''\n",
    "    # Construct new Generator using default BitGenerator(PCG64) and store in rng variable\n",
    "    rng = np.random.default_rng(100)\n",
    "    \n",
    "    variances = np.square(std_devs) \n",
    "    covariance = corr_coeff * (std_devs[0] * std_devs[1]) \n",
    "    covariance_matrix = [[variances[0], covariance], [covariance, variances[1]]]  \n",
    "    array = rng.multivariate_normal(means, covariance_matrix, num_samples)\n",
    "    return array"
   ]
  },
  {
   "cell_type": "code",
   "execution_count": null,
   "id": "9229825a-b9e2-4052-84d0-455627ca3e57",
   "metadata": {},
   "outputs": [],
   "source": [
    "def test(means, std_devs, corr_coeff, num_samples):\n",
    "    '''This fuction returns a multivariate normal array'''\n",
    "    # Construct new Generator using default BitGenerator(PCG64) and store in rng variable\n",
    "    rng = np.random.default_rng(100)\n",
    "    \n",
    "    variances = np.square(std_devs) \n",
    "    covariance = corr_coeff * (std_devs[0] * std_devs[1]) \n",
    "    covariance_matrix = [[variances[0], covariance], [covariance, variances[1]]]  \n",
    "    array = rng.multivariate_normal(means, covariance_matrix, num_samples)\n",
    "    return array"
   ]
  },
  {
   "cell_type": "code",
   "execution_count": 4,
   "id": "5f3a7aab-1654-455b-bf0f-37f5940068df",
   "metadata": {},
   "outputs": [],
   "source": [
    "# male array formation\n",
    "# element order: BPs, BPd, Age, fat%, BMI\n",
    "means = {'Male' :[133.1, 82.5, 46.1, 23.2, 26.8], 'Female': [127.7, 78.5, 45.4, 29.4, 24.8]}  \n",
    "std_devs = {'Male' :[17.0, 11.6, 16.6, 7.0, 3.9], 'Female': [17.5, 10.6, 15.4, 8.3, 4.6]}  \n",
    "\n",
    "\n",
    "corr_coeff = 0.5\n",
    "num_samples = 120\n",
    "\n",
    "male_weight_vs_fat = generate_multivariate_normal(means, std_devs, corr_coeff, num_samples)\n",
    "male_gender = np.repeat('Male', num_samples)"
   ]
  },
  {
   "cell_type": "code",
   "execution_count": 5,
   "id": "b2ede64c-890e-4b5a-b075-8c764c73dfe7",
   "metadata": {},
   "outputs": [],
   "source": [
    "# female weight and fat percentage stats\n",
    "means = (67.3, 29.4)   # element 1: weight, element 2: fat%\n",
    "std_devs = (12.8, 8.3) # element 1: weight, element 2: fat%\n",
    "corr_coeff = 0.73\n",
    "num_samples = 276\n",
    "\n",
    "female_weight_vs_fat = generate_multivariate_normal(means, std_devs, corr_coeff, num_samples)\n",
    "female_gender = np.repeat('Female', num_samples)"
   ]
  },
  {
   "cell_type": "code",
   "execution_count": 6,
   "id": "6ef3be3a-2608-4976-897e-9e4bbf1d1787",
   "metadata": {},
   "outputs": [
    {
     "name": "stdout",
     "output_type": "stream",
     "text": [
      "               Weight  Percent Fat\n",
      "Weight       1.000000     0.547184\n",
      "Percent Fat  0.547184     1.000000\n",
      "               Weight  Percent Fat\n",
      "Weight       1.000000     0.723947\n",
      "Percent Fat  0.723947     1.000000\n"
     ]
    }
   ],
   "source": [
    "df_male = pd.DataFrame({'Weight' : male_weight_vs_fat[:,0], 'Percent Fat' : male_weight_vs_fat[:,1],'Gender' : male_gender})\n",
    "print(df_male .corr())\n",
    "\n",
    "df_female = pd.DataFrame({'Weight' : female_weight_vs_fat[:,0], 'Percent Fat' : female_weight_vs_fat[:,1],'Gender' : female_gender})\n",
    "print(df_female.corr())"
   ]
  },
  {
   "cell_type": "code",
   "execution_count": 7,
   "id": "33f54537-a5ce-4e23-b5f5-83144bf0374d",
   "metadata": {},
   "outputs": [],
   "source": [
    "##combine dfs\n",
    "#female_gender = np.repeat('Female', 3)\n",
    "#gender_col = np.concatenate((male_gender, female_gender), axis = 0)\n",
    "#weight_col = np.concatenate((male_height, female_height), axis = 0)"
   ]
  },
  {
   "cell_type": "code",
   "execution_count": 11,
   "id": "e5fb26f1-2a44-4e67-a706-4eb701fc5038",
   "metadata": {},
   "outputs": [
    {
     "data": {
      "text/plain": [
       "<matplotlib.collections.PathCollection at 0x22db0449d00>"
      ]
     },
     "execution_count": 11,
     "metadata": {},
     "output_type": "execute_result"
    },
    {
     "data": {
      "image/png": "[encoded data removed]",
      "text/plain": [
       "<Figure size 720x432 with 2 Axes>"
      ]
     },
     "metadata": {
      "needs_background": "light"
     },
     "output_type": "display_data"
    }
   ],
   "source": [
    "#plt.scatter(df['Weight'], df['Percent Fat'])\n",
    "\n",
    "fig, (ax1, ax2) = plt.subplots(1, 2, figsize = (10, 6))\n",
    "ax1.scatter(male_weight_vs_fat[:,0],  male_weight_vs_fat[:,1])\n",
    "ax2.scatter(female_weight_vs_fat[:,0],  female_weight_vs_fat[:,1])"
   ]
  },
  {
   "cell_type": "code",
   "execution_count": 12,
   "id": "54b7c23f-21c1-4637-9c42-1223a5a3e78e",
   "metadata": {},
   "outputs": [
    {
     "data": {
      "image/png": "[encoded data removed]",
      "text/plain": [
       "<Figure size 864x576 with 4 Axes>"
      ]
     },
     "metadata": {
      "needs_background": "light"
     },
     "output_type": "display_data"
    }
   ],
   "source": [
    "fig, ax = plt.subplots(2, 2, figsize = (12, 8))\n",
    "\n",
    "ax[0, 0].hist(df_male['Weight'], bins = 20);\n",
    "ax[0, 1].hist(df_male['Percent Fat'], bins = 20);\n",
    "ax[1, 0].hist(df_female['Weight'], bins = 20);\n",
    "ax[1, 1].hist(df_female['Percent Fat'], bins = 20);"
   ]
  },
  {
   "cell_type": "code",
   "execution_count": 11,
   "id": "2b1dd074-58cd-4273-afa9-acfda49cce3e",
   "metadata": {},
   "outputs": [],
   "source": [
    "'''\n",
    "Table 1\n",
    "Basic sample characteristics – men.\n",
    "\n",
    "Variable\tCount\tMean\tStandard deviation\n",
    "BMI\t120\t26.8\t3.9\n",
    "Weight [kg]\t120\t84.4\t13.2\n",
    "Fat percentage\t120\t23.3\t7.0\n",
    "Age [years]\t120\t46.1\t16.6\n",
    "Height [cm]\t120\t176.9\t7.6\n",
    "BPs [mmHg]\t120\t133.1\t17.0\n",
    "BPd [mmHg]\t120\t82.5\t11.6\n",
    "BMI – Body Mass Index [kg/m2]; Fat percentage – percentage of total body fat [%]; BPs – systolic blood pressure; BPd – diastolic blood pressure.\n",
    "''';"
   ]
  },
  {
   "cell_type": "code",
   "execution_count": 10,
   "id": "670de13d-bfe7-4ab3-8232-83d5dab065f1",
   "metadata": {},
   "outputs": [],
   "source": [
    "'''\n",
    "Table 1\n",
    "Basic sample characteristics – men.\n",
    "\n",
    "Variable\tCount\tMean\tStandard deviation\n",
    "BMI\t120\t26.8\t3.9\n",
    "Weight [kg]\t120\t84.4\t13.2\n",
    "Fat percentage\t120\t23.3\t7.0\n",
    "Age [years]\t120\t46.1\t16.6\n",
    "Height [cm]\t120\t176.9\t7.6\n",
    "BPs [mmHg]\t120\t133.1\t17.0\n",
    "BPd [mmHg]\t120\t82.5\t11.6\n",
    "BMI – Body Mass Index [kg/m2]; Fat percentage – percentage of total body fat [%]; BPs – systolic blood pressure; BPd – diastolic blood pressure.\n",
    "''';"
   ]
  },
  {
   "cell_type": "code",
   "execution_count": null,
   "id": "1b125d0c-9543-4b0e-845b-ff36710ff852",
   "metadata": {},
   "outputs": [],
   "source": []
  },
  {
   "cell_type": "markdown",
   "id": "f846fdee-0803-41af-8910-8c6454e85ba0",
   "metadata": {},
   "source": [
    "## References\n",
    "[X] CDC, 2021, High Blood Pressure Symptoms and Causes, Available at:<br>\n",
    "[Ref X](https://www.cdc.gov/bloodpressure/about.htm) (Accessed 08 December 2021).<br>\n",
    "\n",
    "<br>\n",
    "\n",
    "[X]. Singh, S, 2019, Getting the Basics of Correlation & Covariance, Available at:<br>\n",
    "[Ref X](https://towardsdatascience.com/getting-the-basics-of-correlation-covariance-c8fc110b90b4) (Accessed 07 December 2021).\n",
    "\n",
    "\n",
    "<br>\n",
    "\n",
    "Justin, B, et al. (2013), Risk Models to Predict Hypertension: A Systematic Review, Plos One, Availabile at:<br>\n",
    "[Ref X](https://www.ncbi.nlm.nih.gov/pmc/articles/PMC3702558/) (Accessed 08 December 2021).\n",
    "\n",
    "<br>\n",
    "\n",
    "\n",
    "\n",
    "<br>\n",
    "\n",
    "\n",
    "\n",
    "<br>\n",
    "\n",
    "\n",
    "\n",
    "<br>\n",
    "\n",
    "\n",
    "\n",
    "<br>\n",
    "\n",
    "\n",
    "\n",
    "<br>\n",
    "\n",
    "\n",
    "\n",
    "<br>\n",
    "\n",
    "\n",
    "\n",
    "<br>\n",
    "\n",
    "\n",
    "\n",
    "<br>\n",
    "\n",
    "\n",
    "\n",
    "<br>\n"
   ]
  },
  {
   "cell_type": "code",
   "execution_count": null,
   "id": "4f15cdf2-e84a-46c8-8b7c-8f5d9e6c6285",
   "metadata": {},
   "outputs": [],
   "source": []
  }
 ],
 "metadata": {
  "kernelspec": {
   "display_name": "Python 3",
   "language": "python",
   "name": "python3"
  },
  "language_info": {
   "codemirror_mode": {
    "name": "ipython",
    "version": 3
   },
   "file_extension": ".py",
   "mimetype": "text/x-python",
   "name": "python",
   "nbconvert_exporter": "python",
   "pygments_lexer": "ipython3",
   "version": "3.8.8"
  }
 },
 "nbformat": 4,
 "nbformat_minor": 5
}

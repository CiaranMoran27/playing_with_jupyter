{
 "cells": [
  {
   "cell_type": "markdown",
   "id": "6372b1f0-bc0b-49ff-959d-0c8bd0ba685d",
   "metadata": {},
   "source": [
    "# CAO Points Analysis\n",
    "***"
   ]
  },
  {
   "cell_type": "code",
   "execution_count": 1,
   "id": "be14c9da-91d1-437f-812a-491c391cb23b",
   "metadata": {},
   "outputs": [],
   "source": [
    "# import required libraries\n",
    "import requests as rq             # Convenient HTTP requests.\n",
    "import re                         # Regular expressions.\n",
    "import datetime as dt              "
   ]
  },
  {
   "cell_type": "code",
   "execution_count": 2,
   "id": "f1a9bf50-9b34-429b-8074-894e3aa91301",
   "metadata": {},
   "outputs": [
    {
     "data": {
      "text/plain": [
       "<Response [200]>"
      ]
     },
     "execution_count": 2,
     "metadata": {},
     "output_type": "execute_result"
    }
   ],
   "source": [
    "# Make a get request to 2021 CAO points URL\n",
    "response = rq.get('http://www2.cao.ie/points/l8.php')\n",
    "\n",
    "# Check that value = 200 (in which case a connection is made).\n",
    "response"
   ]
  },
  {
   "cell_type": "code",
   "execution_count": 3,
   "id": "f657e2dc-7485-4859-bb82-b4b443a2f576",
   "metadata": {},
   "outputs": [],
   "source": [
    "# Get the current date and time in desired string format\n",
    "nowstr = dt.datetime.now().strftime('%Y%m%d_%H%M%S')"
   ]
  },
  {
   "cell_type": "markdown",
   "id": "992d01be-6a5b-4d6b-9ee0-0de7476e01bc",
   "metadata": {},
   "source": [
    "<br>\n",
    "\n",
    "**Error on server** <br>\n",
    "The Server indicated one should decode as per: Content-Type: text/html; charset=iso-8859-1. However, one line of the html uses<br> \n",
    "\\x96 which isn't defined in iso-8859-1. Therefore the similar decoding standard cp1252 will be  used. This standard is very similar but<br>\n",
    "includes \\x96."
   ]
  },
  {
   "cell_type": "code",
   "execution_count": 5,
   "id": "75911ea5-4d99-4769-8477-b059781ee681",
   "metadata": {},
   "outputs": [],
   "source": [
    "# Specify encoding method as cp1252\n",
    "response.encoding = 'cp1252'"
   ]
  },
  {
   "cell_type": "code",
   "execution_count": 5,
   "id": "2f4ebf4d-cc29-4817-a4ab-0be001ae9eb6",
   "metadata": {},
   "outputs": [],
   "source": [
    "\n",
    "# Compile the regular expression for matching lines.\n",
    "re_course = re.compile(r'([A-Z]{2}[0-9]{3})  (.*)(#?)(?:([AQ]{3})|([V]{1})|([0-9]{3}))(\\*?) *')\n",
    "\n",
    "\n",
    "# Regular Expression breakdown:          Explanation for what characters will be parsed:    \n",
    "\n",
    "# ([A-Z]{2}[0-9]{3})                     first 2 chars (A-Z), next 3 chars, 0-9 followed by two spaces\n",
    "# (.*)                                   Matches any single character except newline zero or more times\n",
    "# (?:([AQ]{3})|([V]{1})|([0-9]{3}))      Match (3 x [AQ]) or (1 x V) or (3 x [0-9]) zero or one time\n",
    "# (\\*?) *'                              \\(escaped) \"*\" so dont treat it as quantifier, treat it by itself. Zero or one * character \"?\" \n",
    "# space *                               any number of spaces\n"
   ]
  },
  {
   "cell_type": "code",
   "execution_count": 6,
   "id": "47e52d97-c8fd-42c6-b741-134abd25c554",
   "metadata": {},
   "outputs": [
    {
     "name": "stdout",
     "output_type": "stream",
     "text": [
      "Total number of lines is 923.\n"
     ]
    }
   ],
   "source": [
    "\n",
    "def fetch_2021_CAO_data(path):\n",
    "    \n",
    "    no_lines = 0                                        # Keep track of courses counted in loop\n",
    "    with open(path, 'w') as f:                          # Open the csv file for writing.          \n",
    "        for line in resp.iter_lines():                      # Loop through lines of the response \n",
    "            dline = line.decode('cp1252')                       # decode the line \n",
    "            if re_course.fullmatch(dline):                      # Match only the lines representing courses.       \n",
    "                no_lines = no_lines + 1                             # Add one to the lines counter if match occured      \n",
    "                dline_adj = re.sub(\" \", \"  \", dline, count=1)       # Substitute first space character with double space     \n",
    "                linesplit = re.split('   +', dline_adj)             # Split the line on three or more spaces.  \n",
    "                f.write(','.join(linesplit) + '\\n')                 # Rejoin the substrings with commas in between.       \n",
    "    \n",
    "    print(f\"Total number of lines is {no_lines}.\")     # Print the total number of processed lines\n",
    "    \n",
    "\n",
    "write_path = 'data/cao2021_csv_' + nowstr + '.csv'          \n",
    "fetch_2021_CAO_data(write_path)"
   ]
  },
  {
   "cell_type": "code",
   "execution_count": 10,
   "id": "99cf35f6-7aa9-4308-b2e1-86431969a9fb",
   "metadata": {},
   "outputs": [],
   "source": [
    "# get data in  correct format "
   ]
  },
  {
   "cell_type": "code",
   "execution_count": null,
   "id": "f0f3628a-9d93-4663-8f09-c54e37c18923",
   "metadata": {},
   "outputs": [],
   "source": []
  },
  {
   "cell_type": "code",
   "execution_count": null,
   "id": "a0e35682-e857-4a63-be1e-74a1312969ee",
   "metadata": {},
   "outputs": [],
   "source": []
  },
  {
   "cell_type": "code",
   "execution_count": null,
   "id": "28a0f8d3-306a-4de5-954f-f40e6688518e",
   "metadata": {},
   "outputs": [],
   "source": []
  },
  {
   "cell_type": "code",
   "execution_count": null,
   "id": "a7098cff-c947-4410-9b5e-2b28375f9501",
   "metadata": {},
   "outputs": [],
   "source": []
  },
  {
   "cell_type": "code",
   "execution_count": null,
   "id": "841d0678-0374-4f2a-bf20-2bdc51d2ae2c",
   "metadata": {},
   "outputs": [],
   "source": []
  },
  {
   "cell_type": "code",
   "execution_count": null,
   "id": "23fe2337-20b8-48d9-a3b4-f1227ee5eedb",
   "metadata": {},
   "outputs": [],
   "source": []
  },
  {
   "cell_type": "code",
   "execution_count": null,
   "id": "84bdc6ad-cea7-42d4-9591-93472e997f31",
   "metadata": {},
   "outputs": [],
   "source": []
  },
  {
   "cell_type": "code",
   "execution_count": null,
   "id": "8fd1c0b2-8a51-42fb-8639-00765e38ef1c",
   "metadata": {},
   "outputs": [],
   "source": []
  }
 ],
 "metadata": {
  "kernelspec": {
   "display_name": "Python 3",
   "language": "python",
   "name": "python3"
  },
  "language_info": {
   "codemirror_mode": {
    "name": "ipython",
    "version": 3
   },
   "file_extension": ".py",
   "mimetype": "text/x-python",
   "name": "python",
   "nbconvert_exporter": "python",
   "pygments_lexer": "ipython3",
   "version": "3.8.8"
  }
 },
 "nbformat": 4,
 "nbformat_minor": 5
}

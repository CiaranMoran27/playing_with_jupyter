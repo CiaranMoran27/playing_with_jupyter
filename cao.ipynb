{
 "cells": [
  {
   "cell_type": "markdown",
   "id": "6372b1f0-bc0b-49ff-959d-0c8bd0ba685d",
   "metadata": {},
   "source": [
    "# CAO Points Analysis\n",
    "## Acquiring the data\n",
    "***"
   ]
  },
  {
   "cell_type": "markdown",
   "id": "2fe84d05-db34-44a1-9f7c-34738276ce52",
   "metadata": {},
   "source": [
    "### 2021 [link](http://www.cao.ie/index.php?page=points&p=2021)"
   ]
  },
  {
   "cell_type": "code",
   "execution_count": 1,
   "id": "be14c9da-91d1-437f-812a-491c391cb23b",
   "metadata": {},
   "outputs": [],
   "source": [
    "# import required libraries\n",
    "import requests as rq             # Convenient HTTP requests.\n",
    "import re                         # Regular expressions.\n",
    "import datetime as dt    \n",
    "import pandas as pd\n",
    "import numpy as np"
   ]
  },
  {
   "cell_type": "code",
   "execution_count": 2,
   "id": "f1a9bf50-9b34-429b-8074-894e3aa91301",
   "metadata": {},
   "outputs": [
    {
     "data": {
      "text/plain": [
       "<Response [200]>"
      ]
     },
     "execution_count": 2,
     "metadata": {},
     "output_type": "execute_result"
    }
   ],
   "source": [
    "# Make a get request to 2021 CAO points URL\n",
    "resp = rq.get('http://www2.cao.ie/points/l8.php')\n",
    "\n",
    "# Check that value = 200 (in which case a connection is made).\n",
    "resp"
   ]
  },
  {
   "cell_type": "markdown",
   "id": "992d01be-6a5b-4d6b-9ee0-0de7476e01bc",
   "metadata": {},
   "source": [
    "<br>\n",
    "\n",
    "**Encoding note:<br>Error on server** <br>\n",
    "The Server indicated one should decode as per: Content-Type: text/html; charset=iso-8859-1. However, one line of the html uses<br> \n",
    "\\x96 which isn't defined in iso-8859-1. Therefore the similar decoding standard cp1252 will be  used. This standard is very similar but<br>\n",
    "includes \\x96."
   ]
  },
  {
   "cell_type": "code",
   "execution_count": 3,
   "id": "75911ea5-4d99-4769-8477-b059781ee681",
   "metadata": {},
   "outputs": [],
   "source": [
    "# Specify encoding method \n",
    "resp.encoding = 'cp1252'\n",
    "\n",
    "# Create a file path for the original data.\n",
    "html_path = 'data/cao_2021_raw_data.html'\n",
    "\n",
    "# Save original html file\n",
    "with open(html_path, 'w') as f:\n",
    "    f.write(resp.text)"
   ]
  },
  {
   "cell_type": "code",
   "execution_count": 4,
   "id": "47e52d97-c8fd-42c6-b741-134abd25c554",
   "metadata": {},
   "outputs": [
    {
     "name": "stdout",
     "output_type": "stream",
     "text": [
      "Total number of lines is lines is 949.\n",
      "This was manually verified against\"cao_2021_raw_data.html.\n"
     ]
    }
   ],
   "source": [
    "\n",
    "def scrape_html_from_website(path, regex):\n",
    "    \n",
    "    num_lines = 0                                       # Keep track of courses counted in loop\n",
    "    with open(path, 'w') as f:                          # Open the csv file for writing.          \n",
    "        for line in resp.iter_lines():                      # Loop through lines of the response \n",
    "            dline = line.decode('cp1252')                       # decode the line \n",
    "            if regex.fullmatch(dline):                          # Match only the lines representing courses.       \n",
    "                num_lines = num_lines + 1                           # Add one to the lines counter if match occured      \n",
    "                course_code = dline[:5]                             # isolate course code \n",
    "                course_title = dline[7:57].strip()                  # isolate course title         \n",
    "                course_points = re.split(' +', dline[60:])          # split string when on one or more spaces               \n",
    "                \n",
    "                if len(course_points) != 2:                   # if list length not equal to 2         \n",
    "                    course_points = course_points[:2]         # then retain first two elements of list\n",
    "                   \n",
    "                linesplit = [course_code, course_title, course_points[0], course_points[1]]\n",
    "                f.write(','.join(linesplit) + '\\n')\n",
    "    \n",
    "    print('Total number of lines is lines is {}.\\nThis was manually verified against\\\n",
    "\"cao_2021_raw_data.html.'.format(num_lines))  \n",
    "    \n",
    "# Compile the regular expression for matching lines\n",
    "    # ([A-Z]{2}[0-9]{3}) matches A-Z x2 characters, 0-9  x3 characters\n",
    "    # (.*) Matches any single character except newline zero or more times \n",
    "re_course = re.compile(r'([A-Z]{2}[0-9]{3})(.*)')  \n",
    "\n",
    "# write parsed data to csv file\n",
    "write_path = 'data/cao_2021_final_data.csv'         \n",
    "scrape_html_from_website(write_path, re_course)"
   ]
  },
  {
   "cell_type": "markdown",
   "id": "ef6c7485-a78d-4a9e-9a28-7cbe9c3777d2",
   "metadata": {},
   "source": [
    "### 2020 [link](http://www2.cao.ie/points/CAOPointsCharts2020.xlsx)\n",
    "***"
   ]
  },
  {
   "cell_type": "code",
   "execution_count": 5,
   "id": "874a2c95-7733-49fa-9e12-09fdc9e79461",
   "metadata": {},
   "outputs": [],
   "source": [
    "url2020 = 'http://www2.cao.ie/points/CAOPointsCharts2020.xlsx'\n",
    "\n",
    "# request url and write data to disc\n",
    "resp = rq.get(url2020)                  \n",
    "\n",
    "# open file for writing in binary mode\n",
    "output = open('data/cao_2020_raw_data.xlsx', 'wb')    \n",
    "output.write(resp.content)\n",
    "output.close() "
   ]
  },
  {
   "cell_type": "code",
   "execution_count": 6,
   "id": "a0e35682-e857-4a63-be1e-74a1312969ee",
   "metadata": {},
   "outputs": [],
   "source": [
    "def data_handler_2020(url):       \n",
    "    df = pd.read_excel(url, skiprows = 10)               # read excel & skip first 10 rows (irrelevant)\n",
    "    df = df.iloc[: , :-8]                                # drop last 8 columns  \n",
    "    df = df.loc[df.loc[:, 'LEVEL'] == 8]                 # filter df for level 8 courses          \n",
    "    return df\n",
    "\n",
    "df_2020 = data_handler_2020(url2020)\n",
    "\n",
    "# Save dataframe to disk.\n",
    "write_path = 'data/cao_2020_final_data.csv'\n",
    "df_2020.to_csv(write_path, encoding = \"utf-8\")"
   ]
  },
  {
   "cell_type": "code",
   "execution_count": 7,
   "id": "28a0f8d3-306a-4de5-954f-f40e6688518e",
   "metadata": {},
   "outputs": [
    {
     "name": "stdout",
     "output_type": "stream",
     "text": [
      "CATEGORY (i.e.ISCED description)    Engineering and engineering trades\n",
      "COURSE TITLE                                     Aerospace Engineering\n",
      "COURSE CODE2                                                     CW568\n",
      "R1 POINTS                                                          380\n",
      "R1 Random *                                                        NaN\n",
      "R2 POINTS                                                          NaN\n",
      "R2 Random*                                                         NaN\n",
      "EOS                                                                380\n",
      "EOS Random *                                                       NaN\n",
      "EOS Mid-point                                                      442\n",
      "LEVEL                                                                8\n",
      "HEI                                    Institute of Technology, Carlow\n",
      "Test/Interview #                                                   NaN\n",
      "avp                                                                NaN\n",
      "v                                                                  NaN\n",
      "Name: 282, dtype: object\n",
      "CATEGORY (i.e.ISCED description)          Engineering and engineering trades\n",
      "COURSE TITLE                        Mechanical and Manufacturing Engineering\n",
      "COURSE CODE2                                                           WD230\n",
      "R1 POINTS                                                                253\n",
      "R1 Random *                                                              NaN\n",
      "R2 POINTS                                                                NaN\n",
      "R2 Random*                                                               NaN\n",
      "EOS                                                                      253\n",
      "EOS Random *                                                             NaN\n",
      "EOS Mid-point                                                            369\n",
      "LEVEL                                                                      8\n",
      "HEI                                        Waterford Institute of Technology\n",
      "Test/Interview #                                                         NaN\n",
      "avp                                                                      NaN\n",
      "v                                                                        NaN\n",
      "Name: 1463, dtype: object\n"
     ]
    }
   ],
   "source": [
    "# Spot check a random row.\n",
    "print(df_2020.iloc[189])\n",
    "\n",
    "# Spot check last row.\n",
    "print(df_2020.iloc[-1])"
   ]
  },
  {
   "cell_type": "markdown",
   "id": "9950f85a-1502-4565-bf8e-36abd02e8d5e",
   "metadata": {},
   "source": [
    "### 2019"
   ]
  },
  {
   "cell_type": "code",
   "execution_count": 8,
   "id": "841d0678-0374-4f2a-bf20-2bdc51d2ae2c",
   "metadata": {},
   "outputs": [],
   "source": [
    "import urllib3\n",
    "import pdfplumber\n",
    "import io\n",
    "\n",
    "\n",
    "def scrape_pdf_from_website(url):\n",
    "    http = urllib3.PoolManager()                                   # instansiate pool manager object for sending requests\n",
    "    temp_binary = io.BytesIO()                                     # create instance for storing binary data\n",
    "    temp_binary.write(http.request(\"GET\", url).data)               # request url data and write to temp_binary storage\n",
    "    \n",
    "    data_final = ''  \n",
    "    with pdfplumber.open(temp_binary) as pdf:                      # open storage object      \n",
    "        for page in pdf.pages:                                         # iterate pages of pdf object\n",
    "            data = page.extract_text()                                 # extract text of page\n",
    "            data_final += data                                         # concatenates text to data_final variable\n",
    "    return data_final\n",
    "\n",
    "url  = 'http://www2.cao.ie/points/lvl8_19.pdf'\n",
    "pdf_text = scrape_pdf_from_website(url)"
   ]
  },
  {
   "cell_type": "code",
   "execution_count": 9,
   "id": "23fe2337-20b8-48d9-a3b4-f1227ee5eedb",
   "metadata": {},
   "outputs": [
    {
     "name": "stdout",
     "output_type": "stream",
     "text": [
      "NB: it was verified as of 26/11/2021 that there were 930 courses exactly in the CAO 2019 points list.\n"
     ]
    }
   ],
   "source": [
    "def data_handler_2019(regex, line_splitter, text):\n",
    "    \n",
    "    df_data = []                                                   # placeholder to add list of rows to\n",
    "    #print(text)\n",
    "    #for char in text:                                         # iterate file chars  \n",
    "    for match in re.finditer(regex, text):                    # iterate matches each line\n",
    "        course_code = match.group()[0:6]                           # isolate course code\n",
    "        rest_of_line =  match.group()[6:]                          # isolate all of line after course code \n",
    "        rest_of_line = re.split(line_splitter ,rest_of_line)           # split lines using passed criteria\n",
    "        df_data.append([course_code] + rest_of_line)\n",
    "                        \n",
    "    df = pd.DataFrame(df_data)                                # convert array to dataframe\n",
    "    return df\n",
    "\n",
    "\n",
    "# regex statement (will isolate all lines starting with course code)\n",
    "regex = re.compile(r'([A-Z]{2}[0-9]{3})(.*)')\n",
    "line_split_conditions = '(#\\d{3}\\* |#\\d{2}\\* |\\d{3}\\* |\\d{2}\\* |\\d{3} |\\d{2} |#\\d{3} |#\\d{2} |# \\+matric|#)'\n",
    "\n",
    "df_2019 = data_handler_2019(regex, line_split_conditions, pdf_text)\n",
    "df_2019.to_csv('data/cao_2019_final.csv')\n",
    "\n",
    "print('NB: it was verified as of 26/11/2021 that there were {} courses exactly in the CAO 2019 points list.'\n",
    "      .format(len(df_2019.index)))\n"
   ]
  },
  {
   "cell_type": "code",
   "execution_count": 10,
   "id": "28977767-cd2d-4a71-a0a1-473e25fc9d1d",
   "metadata": {},
   "outputs": [
    {
     "name": "stdout",
     "output_type": "stream",
     "text": [
      "0        CW708 \n",
      "1    Law - LLB \n",
      "2          298 \n",
      "3           328\n",
      "Name: 50, dtype: object\n",
      "0                                       WD230 \n",
      "1    Mechanical and Manufacturing Engineering \n",
      "2                                         273 \n",
      "3                                          348\n",
      "Name: 929, dtype: object\n"
     ]
    }
   ],
   "source": [
    "# Spot check a random row.\n",
    "print(df_2019.iloc[50])\n",
    "\n",
    "# Spot chcek last row.\n",
    "print(df_2019.iloc[-1])"
   ]
  },
  {
   "cell_type": "markdown",
   "id": "57dd9f2a-17bc-4185-ab1c-03995bd2a048",
   "metadata": {},
   "source": [
    "<br>\n",
    "\n",
    "## Joining the data"
   ]
  },
  {
   "cell_type": "markdown",
   "id": "19904160-9682-47d7-9cf3-ca65404463cc",
   "metadata": {},
   "source": [
    "### Get unique course codes\n",
    "***"
   ]
  },
  {
   "cell_type": "code",
   "execution_count": 11,
   "id": "963b0779-fd47-4635-a01b-2a7239e85a93",
   "metadata": {},
   "outputs": [],
   "source": [
    "# read in 2021 data from csv and convert to dataframe\n",
    "df_2021 =  pd.read_csv('data/cao_2021_final_data.csv', encoding ='cp1252', header = None)"
   ]
  },
  {
   "cell_type": "code",
   "execution_count": 12,
   "id": "1b4da400-0633-4547-b0b4-3ec0bf7b886c",
   "metadata": {},
   "outputs": [],
   "source": [
    "# isolate wanted cols from 2020 data and then rename them\n",
    "df_2020 = df_2020[['COURSE CODE2', 'COURSE TITLE', 'CATEGORY (i.e.ISCED description)', 'HEI', 'R1 POINTS', 'R2 POINTS','R1 Random *', 'R2 Random*', 'Test/Interview #']]\n",
    "df_2020.columns = ['code', 'title', 'category', 'institution', 'points_r1_2020', 'points_r2_2020', '*r1_2020', '*r2_2020', '#Test/Interview2020']    \n",
    "df_2021.columns = ['code', 'title', 'points_r1_2021', 'points_r2_2021']  \n",
    "df_2019.columns = ['code', 'title', 'points_r1_2019', 'points_r2_2019'] \n",
    "\n",
    "# remove trailing / leading spaces on code col of all dfs\n",
    "df_2021['code'] = df_2021['code'].str.strip() \n",
    "df_2020['code'] = df_2020['code'].str.strip()\n",
    "df_2019['code'] = df_2019['code'].str.strip() "
   ]
  },
  {
   "cell_type": "code",
   "execution_count": 13,
   "id": "07963bf1-53f3-4542-a59a-4ee128a8a391",
   "metadata": {},
   "outputs": [],
   "source": [
    "# isolate code and title cols (first two cols) accross all datframes\n",
    "courses_2019 = df_2019[['code', 'title']]\n",
    "courses_2020 = df_2020[['code', 'title']]              \n",
    "courses_2021 = df_2021[['code', 'title']]"
   ]
  },
  {
   "cell_type": "code",
   "execution_count": 14,
   "id": "4fddec80-212c-4fd3-9628-4555395be904",
   "metadata": {},
   "outputs": [
    {
     "name": "stdout",
     "output_type": "stream",
     "text": [
      "Shapes:\n",
      "courses_2019 = (930, 2)\n",
      "courses_2020 = (1027, 2)\n",
      "courses_2021 = (949, 2)\n",
      "all_courses  = (2906, 2)\n"
     ]
    }
   ],
   "source": [
    "# append the three dataframes and sort code alphabetically\n",
    "all_courses = pd.concat([courses_2021, courses_2020, courses_2019], ignore_index = True)\n",
    "all_courses.sort_values('code')\n",
    "\n",
    "print('Shapes:\\ncourses_2019 = {}\\ncourses_2020 = {}\\ncourses_2021 = {}\\nall_courses  = {}'\n",
    "      .format(courses_2019.shape,courses_2020.shape,courses_2021.shape, all_courses.shape))"
   ]
  },
  {
   "cell_type": "code",
   "execution_count": 15,
   "id": "b53a66d0-9306-4a2c-b74f-8a5fc1a8bf0d",
   "metadata": {},
   "outputs": [
    {
     "data": {
      "text/plain": [
       "code     1692\n",
       "title    1692\n",
       "dtype: int64"
      ]
     },
     "execution_count": 15,
     "metadata": {},
     "output_type": "execute_result"
    }
   ],
   "source": [
    "# return a count on boolean check for all code rows that are duplicates\n",
    "duplicated_code_rows = all_courses[all_courses.duplicated(subset = ['code'])].count()\n",
    "duplicated_code_rows"
   ]
  },
  {
   "cell_type": "code",
   "execution_count": 16,
   "id": "efb90a83-5b7e-45b8-9eb2-7988314afa58",
   "metadata": {},
   "outputs": [
    {
     "data": {
      "text/plain": [
       "(1214, 2)"
      ]
     },
     "execution_count": 16,
     "metadata": {},
     "output_type": "execute_result"
    }
   ],
   "source": [
    "# Returns a data frame with duplciates removed (based only on code)\n",
    "# i.e row count = concat (2906) - duplicated () = unique (2010)\n",
    "all_courses.drop_duplicates(subset = ['code'], inplace = True, ignore_index = True)\n",
    "all_courses.shape"
   ]
  },
  {
   "cell_type": "markdown",
   "id": "171ca7aa-c49e-42e0-ba0f-b0f4d950ad55",
   "metadata": {},
   "source": [
    "### Join Points Data\n",
    "***"
   ]
  },
  {
   "cell_type": "code",
   "execution_count": 17,
   "id": "f6f73143-64fb-4bb5-beb3-73e51b5ec0fe",
   "metadata": {},
   "outputs": [],
   "source": [
    "# join cols from 3x years while omitting the first two col names (code & title)\n",
    "# adopted from: https://stackoverflow.com/questions/23668427/pandas-three-way-joining-multiple-dataframes-on-columns\n",
    "\n",
    "# declarea wanted df and their cols in a list\n",
    "dfs = [all_courses, \n",
    "       df_2019[['code', 'points_r1_2019', 'points_r2_2019']],\n",
    "       df_2020[['code', 'points_r1_2020', 'points_r2_2020','*r1_2020', '*r2_2020', '#Test/Interview2020']], \n",
    "       df_2021[['code', 'points_r1_2021', 'points_r2_2021']]\n",
    "      ]"
   ]
  },
  {
   "cell_type": "code",
   "execution_count": 18,
   "id": "d3033a7b-8d1f-4c21-94b9-3ce97c7fb23c",
   "metadata": {},
   "outputs": [],
   "source": [
    "# set index val for each df\n",
    "dfs = [df.set_index('code') for df in dfs]      \n",
    "\n",
    "# join all dfs after first to the first df\n",
    "all_courses = dfs[0].join(dfs[1:])"
   ]
  },
  {
   "cell_type": "code",
   "execution_count": 27,
   "id": "81795f83-b2a8-4b08-83b4-e1ee296fa855",
   "metadata": {},
   "outputs": [
    {
     "data": {
      "text/html": [
       "<div>\n",
       "<style scoped>\n",
       "    .dataframe tbody tr th:only-of-type {\n",
       "        vertical-align: middle;\n",
       "    }\n",
       "\n",
       "    .dataframe tbody tr th {\n",
       "        vertical-align: top;\n",
       "    }\n",
       "\n",
       "    .dataframe thead th {\n",
       "        text-align: right;\n",
       "    }\n",
       "</style>\n",
       "<table border=\"1\" class=\"dataframe\">\n",
       "  <thead>\n",
       "    <tr style=\"text-align: right;\">\n",
       "      <th></th>\n",
       "      <th>institution_letters</th>\n",
       "      <th>title</th>\n",
       "      <th>points_r1_2019</th>\n",
       "      <th>points_r2_2019</th>\n",
       "      <th>points_r1_2020</th>\n",
       "      <th>points_r2_2020</th>\n",
       "      <th>*r1_2020</th>\n",
       "      <th>*r2_2020</th>\n",
       "      <th>#Test/Interview2020</th>\n",
       "      <th>points_r1_2021</th>\n",
       "      <th>points_r2_2021</th>\n",
       "      <th>institution</th>\n",
       "      <th>category</th>\n",
       "    </tr>\n",
       "    <tr>\n",
       "      <th>code</th>\n",
       "      <th></th>\n",
       "      <th></th>\n",
       "      <th></th>\n",
       "      <th></th>\n",
       "      <th></th>\n",
       "      <th></th>\n",
       "      <th></th>\n",
       "      <th></th>\n",
       "      <th></th>\n",
       "      <th></th>\n",
       "      <th></th>\n",
       "      <th></th>\n",
       "      <th></th>\n",
       "    </tr>\n",
       "  </thead>\n",
       "  <tbody>\n",
       "    <tr>\n",
       "      <th>AC120</th>\n",
       "      <td>AC</td>\n",
       "      <td>International Business</td>\n",
       "      <td>234</td>\n",
       "      <td>269</td>\n",
       "      <td>209</td>\n",
       "      <td>NaN</td>\n",
       "      <td>NaN</td>\n",
       "      <td>NaN</td>\n",
       "      <td>NaN</td>\n",
       "      <td>294</td>\n",
       "      <td>294</td>\n",
       "      <td>American College</td>\n",
       "      <td>Business and administration</td>\n",
       "    </tr>\n",
       "    <tr>\n",
       "      <th>AC137</th>\n",
       "      <td>AC</td>\n",
       "      <td>Liberal Arts</td>\n",
       "      <td>252</td>\n",
       "      <td>275</td>\n",
       "      <td>252</td>\n",
       "      <td>NaN</td>\n",
       "      <td>NaN</td>\n",
       "      <td>NaN</td>\n",
       "      <td>NaN</td>\n",
       "      <td>271</td>\n",
       "      <td>270</td>\n",
       "      <td>American College</td>\n",
       "      <td>Humanities (except languages)</td>\n",
       "    </tr>\n",
       "    <tr>\n",
       "      <th>AD101</th>\n",
       "      <td>AD</td>\n",
       "      <td>First Year Art and Design (Common Entry portfo...</td>\n",
       "      <td># +matric</td>\n",
       "      <td>550</td>\n",
       "      <td>#+matric</td>\n",
       "      <td>NaN</td>\n",
       "      <td>NaN</td>\n",
       "      <td>NaN</td>\n",
       "      <td>#</td>\n",
       "      <td>#554</td>\n",
       "      <td>NaN</td>\n",
       "      <td>National College of Art and Design</td>\n",
       "      <td>Arts</td>\n",
       "    </tr>\n",
       "    <tr>\n",
       "      <th>AD102</th>\n",
       "      <td>AD</td>\n",
       "      <td>Graphic Design and Moving Image Design (portfo...</td>\n",
       "      <td># +matric</td>\n",
       "      <td>635</td>\n",
       "      <td>#+matric</td>\n",
       "      <td>NaN</td>\n",
       "      <td>NaN</td>\n",
       "      <td>NaN</td>\n",
       "      <td>#</td>\n",
       "      <td>#538</td>\n",
       "      <td>NaN</td>\n",
       "      <td>National College of Art and Design</td>\n",
       "      <td>Arts</td>\n",
       "    </tr>\n",
       "    <tr>\n",
       "      <th>AD103</th>\n",
       "      <td>AD</td>\n",
       "      <td>Textile and Surface Design and Jewellery and O...</td>\n",
       "      <td># +matric</td>\n",
       "      <td>545</td>\n",
       "      <td>#+matric</td>\n",
       "      <td>NaN</td>\n",
       "      <td>NaN</td>\n",
       "      <td>NaN</td>\n",
       "      <td>#</td>\n",
       "      <td>#505</td>\n",
       "      <td>NaN</td>\n",
       "      <td>National College of Art and Design</td>\n",
       "      <td>Arts</td>\n",
       "    </tr>\n",
       "  </tbody>\n",
       "</table>\n",
       "</div>"
      ],
      "text/plain": [
       "      institution_letters                                              title  \\\n",
       "code                                                                           \n",
       "AC120                  AC                             International Business   \n",
       "AC137                  AC                                       Liberal Arts   \n",
       "AD101                  AD  First Year Art and Design (Common Entry portfo...   \n",
       "AD102                  AD  Graphic Design and Moving Image Design (portfo...   \n",
       "AD103                  AD  Textile and Surface Design and Jewellery and O...   \n",
       "\n",
       "      points_r1_2019 points_r2_2019 points_r1_2020 points_r2_2020 *r1_2020  \\\n",
       "code                                                                         \n",
       "AC120           234             269            209            NaN      NaN   \n",
       "AC137           252             275            252            NaN      NaN   \n",
       "AD101      # +matric            550       #+matric            NaN      NaN   \n",
       "AD102      # +matric            635       #+matric            NaN      NaN   \n",
       "AD103      # +matric            545       #+matric            NaN      NaN   \n",
       "\n",
       "      *r2_2020 #Test/Interview2020 points_r1_2021 points_r2_2021  \\\n",
       "code                                                               \n",
       "AC120      NaN                 NaN            294            294   \n",
       "AC137      NaN                 NaN            271            270   \n",
       "AD101      NaN                   #           #554            NaN   \n",
       "AD102      NaN                   #           #538            NaN   \n",
       "AD103      NaN                   #           #505            NaN   \n",
       "\n",
       "                              institution                       category  \n",
       "code                                                                      \n",
       "AC120                    American College    Business and administration  \n",
       "AC137                    American College  Humanities (except languages)  \n",
       "AD101  National College of Art and Design                           Arts  \n",
       "AD102  National College of Art and Design                           Arts  \n",
       "AD103  National College of Art and Design                           Arts  "
      ]
     },
     "execution_count": 27,
     "metadata": {},
     "output_type": "execute_result"
    }
   ],
   "source": [
    "all_courses.head(5)"
   ]
  },
  {
   "cell_type": "markdown",
   "id": "a80900b1-f019-4880-bd30-6589ba41a025",
   "metadata": {},
   "source": [
    "### Join Institute Data\n",
    "***"
   ]
  },
  {
   "cell_type": "code",
   "execution_count": 20,
   "id": "bfca8b7a-647c-43cd-b345-06efcf7c3175",
   "metadata": {},
   "outputs": [
    {
     "name": "stdout",
     "output_type": "stream",
     "text": [
      "(34, 1)\n"
     ]
    },
    {
     "data": {
      "text/html": [
       "<div>\n",
       "<style scoped>\n",
       "    .dataframe tbody tr th:only-of-type {\n",
       "        vertical-align: middle;\n",
       "    }\n",
       "\n",
       "    .dataframe tbody tr th {\n",
       "        vertical-align: top;\n",
       "    }\n",
       "\n",
       "    .dataframe thead th {\n",
       "        text-align: right;\n",
       "    }\n",
       "</style>\n",
       "<table border=\"1\" class=\"dataframe\">\n",
       "  <thead>\n",
       "    <tr style=\"text-align: right;\">\n",
       "      <th></th>\n",
       "      <th>institution</th>\n",
       "    </tr>\n",
       "    <tr>\n",
       "      <th>institution_letters</th>\n",
       "      <th></th>\n",
       "    </tr>\n",
       "  </thead>\n",
       "  <tbody>\n",
       "    <tr>\n",
       "      <th>AC</th>\n",
       "      <td>American College</td>\n",
       "    </tr>\n",
       "    <tr>\n",
       "      <th>AD</th>\n",
       "      <td>National College of Art and Design</td>\n",
       "    </tr>\n",
       "    <tr>\n",
       "      <th>AL</th>\n",
       "      <td>Athlone Institute of Technology</td>\n",
       "    </tr>\n",
       "    <tr>\n",
       "      <th>AS</th>\n",
       "      <td>St. Angela`s College</td>\n",
       "    </tr>\n",
       "    <tr>\n",
       "      <th>CI</th>\n",
       "      <td>Irish College of Humanities &amp; Applied Sciences</td>\n",
       "    </tr>\n",
       "  </tbody>\n",
       "</table>\n",
       "</div>"
      ],
      "text/plain": [
       "                                                        institution\n",
       "institution_letters                                                \n",
       "AC                                                 American College\n",
       "AD                               National College of Art and Design\n",
       "AL                                  Athlone Institute of Technology\n",
       "AS                                             St. Angela`s College\n",
       "CI                   Irish College of Humanities & Applied Sciences"
      ]
     },
     "execution_count": 20,
     "metadata": {},
     "output_type": "execute_result"
    }
   ],
   "source": [
    "# reset 2021 df index and define its code & institution cols  as new df \n",
    "institution_df = df_2020.reset_index()[['code', 'institution']]     \n",
    "\n",
    "# make new col with code letters, will be used to join institutes\n",
    "institution_df['institution_letters'] = institution_df['code'].str[:2]   \n",
    "\n",
    "# drop records that are duplicated (based on institution)\n",
    "institution_df.drop_duplicates(subset ='institution_letters', keep = \"last\", inplace = True)\n",
    "\n",
    "# drop code col\n",
    "institution_df.drop('code', axis = 1, inplace = True)\n",
    "institution_df.set_index('institution_letters', inplace = True)\n",
    "\n",
    "print(institution_df.shape)\n",
    "institution_df.head(5)"
   ]
  },
  {
   "cell_type": "code",
   "execution_count": 21,
   "id": "d4bb83f8-13e9-471b-b2bf-60d085a3448c",
   "metadata": {},
   "outputs": [
    {
     "name": "stdout",
     "output_type": "stream",
     "text": [
      "(38, 1)\n"
     ]
    },
    {
     "data": {
      "text/html": [
       "<div>\n",
       "<style scoped>\n",
       "    .dataframe tbody tr th:only-of-type {\n",
       "        vertical-align: middle;\n",
       "    }\n",
       "\n",
       "    .dataframe tbody tr th {\n",
       "        vertical-align: top;\n",
       "    }\n",
       "\n",
       "    .dataframe thead th {\n",
       "        text-align: right;\n",
       "    }\n",
       "</style>\n",
       "<table border=\"1\" class=\"dataframe\">\n",
       "  <thead>\n",
       "    <tr style=\"text-align: right;\">\n",
       "      <th></th>\n",
       "      <th>institution</th>\n",
       "    </tr>\n",
       "    <tr>\n",
       "      <th>institution_letters</th>\n",
       "      <th></th>\n",
       "    </tr>\n",
       "  </thead>\n",
       "  <tbody>\n",
       "    <tr>\n",
       "      <th>WD</th>\n",
       "      <td>Waterford Institute of Technology</td>\n",
       "    </tr>\n",
       "    <tr>\n",
       "      <th>BN</th>\n",
       "      <td>Technological University Dublin Blanchardstown...</td>\n",
       "    </tr>\n",
       "    <tr>\n",
       "      <th>BY</th>\n",
       "      <td>IBAT College Dublin</td>\n",
       "    </tr>\n",
       "    <tr>\n",
       "      <th>DT</th>\n",
       "      <td>Technological University Dublin City Campus</td>\n",
       "    </tr>\n",
       "    <tr>\n",
       "      <th>TA</th>\n",
       "      <td>Technological University Dublin Tallaght Campus</td>\n",
       "    </tr>\n",
       "  </tbody>\n",
       "</table>\n",
       "</div>"
      ],
      "text/plain": [
       "                                                           institution\n",
       "institution_letters                                                   \n",
       "WD                                   Waterford Institute of Technology\n",
       "BN                   Technological University Dublin Blanchardstown...\n",
       "BY                                                IBAT College Dublin \n",
       "DT                         Technological University Dublin City Campus\n",
       "TA                     Technological University Dublin Tallaght Campus"
      ]
     },
     "execution_count": 21,
     "metadata": {},
     "output_type": "execute_result"
    }
   ],
   "source": [
    "# make temp df to allow concat of missing institutions (this was manually checked on 01 Dec 2021)\n",
    "# declare new row dict\n",
    "new_rows = {'institution_letters': ['BN', 'BY', 'DT', 'TA'], \n",
    "            'institution': ['Technological University Dublin Blanchardstown Campus',\n",
    "                            'IBAT College Dublin ',\n",
    "                            'Technological University Dublin City Campus',\n",
    "                            'Technological University Dublin Tallaght Campus']}\n",
    "# convert dict to df\n",
    "temp_df = pd.DataFrame.from_dict(new_rows).set_index('institution_letters')\n",
    "\n",
    "# concat  temp df to institution df\n",
    "institution_df = pd.concat([institution_df, temp_df])\n",
    "\n",
    "print(institution_df.shape)\n",
    "institution_df.tail(5)"
   ]
  },
  {
   "cell_type": "code",
   "execution_count": 23,
   "id": "53977731-bd5c-4ce3-83fb-ffbc216d80fa",
   "metadata": {},
   "outputs": [
    {
     "data": {
      "text/html": [
       "<div>\n",
       "<style scoped>\n",
       "    .dataframe tbody tr th:only-of-type {\n",
       "        vertical-align: middle;\n",
       "    }\n",
       "\n",
       "    .dataframe tbody tr th {\n",
       "        vertical-align: top;\n",
       "    }\n",
       "\n",
       "    .dataframe thead th {\n",
       "        text-align: right;\n",
       "    }\n",
       "</style>\n",
       "<table border=\"1\" class=\"dataframe\">\n",
       "  <thead>\n",
       "    <tr style=\"text-align: right;\">\n",
       "      <th></th>\n",
       "      <th>code</th>\n",
       "      <th>title</th>\n",
       "      <th>points_r1_2019</th>\n",
       "      <th>points_r2_2019</th>\n",
       "      <th>points_r1_2020</th>\n",
       "      <th>points_r2_2020</th>\n",
       "      <th>*r1_2020</th>\n",
       "      <th>*r2_2020</th>\n",
       "      <th>#Test/Interview2020</th>\n",
       "      <th>points_r1_2021</th>\n",
       "      <th>points_r2_2021</th>\n",
       "      <th>institution</th>\n",
       "    </tr>\n",
       "    <tr>\n",
       "      <th>institution_letters</th>\n",
       "      <th></th>\n",
       "      <th></th>\n",
       "      <th></th>\n",
       "      <th></th>\n",
       "      <th></th>\n",
       "      <th></th>\n",
       "      <th></th>\n",
       "      <th></th>\n",
       "      <th></th>\n",
       "      <th></th>\n",
       "      <th></th>\n",
       "      <th></th>\n",
       "    </tr>\n",
       "  </thead>\n",
       "  <tbody>\n",
       "    <tr>\n",
       "      <th>AC</th>\n",
       "      <td>AC120</td>\n",
       "      <td>International Business</td>\n",
       "      <td>234</td>\n",
       "      <td>269</td>\n",
       "      <td>209</td>\n",
       "      <td>NaN</td>\n",
       "      <td>NaN</td>\n",
       "      <td>NaN</td>\n",
       "      <td>NaN</td>\n",
       "      <td>294</td>\n",
       "      <td>294</td>\n",
       "      <td>American College</td>\n",
       "    </tr>\n",
       "    <tr>\n",
       "      <th>AC</th>\n",
       "      <td>AC137</td>\n",
       "      <td>Liberal Arts</td>\n",
       "      <td>252</td>\n",
       "      <td>275</td>\n",
       "      <td>252</td>\n",
       "      <td>NaN</td>\n",
       "      <td>NaN</td>\n",
       "      <td>NaN</td>\n",
       "      <td>NaN</td>\n",
       "      <td>271</td>\n",
       "      <td>270</td>\n",
       "      <td>American College</td>\n",
       "    </tr>\n",
       "    <tr>\n",
       "      <th>AD</th>\n",
       "      <td>AD101</td>\n",
       "      <td>First Year Art and Design (Common Entry portfo...</td>\n",
       "      <td># +matric</td>\n",
       "      <td>550</td>\n",
       "      <td>#+matric</td>\n",
       "      <td>NaN</td>\n",
       "      <td>NaN</td>\n",
       "      <td>NaN</td>\n",
       "      <td>#</td>\n",
       "      <td>#554</td>\n",
       "      <td>NaN</td>\n",
       "      <td>National College of Art and Design</td>\n",
       "    </tr>\n",
       "    <tr>\n",
       "      <th>AD</th>\n",
       "      <td>AD102</td>\n",
       "      <td>Graphic Design and Moving Image Design (portfo...</td>\n",
       "      <td># +matric</td>\n",
       "      <td>635</td>\n",
       "      <td>#+matric</td>\n",
       "      <td>NaN</td>\n",
       "      <td>NaN</td>\n",
       "      <td>NaN</td>\n",
       "      <td>#</td>\n",
       "      <td>#538</td>\n",
       "      <td>NaN</td>\n",
       "      <td>National College of Art and Design</td>\n",
       "    </tr>\n",
       "    <tr>\n",
       "      <th>AD</th>\n",
       "      <td>AD103</td>\n",
       "      <td>Textile and Surface Design and Jewellery and O...</td>\n",
       "      <td># +matric</td>\n",
       "      <td>545</td>\n",
       "      <td>#+matric</td>\n",
       "      <td>NaN</td>\n",
       "      <td>NaN</td>\n",
       "      <td>NaN</td>\n",
       "      <td>#</td>\n",
       "      <td>#505</td>\n",
       "      <td>NaN</td>\n",
       "      <td>National College of Art and Design</td>\n",
       "    </tr>\n",
       "  </tbody>\n",
       "</table>\n",
       "</div>"
      ],
      "text/plain": [
       "                      code                                              title  \\\n",
       "institution_letters                                                             \n",
       "AC                   AC120                             International Business   \n",
       "AC                   AC137                                       Liberal Arts   \n",
       "AD                   AD101  First Year Art and Design (Common Entry portfo...   \n",
       "AD                   AD102  Graphic Design and Moving Image Design (portfo...   \n",
       "AD                   AD103  Textile and Surface Design and Jewellery and O...   \n",
       "\n",
       "                    points_r1_2019 points_r2_2019 points_r1_2020  \\\n",
       "institution_letters                                                \n",
       "AC                            234             269            209   \n",
       "AC                            252             275            252   \n",
       "AD                       # +matric            550       #+matric   \n",
       "AD                       # +matric            635       #+matric   \n",
       "AD                       # +matric            545       #+matric   \n",
       "\n",
       "                    points_r2_2020 *r1_2020 *r2_2020 #Test/Interview2020  \\\n",
       "institution_letters                                                        \n",
       "AC                             NaN      NaN      NaN                 NaN   \n",
       "AC                             NaN      NaN      NaN                 NaN   \n",
       "AD                             NaN      NaN      NaN                   #   \n",
       "AD                             NaN      NaN      NaN                   #   \n",
       "AD                             NaN      NaN      NaN                   #   \n",
       "\n",
       "                    points_r1_2021 points_r2_2021  \\\n",
       "institution_letters                                 \n",
       "AC                             294            294   \n",
       "AC                             271            270   \n",
       "AD                            #554            NaN   \n",
       "AD                            #538            NaN   \n",
       "AD                            #505            NaN   \n",
       "\n",
       "                                            institution  \n",
       "institution_letters                                      \n",
       "AC                                     American College  \n",
       "AC                                     American College  \n",
       "AD                   National College of Art and Design  \n",
       "AD                   National College of Art and Design  \n",
       "AD                   National College of Art and Design  "
      ]
     },
     "execution_count": 23,
     "metadata": {},
     "output_type": "execute_result"
    }
   ],
   "source": [
    "# Use institution_df as a lookup table to populate institures on main df\n",
    "\n",
    "# make new col with code letters for all_courses df\n",
    "all_courses['institution_letters'] = all_courses.index.str[:2]   \n",
    "\n",
    "# reset index and set institution_letters as new index before joining to institution_df\n",
    "all_courses = all_courses.reset_index().set_index('institution_letters').join(institution_df['institution'])\n",
    "all_courses.head(5)"
   ]
  },
  {
   "cell_type": "markdown",
   "id": "16cda610-af40-450d-8d8d-07893a889b7e",
   "metadata": {},
   "source": [
    "### Join Category Data\n",
    "***"
   ]
  },
  {
   "cell_type": "code",
   "execution_count": 24,
   "id": "2abd8f02-abe2-4de5-8925-fb1d8a9911fc",
   "metadata": {},
   "outputs": [],
   "source": [
    "# reset 2021 df index and define its code & institution cols  as new df \n",
    "category_df = df_2020[['code', 'category']].set_index('code') "
   ]
  },
  {
   "cell_type": "code",
   "execution_count": 26,
   "id": "24e0f4b6-6439-4c45-a30f-de35fe15046f",
   "metadata": {},
   "outputs": [
    {
     "data": {
      "text/html": [
       "<div>\n",
       "<style scoped>\n",
       "    .dataframe tbody tr th:only-of-type {\n",
       "        vertical-align: middle;\n",
       "    }\n",
       "\n",
       "    .dataframe tbody tr th {\n",
       "        vertical-align: top;\n",
       "    }\n",
       "\n",
       "    .dataframe thead th {\n",
       "        text-align: right;\n",
       "    }\n",
       "</style>\n",
       "<table border=\"1\" class=\"dataframe\">\n",
       "  <thead>\n",
       "    <tr style=\"text-align: right;\">\n",
       "      <th></th>\n",
       "      <th>institution_letters</th>\n",
       "      <th>title</th>\n",
       "      <th>points_r1_2019</th>\n",
       "      <th>points_r2_2019</th>\n",
       "      <th>points_r1_2020</th>\n",
       "      <th>points_r2_2020</th>\n",
       "      <th>*r1_2020</th>\n",
       "      <th>*r2_2020</th>\n",
       "      <th>#Test/Interview2020</th>\n",
       "      <th>points_r1_2021</th>\n",
       "      <th>points_r2_2021</th>\n",
       "      <th>institution</th>\n",
       "      <th>category</th>\n",
       "    </tr>\n",
       "    <tr>\n",
       "      <th>code</th>\n",
       "      <th></th>\n",
       "      <th></th>\n",
       "      <th></th>\n",
       "      <th></th>\n",
       "      <th></th>\n",
       "      <th></th>\n",
       "      <th></th>\n",
       "      <th></th>\n",
       "      <th></th>\n",
       "      <th></th>\n",
       "      <th></th>\n",
       "      <th></th>\n",
       "      <th></th>\n",
       "    </tr>\n",
       "  </thead>\n",
       "  <tbody>\n",
       "    <tr>\n",
       "      <th>AC120</th>\n",
       "      <td>AC</td>\n",
       "      <td>International Business</td>\n",
       "      <td>234</td>\n",
       "      <td>269</td>\n",
       "      <td>209</td>\n",
       "      <td>NaN</td>\n",
       "      <td>NaN</td>\n",
       "      <td>NaN</td>\n",
       "      <td>NaN</td>\n",
       "      <td>294</td>\n",
       "      <td>294</td>\n",
       "      <td>American College</td>\n",
       "      <td>Business and administration</td>\n",
       "    </tr>\n",
       "    <tr>\n",
       "      <th>AC137</th>\n",
       "      <td>AC</td>\n",
       "      <td>Liberal Arts</td>\n",
       "      <td>252</td>\n",
       "      <td>275</td>\n",
       "      <td>252</td>\n",
       "      <td>NaN</td>\n",
       "      <td>NaN</td>\n",
       "      <td>NaN</td>\n",
       "      <td>NaN</td>\n",
       "      <td>271</td>\n",
       "      <td>270</td>\n",
       "      <td>American College</td>\n",
       "      <td>Humanities (except languages)</td>\n",
       "    </tr>\n",
       "    <tr>\n",
       "      <th>AD101</th>\n",
       "      <td>AD</td>\n",
       "      <td>First Year Art and Design (Common Entry portfo...</td>\n",
       "      <td># +matric</td>\n",
       "      <td>550</td>\n",
       "      <td>#+matric</td>\n",
       "      <td>NaN</td>\n",
       "      <td>NaN</td>\n",
       "      <td>NaN</td>\n",
       "      <td>#</td>\n",
       "      <td>#554</td>\n",
       "      <td>NaN</td>\n",
       "      <td>National College of Art and Design</td>\n",
       "      <td>Arts</td>\n",
       "    </tr>\n",
       "    <tr>\n",
       "      <th>AD102</th>\n",
       "      <td>AD</td>\n",
       "      <td>Graphic Design and Moving Image Design (portfo...</td>\n",
       "      <td># +matric</td>\n",
       "      <td>635</td>\n",
       "      <td>#+matric</td>\n",
       "      <td>NaN</td>\n",
       "      <td>NaN</td>\n",
       "      <td>NaN</td>\n",
       "      <td>#</td>\n",
       "      <td>#538</td>\n",
       "      <td>NaN</td>\n",
       "      <td>National College of Art and Design</td>\n",
       "      <td>Arts</td>\n",
       "    </tr>\n",
       "    <tr>\n",
       "      <th>AD103</th>\n",
       "      <td>AD</td>\n",
       "      <td>Textile and Surface Design and Jewellery and O...</td>\n",
       "      <td># +matric</td>\n",
       "      <td>545</td>\n",
       "      <td>#+matric</td>\n",
       "      <td>NaN</td>\n",
       "      <td>NaN</td>\n",
       "      <td>NaN</td>\n",
       "      <td>#</td>\n",
       "      <td>#505</td>\n",
       "      <td>NaN</td>\n",
       "      <td>National College of Art and Design</td>\n",
       "      <td>Arts</td>\n",
       "    </tr>\n",
       "  </tbody>\n",
       "</table>\n",
       "</div>"
      ],
      "text/plain": [
       "      institution_letters                                              title  \\\n",
       "code                                                                           \n",
       "AC120                  AC                             International Business   \n",
       "AC137                  AC                                       Liberal Arts   \n",
       "AD101                  AD  First Year Art and Design (Common Entry portfo...   \n",
       "AD102                  AD  Graphic Design and Moving Image Design (portfo...   \n",
       "AD103                  AD  Textile and Surface Design and Jewellery and O...   \n",
       "\n",
       "      points_r1_2019 points_r2_2019 points_r1_2020 points_r2_2020 *r1_2020  \\\n",
       "code                                                                         \n",
       "AC120           234             269            209            NaN      NaN   \n",
       "AC137           252             275            252            NaN      NaN   \n",
       "AD101      # +matric            550       #+matric            NaN      NaN   \n",
       "AD102      # +matric            635       #+matric            NaN      NaN   \n",
       "AD103      # +matric            545       #+matric            NaN      NaN   \n",
       "\n",
       "      *r2_2020 #Test/Interview2020 points_r1_2021 points_r2_2021  \\\n",
       "code                                                               \n",
       "AC120      NaN                 NaN            294            294   \n",
       "AC137      NaN                 NaN            271            270   \n",
       "AD101      NaN                   #           #554            NaN   \n",
       "AD102      NaN                   #           #538            NaN   \n",
       "AD103      NaN                   #           #505            NaN   \n",
       "\n",
       "                              institution                       category  \n",
       "code                                                                      \n",
       "AC120                    American College    Business and administration  \n",
       "AC137                    American College  Humanities (except languages)  \n",
       "AD101  National College of Art and Design                           Arts  \n",
       "AD102  National College of Art and Design                           Arts  \n",
       "AD103  National College of Art and Design                           Arts  "
      ]
     },
     "execution_count": 26,
     "metadata": {},
     "output_type": "execute_result"
    }
   ],
   "source": [
    "# Use category df as a lookup table to populate categories on main df\n",
    "# reset index and set institution_letters as new index before joining to institution_df\n",
    "all_courses = all_courses.reset_index().set_index('code').join(category_df['category'])\n",
    "all_courses.head(5)"
   ]
  },
  {
   "cell_type": "markdown",
   "id": "9643c3a9-75a0-402d-b80a-538bebe843b9",
   "metadata": {},
   "source": [
    "<br>\n",
    "\n",
    "## Reformatting the data\n",
    "***"
   ]
  },
  {
   "cell_type": "markdown",
   "id": "66591cb9-a950-4580-8422-78cf78d717bb",
   "metadata": {},
   "source": [
    "As per the CAO Data certain characters / strings are present in the data to give more information. <br>\n",
    "**'#'**   Test / Interview / Portfolio / Audition <br>\n",
    "**'*'**   Not everyone was offered places in course <br>\n",
    "\n",
    "This will now be further explored to deduce what to do with these characters."
   ]
  },
  {
   "cell_type": "code",
   "execution_count": 23,
   "id": "610036d8-f896-43e2-8f8c-979c6ef021d3",
   "metadata": {},
   "outputs": [
    {
     "name": "stdout",
     "output_type": "stream",
     "text": [
      "Column points_r1_2021 # count = 81.0\n",
      "Column points_r2_2021 # count = 17.0\n",
      "Column points_r1_2020 # count = 22.0\n",
      "Column points_r2_2020 # count = 2.0\n",
      "Column #Test/Interview2020 # count = 106.0\n",
      "Column points_r1_2019 # count = 95.0\n",
      "\n",
      "\n",
      "Column points_r1_2021 * count = 75.0\n",
      "Column points_r2_2021 * count = 51.0\n",
      "Column *r1_2020 * count = 58.0\n",
      "Column *r2_2020 * count = 29.0\n",
      "Column points_r1_2019 * count = 44.0\n",
      "Column points_r2_2019 * count = 1.0\n"
     ]
    }
   ],
   "source": [
    "# define substring to check cols with '#' and '*' in df\n",
    "\n",
    "def substring_check(sub_string):\n",
    "    for col in all_courses:                                                  # iterate df cols                \n",
    "        count = all_courses[col].str.count(sub_string).sum()                 # sum the count for substring hits\n",
    "        if count > 0:\n",
    "            print('Column {} {} count = {}'.format(col, sub_string.replace('\\\\', ''), count))\n",
    "            \n",
    "substring_check(sub_string = '\\#')       \n",
    "print('\\n')\n",
    "substring_check(sub_string = '\\*')   "
   ]
  },
  {
   "cell_type": "markdown",
   "id": "77a57f02-b7ef-4a9d-8893-9ce6468c2986",
   "metadata": {},
   "source": [
    "# group # and * together into one col per year"
   ]
  },
  {
   "cell_type": "code",
   "execution_count": 24,
   "id": "740f9865-3c99-4342-aeff-0606d106e30c",
   "metadata": {},
   "outputs": [
    {
     "data": {
      "text/plain": [
       "\"\\nall_courses['*r_2021'] = np.where(all_courses['points_r1_2021'].str.contains('\\\\*'), '*', \\n                                  np.where(all_courses['points_r2_2021'].str.contains('\\\\*'), '*', '')  \\n\\nall_courses['*r_2021'] = np.where(all_courses['points_r1_2021'].str.contains('\\\\*'), '*', \\n        \\n                                  np.where(all_courses['points_r2_2021'].str.contains('\\\\*'), '*', '')  \\n    \\nall_courses['Test/Interview #'] = all_courses.where((df['R1 POINTS'].str.contains('#')) | \\n                                      (df['R2 POINTS'].str.contains('#')), '#', '')  \\n\""
      ]
     },
     "execution_count": 24,
     "metadata": {},
     "output_type": "execute_result"
    }
   ],
   "source": [
    "'''\n",
    "all_courses['*r_2021'] = np.where(all_courses['points_r1_2021'].str.contains('\\*'), '*', \n",
    "                                  np.where(all_courses['points_r2_2021'].str.contains('\\*'), '*', '')  \n",
    "\n",
    "all_courses['*r_2021'] = np.where(all_courses['points_r1_2021'].str.contains('\\*'), '*', \n",
    "        \n",
    "                                  np.where(all_courses['points_r2_2021'].str.contains('\\*'), '*', '')  \n",
    "    \n",
    "all_courses['Test/Interview #'] = all_courses.where((df['R1 POINTS'].str.contains('#')) | \n",
    "                                      (df['R2 POINTS'].str.contains('#')), '#', '')  \n",
    "'''"
   ]
  },
  {
   "cell_type": "code",
   "execution_count": 25,
   "id": "b5c93bbe-4416-4900-9585-0bdfc82ed665",
   "metadata": {},
   "outputs": [],
   "source": [
    "#col_str_replace = ['R1 POINTS', 'R2 POINTS', 'MID SEASON POINTS', 'FINAL SEASON POINTS']   \n",
    "#df[col_str_replace] = np.where(df[col_str_replace] == '#+matric', 'NaN', df[col_str_replace])         # replace '#+matric' with 'NaN' \n",
    "#print(all_courses.columns)"
   ]
  },
  {
   "cell_type": "code",
   "execution_count": 27,
   "id": "6c6779b4-ba1b-4a1a-8e23-1c57c201f2d5",
   "metadata": {},
   "outputs": [],
   "source": [
    "cols_for_numeric = ['points_r1_2021', 'points_r2_2021', 'points_r1_2020', 'points_r2_2020', \n",
    "                    'points_r1_2019', 'points_r2_2019']\n",
    "\n",
    "# convert all cols from list to float 64 / int 64, if parsing error then return NaN\n",
    "#all_courses[cols_for_numeric] = all_courses[cols_for_numeric].apply(pd.to_numeric, errors = 'coerce')"
   ]
  },
  {
   "cell_type": "code",
   "execution_count": 29,
   "id": "0f71812e-324f-4016-b2c3-7ecb5f553f64",
   "metadata": {},
   "outputs": [],
   "source": [
    "x1 = pd.to_numeric(all_courses['points_r1_2021'], errors='coerce')\n",
    "x2 = pd.to_numeric(all_courses['points_r2_2021'], errors='coerce')\n",
    "x3 = pd.to_numeric(all_courses['points_r1_2020'], errors='coerce')\n",
    "x4 = pd.to_numeric(all_courses['points_r2_2020'], errors='coerce')\n",
    "x5 = pd.to_numeric(all_courses['points_r1_2019'], errors='coerce')\n",
    "x6 = pd.to_numeric(all_courses['points_r2_2019'], errors='coerce')"
   ]
  },
  {
   "cell_type": "code",
   "execution_count": 30,
   "id": "b27bcacd-0628-45c4-a812-e3fc8dad7abc",
   "metadata": {},
   "outputs": [
    {
     "data": {
      "text/plain": [
       "(array([14., 41., 31., 21., 17., 29., 21., 14.,  6.]),\n",
       " array([176.        , 225.88888889, 275.77777778, 325.66666667,\n",
       "        375.55555556, 425.44444444, 475.33333333, 525.22222222,\n",
       "        575.11111111, 625.        ]),\n",
       " <BarContainer object of 9 artists>)"
      ]
     },
     "execution_count": 30,
     "metadata": {},
     "output_type": "execute_result"
    },
    {
     "data": {
      "image/png": "[encoded data removed]",
      "text/plain": [
       "<Figure size 720x432 with 2 Axes>"
      ]
     },
     "metadata": {
      "needs_background": "light"
     },
     "output_type": "display_data"
    }
   ],
   "source": [
    "import matplotlib.pyplot as plt\n",
    "fig, (ax1, ax2) = plt.subplots(1, 2, figsize = (10,6), sharex=True)\n",
    "ax1.hist(x1, bins = 9)\n",
    "ax2.hist(x2, bins = 9)\n"
   ]
  },
  {
   "cell_type": "code",
   "execution_count": 31,
   "id": "814318ea-239e-4cbe-a98f-0319839414f9",
   "metadata": {},
   "outputs": [
    {
     "data": {
      "text/plain": [
       "(array([35., 37., 22., 33., 34., 37.,  6.,  2.,  3.]),\n",
       " array([184.        , 248.88888889, 313.77777778, 378.66666667,\n",
       "        443.55555556, 508.44444444, 573.33333333, 638.22222222,\n",
       "        703.11111111, 768.        ]),\n",
       " <BarContainer object of 9 artists>)"
      ]
     },
     "execution_count": 31,
     "metadata": {},
     "output_type": "execute_result"
    },
    {
     "data": {
      "image/png": "[encoded data removed]",
      "text/plain": [
       "<Figure size 720x432 with 2 Axes>"
      ]
     },
     "metadata": {
      "needs_background": "light"
     },
     "output_type": "display_data"
    }
   ],
   "source": [
    "fig, (ax1, ax2) = plt.subplots(1, 2, figsize = (10,6), sharex=True)\n",
    "ax1.hist(x3, bins = 9)\n",
    "ax2.hist(x4, bins = 9)\n"
   ]
  },
  {
   "cell_type": "code",
   "execution_count": 32,
   "id": "7ededcb7-b58d-44ae-8f33-e81d94206e2e",
   "metadata": {},
   "outputs": [
    {
     "data": {
      "text/plain": [
       "(array([  4.,  20., 434., 283., 130.,  10.,   8.,  15.,  12.]),\n",
       " array([  57.        ,  169.88888889,  282.77777778,  395.66666667,\n",
       "         508.55555556,  621.44444444,  734.33333333,  847.22222222,\n",
       "         960.11111111, 1073.        ]),\n",
       " <BarContainer object of 9 artists>)"
      ]
     },
     "execution_count": 32,
     "metadata": {},
     "output_type": "execute_result"
    },
    {
     "data": {
      "image/png": "[encoded data removed]",
      "text/plain": [
       "<Figure size 720x432 with 2 Axes>"
      ]
     },
     "metadata": {
      "needs_background": "light"
     },
     "output_type": "display_data"
    }
   ],
   "source": [
    "fig, (ax1, ax2) = plt.subplots(1, 2, figsize = (10,6), sharex=True)\n",
    "ax1.hist(x5, bins = 9)\n",
    "ax2.hist(x6, bins = 9)\n"
   ]
  },
  {
   "cell_type": "code",
   "execution_count": null,
   "id": "2ac7fe95-cf7a-45e8-a0f1-a8c1beb67467",
   "metadata": {},
   "outputs": [],
   "source": []
  }
 ],
 "metadata": {
  "kernelspec": {
   "display_name": "Python 3",
   "language": "python",
   "name": "python3"
  },
  "language_info": {
   "codemirror_mode": {
    "name": "ipython",
    "version": 3
   },
   "file_extension": ".py",
   "mimetype": "text/x-python",
   "name": "python",
   "nbconvert_exporter": "python",
   "pygments_lexer": "ipython3",
   "version": "3.8.8"
  }
 },
 "nbformat": 4,
 "nbformat_minor": 5
}

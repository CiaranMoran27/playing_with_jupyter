{
 "cells": [
  {
   "cell_type": "markdown",
   "id": "6372b1f0-bc0b-49ff-959d-0c8bd0ba685d",
   "metadata": {},
   "source": [
    "# CAO Points Analysis\n",
    "## Acquiring the data\n",
    "***"
   ]
  },
  {
   "cell_type": "markdown",
   "id": "2fe84d05-db34-44a1-9f7c-34738276ce52",
   "metadata": {},
   "source": [
    "### 2021 [link](http://www.cao.ie/index.php?page=points&p=2021)"
   ]
  },
  {
   "cell_type": "code",
   "execution_count": 1,
   "id": "be14c9da-91d1-437f-812a-491c391cb23b",
   "metadata": {},
   "outputs": [],
   "source": [
    "# import required libraries\n",
    "import requests as rq             # Convenient HTTP requests.\n",
    "import re                         # Regular expressions.\n",
    "import datetime as dt    \n",
    "import pandas as pd\n",
    "import numpy as np"
   ]
  },
  {
   "cell_type": "code",
   "execution_count": 2,
   "id": "f1a9bf50-9b34-429b-8074-894e3aa91301",
   "metadata": {},
   "outputs": [
    {
     "data": {
      "text/plain": [
       "<Response [200]>"
      ]
     },
     "execution_count": 2,
     "metadata": {},
     "output_type": "execute_result"
    }
   ],
   "source": [
    "# Make a get request to 2021 CAO points URL\n",
    "resp = rq.get('http://www2.cao.ie/points/l8.php')\n",
    "\n",
    "# Check that value = 200 (in which case a connection is made).\n",
    "resp"
   ]
  },
  {
   "cell_type": "markdown",
   "id": "992d01be-6a5b-4d6b-9ee0-0de7476e01bc",
   "metadata": {},
   "source": [
    "<br>\n",
    "\n",
    "**Encoding note:<br>Error on server** <br>\n",
    "The Server indicated one should decode as per: Content-Type: text/html; charset=iso-8859-1. However, one line of the html uses<br> \n",
    "\\x96 which isn't defined in iso-8859-1. Therefore the similar decoding standard cp1252 will be  used. This standard is very similar but<br>\n",
    "includes \\x96."
   ]
  },
  {
   "cell_type": "code",
   "execution_count": 3,
   "id": "75911ea5-4d99-4769-8477-b059781ee681",
   "metadata": {},
   "outputs": [],
   "source": [
    "# Specify encoding method \n",
    "resp.encoding = 'cp1252'\n",
    "\n",
    "# Create a file path for the original data.\n",
    "html_path = 'data/cao_2021_raw_data.html'\n",
    "\n",
    "# Save original html file\n",
    "with open(html_path, 'w') as f:\n",
    "    f.write(resp.text)"
   ]
  },
  {
   "cell_type": "code",
   "execution_count": 4,
   "id": "47e52d97-c8fd-42c6-b741-134abd25c554",
   "metadata": {},
   "outputs": [
    {
     "name": "stdout",
     "output_type": "stream",
     "text": [
      "Total number of lines is lines is 949.\n",
      "This was manually verified against\"cao_2021_raw_data.html.\n"
     ]
    }
   ],
   "source": [
    "\n",
    "def scrape_html_from_website(path, regex):\n",
    "    \n",
    "    num_lines = 0                                       # Keep track of courses counted in loop\n",
    "    with open(path, 'w') as f:                          # Open the csv file for writing.          \n",
    "        for line in resp.iter_lines():                      # Loop through lines of the response \n",
    "            dline = line.decode('cp1252')                       # decode the line \n",
    "            if regex.fullmatch(dline):                          # Match only the lines representing courses.       \n",
    "                num_lines = num_lines + 1                           # Add one to the lines counter if match occured      \n",
    "                course_code = dline[:5]                             # isolate course code \n",
    "                course_title = dline[7:57].strip()                  # isolate course title         \n",
    "                course_points = re.split(' +', dline[60:])          # split string when on one or more spaces               \n",
    "                \n",
    "                if len(course_points) != 2:                   # if list length not equal to 2         \n",
    "                    course_points = course_points[:2]         # then retain first two elements of list\n",
    "                   \n",
    "                linesplit = [course_code, course_title, course_points[0], course_points[1]]\n",
    "                f.write(','.join(linesplit) + '\\n')\n",
    "    \n",
    "    print('Total number of lines is lines is {}.\\nThis was manually verified against\\\n",
    "\"cao_2021_raw_data.html.'.format(num_lines))  \n",
    "    \n",
    "# Compile the regular expression for matching lines\n",
    "    # ([A-Z]{2}[0-9]{3}) matches A-Z x2 characters, 0-9  x3 characters\n",
    "    # (.*) Matches any single character except newline zero or more times \n",
    "re_course = re.compile(r'([A-Z]{2}[0-9]{3})(.*)')  \n",
    "\n",
    "# write parsed data to csv file\n",
    "write_path = 'data/cao_2021_final_data.csv'         \n",
    "scrape_html_from_website(write_path, re_course)"
   ]
  },
  {
   "cell_type": "markdown",
   "id": "ef6c7485-a78d-4a9e-9a28-7cbe9c3777d2",
   "metadata": {},
   "source": [
    "### 2020 [link](http://www2.cao.ie/points/CAOPointsCharts2020.xlsx)\n",
    "***"
   ]
  },
  {
   "cell_type": "code",
   "execution_count": 5,
   "id": "874a2c95-7733-49fa-9e12-09fdc9e79461",
   "metadata": {},
   "outputs": [],
   "source": [
    "url2020 = 'http://www2.cao.ie/points/CAOPointsCharts2020.xlsx'\n",
    "\n",
    "# request url and write data to disc\n",
    "resp = rq.get(url2020)                  \n",
    "\n",
    "# open file for writing in binary mode\n",
    "output = open('data/cao_2020_raw_data.xlsx', 'wb')    \n",
    "output.write(resp.content)\n",
    "output.close() "
   ]
  },
  {
   "cell_type": "code",
   "execution_count": 6,
   "id": "a0e35682-e857-4a63-be1e-74a1312969ee",
   "metadata": {},
   "outputs": [],
   "source": [
    "def data_handler_2020(url):       \n",
    "    df = pd.read_excel(url, skiprows = 10)               # read excel & skip first 10 rows (irrelevant)\n",
    "    df = df.iloc[: , :-8]                                # drop last 8 columns  \n",
    "    df = df.loc[df.loc[:, 'LEVEL'] == 8]                 # filter df for level 8 courses          \n",
    "    return df\n",
    "\n",
    "df_2020 = data_handler_2020(url2020)\n",
    "\n",
    "# Save dataframe to disk.\n",
    "write_path = 'data/cao_2020_final_data.csv'\n",
    "df_2020.to_csv(write_path, encoding = \"utf-8\")"
   ]
  },
  {
   "cell_type": "code",
   "execution_count": 7,
   "id": "28a0f8d3-306a-4de5-954f-f40e6688518e",
   "metadata": {},
   "outputs": [
    {
     "name": "stdout",
     "output_type": "stream",
     "text": [
      "CATEGORY (i.e.ISCED description)    Engineering and engineering trades\n",
      "COURSE TITLE                                     Aerospace Engineering\n",
      "COURSE CODE2                                                     CW568\n",
      "R1 POINTS                                                          380\n",
      "R1 Random *                                                        NaN\n",
      "R2 POINTS                                                          NaN\n",
      "R2 Random*                                                         NaN\n",
      "EOS                                                                380\n",
      "EOS Random *                                                       NaN\n",
      "EOS Mid-point                                                      442\n",
      "LEVEL                                                                8\n",
      "HEI                                    Institute of Technology, Carlow\n",
      "Test/Interview #                                                   NaN\n",
      "avp                                                                NaN\n",
      "v                                                                  NaN\n",
      "Name: 282, dtype: object\n",
      "CATEGORY (i.e.ISCED description)          Engineering and engineering trades\n",
      "COURSE TITLE                        Mechanical and Manufacturing Engineering\n",
      "COURSE CODE2                                                           WD230\n",
      "R1 POINTS                                                                253\n",
      "R1 Random *                                                              NaN\n",
      "R2 POINTS                                                                NaN\n",
      "R2 Random*                                                               NaN\n",
      "EOS                                                                      253\n",
      "EOS Random *                                                             NaN\n",
      "EOS Mid-point                                                            369\n",
      "LEVEL                                                                      8\n",
      "HEI                                        Waterford Institute of Technology\n",
      "Test/Interview #                                                         NaN\n",
      "avp                                                                      NaN\n",
      "v                                                                        NaN\n",
      "Name: 1463, dtype: object\n"
     ]
    }
   ],
   "source": [
    "# Spot check a random row.\n",
    "print(df_2020.iloc[189])\n",
    "\n",
    "# Spot check last row.\n",
    "print(df_2020.iloc[-1])"
   ]
  },
  {
   "cell_type": "markdown",
   "id": "9950f85a-1502-4565-bf8e-36abd02e8d5e",
   "metadata": {},
   "source": [
    "### 2019"
   ]
  },
  {
   "cell_type": "code",
   "execution_count": 8,
   "id": "841d0678-0374-4f2a-bf20-2bdc51d2ae2c",
   "metadata": {},
   "outputs": [],
   "source": [
    "import urllib3\n",
    "import pdfplumber\n",
    "import io\n",
    "\n",
    "\n",
    "def scrape_pdf_from_website(url):\n",
    "    http = urllib3.PoolManager()                                   # instansiate pool manager object for sending requests\n",
    "    temp_binary = io.BytesIO()                                     # create instance for storing binary data\n",
    "    temp_binary.write(http.request(\"GET\", url).data)               # request url data and write to temp_binary storage\n",
    "    \n",
    "    data_final = ''  \n",
    "    with pdfplumber.open(temp_binary) as pdf:                      # open storage object      \n",
    "        for page in pdf.pages:                                         # iterate pages of pdf object\n",
    "            data = page.extract_text()                                 # extract text of page\n",
    "            data_final += data                                         # concatenates text to data_final variable\n",
    "    return data_final\n",
    "\n",
    "url  = 'http://www2.cao.ie/points/lvl8_19.pdf'\n",
    "pdf_text = scrape_pdf_from_website(url)"
   ]
  },
  {
   "cell_type": "code",
   "execution_count": 9,
   "id": "23fe2337-20b8-48d9-a3b4-f1227ee5eedb",
   "metadata": {},
   "outputs": [
    {
     "name": "stdout",
     "output_type": "stream",
     "text": [
      "NB: it was verified as of 26/11/2021 that there were 930 courses exactly in the CAO 2019 points list.\n"
     ]
    }
   ],
   "source": [
    "def data_handler_2019(regex, line_splitter, text):\n",
    "    \n",
    "    df_data = []                                                   # placeholder to add list of rows to\n",
    "    #print(text)\n",
    "    #for char in text:                                         # iterate file chars  \n",
    "    for match in re.finditer(regex, text):                    # iterate matches each line\n",
    "        course_code = match.group()[0:6]                           # isolate course code\n",
    "        rest_of_line =  match.group()[6:]                          # isolate all of line after course code \n",
    "        rest_of_line = re.split(line_splitter ,rest_of_line)           # split lines using passed criteria\n",
    "        df_data.append([course_code] + rest_of_line)\n",
    "                        \n",
    "    df = pd.DataFrame(df_data)                                # convert array to dataframe\n",
    "    return df\n",
    "\n",
    "\n",
    "# regex statement (will isolate all lines starting with course code)\n",
    "regex = re.compile(r'([A-Z]{2}[0-9]{3})(.*)')\n",
    "line_split_conditions = '(#\\d{3}\\* |#\\d{2}\\* |\\d{3}\\* |\\d{2}\\* |\\d{3} |\\d{2} |#\\d{3} |#\\d{2} |# \\+matric|#)'\n",
    "\n",
    "df_2019 = data_handler_2019(regex, line_split_conditions, pdf_text)\n",
    "df_2019.to_csv('data/cao_2019_final.csv')\n",
    "\n",
    "print('NB: it was verified as of 26/11/2021 that there were {} courses exactly in the CAO 2019 points list.'\n",
    "      .format(len(df_2019.index)))\n"
   ]
  },
  {
   "cell_type": "code",
   "execution_count": 10,
   "id": "28977767-cd2d-4a71-a0a1-473e25fc9d1d",
   "metadata": {},
   "outputs": [
    {
     "name": "stdout",
     "output_type": "stream",
     "text": [
      "0        CW708 \n",
      "1    Law - LLB \n",
      "2          298 \n",
      "3           328\n",
      "Name: 50, dtype: object\n",
      "0                                       WD230 \n",
      "1    Mechanical and Manufacturing Engineering \n",
      "2                                         273 \n",
      "3                                          348\n",
      "Name: 929, dtype: object\n"
     ]
    }
   ],
   "source": [
    "# Spot check a random row.\n",
    "print(df_2019.iloc[50])\n",
    "\n",
    "# Spot chcek last row.\n",
    "print(df_2019.iloc[-1])"
   ]
  },
  {
   "cell_type": "markdown",
   "id": "57dd9f2a-17bc-4185-ab1c-03995bd2a048",
   "metadata": {},
   "source": [
    "<br>\n",
    "\n",
    "## Joining the data"
   ]
  },
  {
   "cell_type": "markdown",
   "id": "19904160-9682-47d7-9cf3-ca65404463cc",
   "metadata": {},
   "source": [
    "### Get unique course codes\n",
    "***"
   ]
  },
  {
   "cell_type": "code",
   "execution_count": 11,
   "id": "963b0779-fd47-4635-a01b-2a7239e85a93",
   "metadata": {},
   "outputs": [],
   "source": [
    "# read in 2021 data from csv and convert to dataframe\n",
    "df_2021 =  pd.read_csv('data/cao_2021_final_data.csv', encoding ='cp1252', header = None)"
   ]
  },
  {
   "cell_type": "code",
   "execution_count": 12,
   "id": "1b4da400-0633-4547-b0b4-3ec0bf7b886c",
   "metadata": {},
   "outputs": [],
   "source": [
    "# isolate wanted cols from 2020 data and then rename them\n",
    "df_2020 = df_2020[['COURSE CODE2', 'COURSE TITLE', 'CATEGORY (i.e.ISCED description)', 'HEI', 'R1 POINTS', 'R2 POINTS','R1 Random *', 'R2 Random*', 'Test/Interview #']]\n",
    "df_2020.columns = ['code', 'title', 'category', 'institution', 'points_r1_2020', 'points_r2_2020', '*r1_2020', '*r2_2020', '#Test/Interview2020']    \n",
    "df_2021.columns = ['code', 'title', 'points_r1_2021', 'points_r2_2021']  \n",
    "df_2019.columns = ['code', 'title', 'points_r1_2019', 'points_r2_2019'] \n",
    "\n",
    "# remove trailing / leading spaces on code col of all dfs\n",
    "df_2021['code'] = df_2021['code'].str.strip() \n",
    "df_2020['code'] = df_2020['code'].str.strip()\n",
    "df_2019['code'] = df_2019['code'].str.strip() "
   ]
  },
  {
   "cell_type": "code",
   "execution_count": 13,
   "id": "07963bf1-53f3-4542-a59a-4ee128a8a391",
   "metadata": {},
   "outputs": [],
   "source": [
    "# isolate code and title cols (first two cols) accross all datframes\n",
    "courses_2019 = df_2019[['code', 'title']]\n",
    "courses_2020 = df_2020[['code', 'title']]              \n",
    "courses_2021 = df_2021[['code', 'title']]"
   ]
  },
  {
   "cell_type": "code",
   "execution_count": 14,
   "id": "4fddec80-212c-4fd3-9628-4555395be904",
   "metadata": {},
   "outputs": [
    {
     "name": "stdout",
     "output_type": "stream",
     "text": [
      "Shapes:\n",
      "courses_2019 = (930, 2)\n",
      "courses_2020 = (1027, 2)\n",
      "courses_2021 = (949, 2)\n",
      "all_courses  = (2906, 2)\n"
     ]
    }
   ],
   "source": [
    "# append the three dataframes and sort code alphabetically\n",
    "all_courses = pd.concat([courses_2021, courses_2020, courses_2019], ignore_index = True)\n",
    "all_courses.sort_values('code')\n",
    "\n",
    "print('Shapes:\\ncourses_2019 = {}\\ncourses_2020 = {}\\ncourses_2021 = {}\\nall_courses  = {}'\n",
    "      .format(courses_2019.shape,courses_2020.shape,courses_2021.shape, all_courses.shape))"
   ]
  },
  {
   "cell_type": "code",
   "execution_count": 15,
   "id": "b53a66d0-9306-4a2c-b74f-8a5fc1a8bf0d",
   "metadata": {},
   "outputs": [
    {
     "data": {
      "text/plain": [
       "code     1692\n",
       "title    1692\n",
       "dtype: int64"
      ]
     },
     "execution_count": 15,
     "metadata": {},
     "output_type": "execute_result"
    }
   ],
   "source": [
    "# return a count on boolean check for all code rows that are duplicates\n",
    "duplicated_code_rows = all_courses[all_courses.duplicated(subset = ['code'])].count()\n",
    "duplicated_code_rows"
   ]
  },
  {
   "cell_type": "code",
   "execution_count": 16,
   "id": "efb90a83-5b7e-45b8-9eb2-7988314afa58",
   "metadata": {},
   "outputs": [
    {
     "data": {
      "text/plain": [
       "(1214, 2)"
      ]
     },
     "execution_count": 16,
     "metadata": {},
     "output_type": "execute_result"
    }
   ],
   "source": [
    "# Returns a data frame with duplciates removed (based only on code)\n",
    "# i.e row count = concat (2906) - duplicated () = unique (2010)\n",
    "all_courses.drop_duplicates(subset = ['code'], inplace = True, ignore_index = True)\n",
    "all_courses.shape"
   ]
  },
  {
   "cell_type": "markdown",
   "id": "171ca7aa-c49e-42e0-ba0f-b0f4d950ad55",
   "metadata": {},
   "source": [
    "### Join Points Data\n",
    "***"
   ]
  },
  {
   "cell_type": "code",
   "execution_count": 17,
   "id": "f6f73143-64fb-4bb5-beb3-73e51b5ec0fe",
   "metadata": {},
   "outputs": [],
   "source": [
    "# join cols from 3x years while omitting the first two col names (code & title)\n",
    "# adopted from: https://stackoverflow.com/questions/23668427/pandas-three-way-joining-multiple-dataframes-on-columns\n",
    "\n",
    "# declarea wanted df and their cols in a list\n",
    "dfs = [all_courses, \n",
    "       df_2019[['code', 'points_r1_2019', 'points_r2_2019']],\n",
    "       df_2020[['code', 'points_r1_2020', 'points_r2_2020','*r1_2020', '*r2_2020', '#Test/Interview2020']], \n",
    "       df_2021[['code', 'points_r1_2021', 'points_r2_2021']]\n",
    "      ]"
   ]
  },
  {
   "cell_type": "code",
   "execution_count": 18,
   "id": "d3033a7b-8d1f-4c21-94b9-3ce97c7fb23c",
   "metadata": {},
   "outputs": [],
   "source": [
    "# set index val for each df\n",
    "dfs = [df.set_index('code') for df in dfs]      \n",
    "\n",
    "# join all dfs after first to the first df\n",
    "all_courses = dfs[0].join(dfs[1:])"
   ]
  },
  {
   "cell_type": "code",
   "execution_count": 19,
   "id": "81795f83-b2a8-4b08-83b4-e1ee296fa855",
   "metadata": {},
   "outputs": [
    {
     "data": {
      "text/html": [
       "<div>\n",
       "<style scoped>\n",
       "    .dataframe tbody tr th:only-of-type {\n",
       "        vertical-align: middle;\n",
       "    }\n",
       "\n",
       "    .dataframe tbody tr th {\n",
       "        vertical-align: top;\n",
       "    }\n",
       "\n",
       "    .dataframe thead th {\n",
       "        text-align: right;\n",
       "    }\n",
       "</style>\n",
       "<table border=\"1\" class=\"dataframe\">\n",
       "  <thead>\n",
       "    <tr style=\"text-align: right;\">\n",
       "      <th></th>\n",
       "      <th>title</th>\n",
       "      <th>points_r1_2019</th>\n",
       "      <th>points_r2_2019</th>\n",
       "      <th>points_r1_2020</th>\n",
       "      <th>points_r2_2020</th>\n",
       "      <th>*r1_2020</th>\n",
       "      <th>*r2_2020</th>\n",
       "      <th>#Test/Interview2020</th>\n",
       "      <th>points_r1_2021</th>\n",
       "      <th>points_r2_2021</th>\n",
       "    </tr>\n",
       "    <tr>\n",
       "      <th>code</th>\n",
       "      <th></th>\n",
       "      <th></th>\n",
       "      <th></th>\n",
       "      <th></th>\n",
       "      <th></th>\n",
       "      <th></th>\n",
       "      <th></th>\n",
       "      <th></th>\n",
       "      <th></th>\n",
       "      <th></th>\n",
       "    </tr>\n",
       "  </thead>\n",
       "  <tbody>\n",
       "    <tr>\n",
       "      <th>AL801</th>\n",
       "      <td>Software Design for Virtual Reality and Gaming</td>\n",
       "      <td>304</td>\n",
       "      <td>328</td>\n",
       "      <td>303</td>\n",
       "      <td>NaN</td>\n",
       "      <td>NaN</td>\n",
       "      <td>NaN</td>\n",
       "      <td>NaN</td>\n",
       "      <td>300</td>\n",
       "      <td>NaN</td>\n",
       "    </tr>\n",
       "    <tr>\n",
       "      <th>AL802</th>\n",
       "      <td>Software Design in Artificial Intelligence for...</td>\n",
       "      <td>301</td>\n",
       "      <td>306</td>\n",
       "      <td>332</td>\n",
       "      <td>NaN</td>\n",
       "      <td>NaN</td>\n",
       "      <td>NaN</td>\n",
       "      <td>NaN</td>\n",
       "      <td>313</td>\n",
       "      <td>NaN</td>\n",
       "    </tr>\n",
       "    <tr>\n",
       "      <th>AL803</th>\n",
       "      <td>Software Design for Mobile Apps and Connected ...</td>\n",
       "      <td>309</td>\n",
       "      <td>337</td>\n",
       "      <td>337</td>\n",
       "      <td>NaN</td>\n",
       "      <td>NaN</td>\n",
       "      <td>NaN</td>\n",
       "      <td>NaN</td>\n",
       "      <td>350</td>\n",
       "      <td>NaN</td>\n",
       "    </tr>\n",
       "    <tr>\n",
       "      <th>AL805</th>\n",
       "      <td>Computer Engineering for Network Infrastructure</td>\n",
       "      <td>329</td>\n",
       "      <td>442</td>\n",
       "      <td>333</td>\n",
       "      <td>NaN</td>\n",
       "      <td>NaN</td>\n",
       "      <td>NaN</td>\n",
       "      <td>NaN</td>\n",
       "      <td>321</td>\n",
       "      <td>NaN</td>\n",
       "    </tr>\n",
       "    <tr>\n",
       "      <th>AL810</th>\n",
       "      <td>Quantity Surveying</td>\n",
       "      <td>307</td>\n",
       "      <td>349</td>\n",
       "      <td>319</td>\n",
       "      <td>NaN</td>\n",
       "      <td>NaN</td>\n",
       "      <td>NaN</td>\n",
       "      <td>NaN</td>\n",
       "      <td>328</td>\n",
       "      <td>NaN</td>\n",
       "    </tr>\n",
       "  </tbody>\n",
       "</table>\n",
       "</div>"
      ],
      "text/plain": [
       "                                                   title points_r1_2019  \\\n",
       "code                                                                      \n",
       "AL801     Software Design for Virtual Reality and Gaming           304    \n",
       "AL802  Software Design in Artificial Intelligence for...           301    \n",
       "AL803  Software Design for Mobile Apps and Connected ...           309    \n",
       "AL805    Computer Engineering for Network Infrastructure           329    \n",
       "AL810                                 Quantity Surveying           307    \n",
       "\n",
       "      points_r2_2019 points_r1_2020 points_r2_2020 *r1_2020 *r2_2020  \\\n",
       "code                                                                   \n",
       "AL801            328            303            NaN      NaN      NaN   \n",
       "AL802            306            332            NaN      NaN      NaN   \n",
       "AL803            337            337            NaN      NaN      NaN   \n",
       "AL805            442            333            NaN      NaN      NaN   \n",
       "AL810            349            319            NaN      NaN      NaN   \n",
       "\n",
       "      #Test/Interview2020 points_r1_2021 points_r2_2021  \n",
       "code                                                     \n",
       "AL801                 NaN            300            NaN  \n",
       "AL802                 NaN            313            NaN  \n",
       "AL803                 NaN            350            NaN  \n",
       "AL805                 NaN            321            NaN  \n",
       "AL810                 NaN            328            NaN  "
      ]
     },
     "execution_count": 19,
     "metadata": {},
     "output_type": "execute_result"
    }
   ],
   "source": [
    "all_courses.head(5)"
   ]
  },
  {
   "cell_type": "markdown",
   "id": "a80900b1-f019-4880-bd30-6589ba41a025",
   "metadata": {},
   "source": [
    "### Join Institute Data\n",
    "***"
   ]
  },
  {
   "cell_type": "code",
   "execution_count": 20,
   "id": "bfca8b7a-647c-43cd-b345-06efcf7c3175",
   "metadata": {},
   "outputs": [
    {
     "name": "stdout",
     "output_type": "stream",
     "text": [
      "(34, 1)\n"
     ]
    },
    {
     "data": {
      "text/html": [
       "<div>\n",
       "<style scoped>\n",
       "    .dataframe tbody tr th:only-of-type {\n",
       "        vertical-align: middle;\n",
       "    }\n",
       "\n",
       "    .dataframe tbody tr th {\n",
       "        vertical-align: top;\n",
       "    }\n",
       "\n",
       "    .dataframe thead th {\n",
       "        text-align: right;\n",
       "    }\n",
       "</style>\n",
       "<table border=\"1\" class=\"dataframe\">\n",
       "  <thead>\n",
       "    <tr style=\"text-align: right;\">\n",
       "      <th></th>\n",
       "      <th>institution</th>\n",
       "    </tr>\n",
       "    <tr>\n",
       "      <th>institution_letters</th>\n",
       "      <th></th>\n",
       "    </tr>\n",
       "  </thead>\n",
       "  <tbody>\n",
       "    <tr>\n",
       "      <th>AC</th>\n",
       "      <td>American College</td>\n",
       "    </tr>\n",
       "    <tr>\n",
       "      <th>AD</th>\n",
       "      <td>National College of Art and Design</td>\n",
       "    </tr>\n",
       "    <tr>\n",
       "      <th>AL</th>\n",
       "      <td>Athlone Institute of Technology</td>\n",
       "    </tr>\n",
       "    <tr>\n",
       "      <th>AS</th>\n",
       "      <td>St. Angela`s College</td>\n",
       "    </tr>\n",
       "    <tr>\n",
       "      <th>CI</th>\n",
       "      <td>Irish College of Humanities &amp; Applied Sciences</td>\n",
       "    </tr>\n",
       "  </tbody>\n",
       "</table>\n",
       "</div>"
      ],
      "text/plain": [
       "                                                        institution\n",
       "institution_letters                                                \n",
       "AC                                                 American College\n",
       "AD                               National College of Art and Design\n",
       "AL                                  Athlone Institute of Technology\n",
       "AS                                             St. Angela`s College\n",
       "CI                   Irish College of Humanities & Applied Sciences"
      ]
     },
     "execution_count": 20,
     "metadata": {},
     "output_type": "execute_result"
    }
   ],
   "source": [
    "# reset 2021 df index and define its code & institution cols  as new df \n",
    "institution_df = df_2020.reset_index()[['code', 'institution']]     \n",
    "\n",
    "# make new col with code letters, will be used to join institutes\n",
    "institution_df['institution_letters'] = institution_df['code'].str[:2]   \n",
    "\n",
    "# drop records that are duplicated (based on institution)\n",
    "institution_df.drop_duplicates(subset ='institution_letters', keep = \"last\", inplace = True)\n",
    "\n",
    "# drop code col\n",
    "institution_df.drop('code', axis = 1, inplace = True)\n",
    "institution_df.set_index('institution_letters', inplace = True)\n",
    "\n",
    "print(institution_df.shape)\n",
    "institution_df.head(5)"
   ]
  },
  {
   "cell_type": "code",
   "execution_count": 21,
   "id": "d4bb83f8-13e9-471b-b2bf-60d085a3448c",
   "metadata": {},
   "outputs": [
    {
     "name": "stdout",
     "output_type": "stream",
     "text": [
      "(38, 1)\n"
     ]
    },
    {
     "data": {
      "text/html": [
       "<div>\n",
       "<style scoped>\n",
       "    .dataframe tbody tr th:only-of-type {\n",
       "        vertical-align: middle;\n",
       "    }\n",
       "\n",
       "    .dataframe tbody tr th {\n",
       "        vertical-align: top;\n",
       "    }\n",
       "\n",
       "    .dataframe thead th {\n",
       "        text-align: right;\n",
       "    }\n",
       "</style>\n",
       "<table border=\"1\" class=\"dataframe\">\n",
       "  <thead>\n",
       "    <tr style=\"text-align: right;\">\n",
       "      <th></th>\n",
       "      <th>institution</th>\n",
       "    </tr>\n",
       "    <tr>\n",
       "      <th>institution_letters</th>\n",
       "      <th></th>\n",
       "    </tr>\n",
       "  </thead>\n",
       "  <tbody>\n",
       "    <tr>\n",
       "      <th>WD</th>\n",
       "      <td>Waterford Institute of Technology</td>\n",
       "    </tr>\n",
       "    <tr>\n",
       "      <th>BN</th>\n",
       "      <td>Technological University Dublin Blanchardstown...</td>\n",
       "    </tr>\n",
       "    <tr>\n",
       "      <th>BY</th>\n",
       "      <td>IBAT College Dublin</td>\n",
       "    </tr>\n",
       "    <tr>\n",
       "      <th>DT</th>\n",
       "      <td>Technological University Dublin City Campus</td>\n",
       "    </tr>\n",
       "    <tr>\n",
       "      <th>TA</th>\n",
       "      <td>Technological University Dublin Tallaght Campus</td>\n",
       "    </tr>\n",
       "  </tbody>\n",
       "</table>\n",
       "</div>"
      ],
      "text/plain": [
       "                                                           institution\n",
       "institution_letters                                                   \n",
       "WD                                   Waterford Institute of Technology\n",
       "BN                   Technological University Dublin Blanchardstown...\n",
       "BY                                                IBAT College Dublin \n",
       "DT                         Technological University Dublin City Campus\n",
       "TA                     Technological University Dublin Tallaght Campus"
      ]
     },
     "execution_count": 21,
     "metadata": {},
     "output_type": "execute_result"
    }
   ],
   "source": [
    "# make temp df to allow concat of missing institutions (this was manually checked on 01 Dec 2021)\n",
    "# declare new row dict\n",
    "new_rows = {'institution_letters': ['BN', 'BY', 'DT', 'TA'], \n",
    "            'institution': ['Technological University Dublin Blanchardstown Campus',\n",
    "                            'IBAT College Dublin ',\n",
    "                            'Technological University Dublin City Campus',\n",
    "                            'Technological University Dublin Tallaght Campus']}\n",
    "# convert dict to df\n",
    "temp_df = pd.DataFrame.from_dict(new_rows).set_index('institution_letters')\n",
    "\n",
    "# concat  temp df to institution df\n",
    "institution_df = pd.concat([institution_df, temp_df])\n",
    "\n",
    "print(institution_df.shape)\n",
    "institution_df.tail(5)"
   ]
  },
  {
   "cell_type": "code",
   "execution_count": 22,
   "id": "53977731-bd5c-4ce3-83fb-ffbc216d80fa",
   "metadata": {},
   "outputs": [
    {
     "data": {
      "text/html": [
       "<div>\n",
       "<style scoped>\n",
       "    .dataframe tbody tr th:only-of-type {\n",
       "        vertical-align: middle;\n",
       "    }\n",
       "\n",
       "    .dataframe tbody tr th {\n",
       "        vertical-align: top;\n",
       "    }\n",
       "\n",
       "    .dataframe thead th {\n",
       "        text-align: right;\n",
       "    }\n",
       "</style>\n",
       "<table border=\"1\" class=\"dataframe\">\n",
       "  <thead>\n",
       "    <tr style=\"text-align: right;\">\n",
       "      <th></th>\n",
       "      <th>code</th>\n",
       "      <th>title</th>\n",
       "      <th>points_r1_2019</th>\n",
       "      <th>points_r2_2019</th>\n",
       "      <th>points_r1_2020</th>\n",
       "      <th>points_r2_2020</th>\n",
       "      <th>*r1_2020</th>\n",
       "      <th>*r2_2020</th>\n",
       "      <th>#Test/Interview2020</th>\n",
       "      <th>points_r1_2021</th>\n",
       "      <th>points_r2_2021</th>\n",
       "      <th>institution</th>\n",
       "    </tr>\n",
       "    <tr>\n",
       "      <th>institution_letters</th>\n",
       "      <th></th>\n",
       "      <th></th>\n",
       "      <th></th>\n",
       "      <th></th>\n",
       "      <th></th>\n",
       "      <th></th>\n",
       "      <th></th>\n",
       "      <th></th>\n",
       "      <th></th>\n",
       "      <th></th>\n",
       "      <th></th>\n",
       "      <th></th>\n",
       "    </tr>\n",
       "  </thead>\n",
       "  <tbody>\n",
       "    <tr>\n",
       "      <th>AC</th>\n",
       "      <td>AC120</td>\n",
       "      <td>International Business</td>\n",
       "      <td>234</td>\n",
       "      <td>269</td>\n",
       "      <td>209</td>\n",
       "      <td>NaN</td>\n",
       "      <td>NaN</td>\n",
       "      <td>NaN</td>\n",
       "      <td>NaN</td>\n",
       "      <td>294</td>\n",
       "      <td>294</td>\n",
       "      <td>American College</td>\n",
       "    </tr>\n",
       "    <tr>\n",
       "      <th>AC</th>\n",
       "      <td>AC137</td>\n",
       "      <td>Liberal Arts</td>\n",
       "      <td>252</td>\n",
       "      <td>275</td>\n",
       "      <td>252</td>\n",
       "      <td>NaN</td>\n",
       "      <td>NaN</td>\n",
       "      <td>NaN</td>\n",
       "      <td>NaN</td>\n",
       "      <td>271</td>\n",
       "      <td>270</td>\n",
       "      <td>American College</td>\n",
       "    </tr>\n",
       "    <tr>\n",
       "      <th>AD</th>\n",
       "      <td>AD101</td>\n",
       "      <td>First Year Art and Design (Common Entry portfo...</td>\n",
       "      <td># +matric</td>\n",
       "      <td>550</td>\n",
       "      <td>#+matric</td>\n",
       "      <td>NaN</td>\n",
       "      <td>NaN</td>\n",
       "      <td>NaN</td>\n",
       "      <td>#</td>\n",
       "      <td>#554</td>\n",
       "      <td>NaN</td>\n",
       "      <td>National College of Art and Design</td>\n",
       "    </tr>\n",
       "    <tr>\n",
       "      <th>AD</th>\n",
       "      <td>AD102</td>\n",
       "      <td>Graphic Design and Moving Image Design (portfo...</td>\n",
       "      <td># +matric</td>\n",
       "      <td>635</td>\n",
       "      <td>#+matric</td>\n",
       "      <td>NaN</td>\n",
       "      <td>NaN</td>\n",
       "      <td>NaN</td>\n",
       "      <td>#</td>\n",
       "      <td>#538</td>\n",
       "      <td>NaN</td>\n",
       "      <td>National College of Art and Design</td>\n",
       "    </tr>\n",
       "    <tr>\n",
       "      <th>AD</th>\n",
       "      <td>AD103</td>\n",
       "      <td>Textile and Surface Design and Jewellery and O...</td>\n",
       "      <td># +matric</td>\n",
       "      <td>545</td>\n",
       "      <td>#+matric</td>\n",
       "      <td>NaN</td>\n",
       "      <td>NaN</td>\n",
       "      <td>NaN</td>\n",
       "      <td>#</td>\n",
       "      <td>#505</td>\n",
       "      <td>NaN</td>\n",
       "      <td>National College of Art and Design</td>\n",
       "    </tr>\n",
       "  </tbody>\n",
       "</table>\n",
       "</div>"
      ],
      "text/plain": [
       "                      code                                              title  \\\n",
       "institution_letters                                                             \n",
       "AC                   AC120                             International Business   \n",
       "AC                   AC137                                       Liberal Arts   \n",
       "AD                   AD101  First Year Art and Design (Common Entry portfo...   \n",
       "AD                   AD102  Graphic Design and Moving Image Design (portfo...   \n",
       "AD                   AD103  Textile and Surface Design and Jewellery and O...   \n",
       "\n",
       "                    points_r1_2019 points_r2_2019 points_r1_2020  \\\n",
       "institution_letters                                                \n",
       "AC                            234             269            209   \n",
       "AC                            252             275            252   \n",
       "AD                       # +matric            550       #+matric   \n",
       "AD                       # +matric            635       #+matric   \n",
       "AD                       # +matric            545       #+matric   \n",
       "\n",
       "                    points_r2_2020 *r1_2020 *r2_2020 #Test/Interview2020  \\\n",
       "institution_letters                                                        \n",
       "AC                             NaN      NaN      NaN                 NaN   \n",
       "AC                             NaN      NaN      NaN                 NaN   \n",
       "AD                             NaN      NaN      NaN                   #   \n",
       "AD                             NaN      NaN      NaN                   #   \n",
       "AD                             NaN      NaN      NaN                   #   \n",
       "\n",
       "                    points_r1_2021 points_r2_2021  \\\n",
       "institution_letters                                 \n",
       "AC                             294            294   \n",
       "AC                             271            270   \n",
       "AD                            #554            NaN   \n",
       "AD                            #538            NaN   \n",
       "AD                            #505            NaN   \n",
       "\n",
       "                                            institution  \n",
       "institution_letters                                      \n",
       "AC                                     American College  \n",
       "AC                                     American College  \n",
       "AD                   National College of Art and Design  \n",
       "AD                   National College of Art and Design  \n",
       "AD                   National College of Art and Design  "
      ]
     },
     "execution_count": 22,
     "metadata": {},
     "output_type": "execute_result"
    }
   ],
   "source": [
    "# Use institution_df as a lookup table to populate institures on main df\n",
    "\n",
    "# make new col with code letters for all_courses df\n",
    "all_courses['institution_letters'] = all_courses.index.str[:2]   \n",
    "\n",
    "# reset index and set institution_letters as new index before joining to institution_df\n",
    "all_courses = all_courses.reset_index().set_index('institution_letters').join(institution_df['institution'])\n",
    "all_courses.head(5)"
   ]
  },
  {
   "cell_type": "markdown",
   "id": "16cda610-af40-450d-8d8d-07893a889b7e",
   "metadata": {},
   "source": [
    "### Join Category Data\n",
    "***"
   ]
  },
  {
   "cell_type": "code",
   "execution_count": 23,
   "id": "2abd8f02-abe2-4de5-8925-fb1d8a9911fc",
   "metadata": {},
   "outputs": [],
   "source": [
    "# reset 2021 df index and define its code & institution cols  as new df \n",
    "category_df = df_2020[['code', 'category']].set_index('code') "
   ]
  },
  {
   "cell_type": "code",
   "execution_count": 24,
   "id": "24e0f4b6-6439-4c45-a30f-de35fe15046f",
   "metadata": {},
   "outputs": [
    {
     "data": {
      "text/html": [
       "<div>\n",
       "<style scoped>\n",
       "    .dataframe tbody tr th:only-of-type {\n",
       "        vertical-align: middle;\n",
       "    }\n",
       "\n",
       "    .dataframe tbody tr th {\n",
       "        vertical-align: top;\n",
       "    }\n",
       "\n",
       "    .dataframe thead th {\n",
       "        text-align: right;\n",
       "    }\n",
       "</style>\n",
       "<table border=\"1\" class=\"dataframe\">\n",
       "  <thead>\n",
       "    <tr style=\"text-align: right;\">\n",
       "      <th></th>\n",
       "      <th>institution_letters</th>\n",
       "      <th>title</th>\n",
       "      <th>points_r1_2019</th>\n",
       "      <th>points_r2_2019</th>\n",
       "      <th>points_r1_2020</th>\n",
       "      <th>points_r2_2020</th>\n",
       "      <th>*r1_2020</th>\n",
       "      <th>*r2_2020</th>\n",
       "      <th>#Test/Interview2020</th>\n",
       "      <th>points_r1_2021</th>\n",
       "      <th>points_r2_2021</th>\n",
       "      <th>institution</th>\n",
       "      <th>category</th>\n",
       "    </tr>\n",
       "    <tr>\n",
       "      <th>code</th>\n",
       "      <th></th>\n",
       "      <th></th>\n",
       "      <th></th>\n",
       "      <th></th>\n",
       "      <th></th>\n",
       "      <th></th>\n",
       "      <th></th>\n",
       "      <th></th>\n",
       "      <th></th>\n",
       "      <th></th>\n",
       "      <th></th>\n",
       "      <th></th>\n",
       "      <th></th>\n",
       "    </tr>\n",
       "  </thead>\n",
       "  <tbody>\n",
       "    <tr>\n",
       "      <th>AC120</th>\n",
       "      <td>AC</td>\n",
       "      <td>International Business</td>\n",
       "      <td>234</td>\n",
       "      <td>269</td>\n",
       "      <td>209</td>\n",
       "      <td>NaN</td>\n",
       "      <td>NaN</td>\n",
       "      <td>NaN</td>\n",
       "      <td>NaN</td>\n",
       "      <td>294</td>\n",
       "      <td>294</td>\n",
       "      <td>American College</td>\n",
       "      <td>Business and administration</td>\n",
       "    </tr>\n",
       "    <tr>\n",
       "      <th>AC137</th>\n",
       "      <td>AC</td>\n",
       "      <td>Liberal Arts</td>\n",
       "      <td>252</td>\n",
       "      <td>275</td>\n",
       "      <td>252</td>\n",
       "      <td>NaN</td>\n",
       "      <td>NaN</td>\n",
       "      <td>NaN</td>\n",
       "      <td>NaN</td>\n",
       "      <td>271</td>\n",
       "      <td>270</td>\n",
       "      <td>American College</td>\n",
       "      <td>Humanities (except languages)</td>\n",
       "    </tr>\n",
       "    <tr>\n",
       "      <th>AD101</th>\n",
       "      <td>AD</td>\n",
       "      <td>First Year Art and Design (Common Entry portfo...</td>\n",
       "      <td># +matric</td>\n",
       "      <td>550</td>\n",
       "      <td>#+matric</td>\n",
       "      <td>NaN</td>\n",
       "      <td>NaN</td>\n",
       "      <td>NaN</td>\n",
       "      <td>#</td>\n",
       "      <td>#554</td>\n",
       "      <td>NaN</td>\n",
       "      <td>National College of Art and Design</td>\n",
       "      <td>Arts</td>\n",
       "    </tr>\n",
       "    <tr>\n",
       "      <th>AD102</th>\n",
       "      <td>AD</td>\n",
       "      <td>Graphic Design and Moving Image Design (portfo...</td>\n",
       "      <td># +matric</td>\n",
       "      <td>635</td>\n",
       "      <td>#+matric</td>\n",
       "      <td>NaN</td>\n",
       "      <td>NaN</td>\n",
       "      <td>NaN</td>\n",
       "      <td>#</td>\n",
       "      <td>#538</td>\n",
       "      <td>NaN</td>\n",
       "      <td>National College of Art and Design</td>\n",
       "      <td>Arts</td>\n",
       "    </tr>\n",
       "    <tr>\n",
       "      <th>AD103</th>\n",
       "      <td>AD</td>\n",
       "      <td>Textile and Surface Design and Jewellery and O...</td>\n",
       "      <td># +matric</td>\n",
       "      <td>545</td>\n",
       "      <td>#+matric</td>\n",
       "      <td>NaN</td>\n",
       "      <td>NaN</td>\n",
       "      <td>NaN</td>\n",
       "      <td>#</td>\n",
       "      <td>#505</td>\n",
       "      <td>NaN</td>\n",
       "      <td>National College of Art and Design</td>\n",
       "      <td>Arts</td>\n",
       "    </tr>\n",
       "  </tbody>\n",
       "</table>\n",
       "</div>"
      ],
      "text/plain": [
       "      institution_letters                                              title  \\\n",
       "code                                                                           \n",
       "AC120                  AC                             International Business   \n",
       "AC137                  AC                                       Liberal Arts   \n",
       "AD101                  AD  First Year Art and Design (Common Entry portfo...   \n",
       "AD102                  AD  Graphic Design and Moving Image Design (portfo...   \n",
       "AD103                  AD  Textile and Surface Design and Jewellery and O...   \n",
       "\n",
       "      points_r1_2019 points_r2_2019 points_r1_2020 points_r2_2020 *r1_2020  \\\n",
       "code                                                                         \n",
       "AC120           234             269            209            NaN      NaN   \n",
       "AC137           252             275            252            NaN      NaN   \n",
       "AD101      # +matric            550       #+matric            NaN      NaN   \n",
       "AD102      # +matric            635       #+matric            NaN      NaN   \n",
       "AD103      # +matric            545       #+matric            NaN      NaN   \n",
       "\n",
       "      *r2_2020 #Test/Interview2020 points_r1_2021 points_r2_2021  \\\n",
       "code                                                               \n",
       "AC120      NaN                 NaN            294            294   \n",
       "AC137      NaN                 NaN            271            270   \n",
       "AD101      NaN                   #           #554            NaN   \n",
       "AD102      NaN                   #           #538            NaN   \n",
       "AD103      NaN                   #           #505            NaN   \n",
       "\n",
       "                              institution                       category  \n",
       "code                                                                      \n",
       "AC120                    American College    Business and administration  \n",
       "AC137                    American College  Humanities (except languages)  \n",
       "AD101  National College of Art and Design                           Arts  \n",
       "AD102  National College of Art and Design                           Arts  \n",
       "AD103  National College of Art and Design                           Arts  "
      ]
     },
     "execution_count": 24,
     "metadata": {},
     "output_type": "execute_result"
    }
   ],
   "source": [
    "# Use category df as a lookup table to populate categories on main df\n",
    "# reset index and set institution_letters as new index before joining to institution_df\n",
    "all_courses = all_courses.reset_index().set_index('code').join(category_df['category'])\n",
    "all_courses.head(5)"
   ]
  },
  {
   "cell_type": "markdown",
   "id": "9643c3a9-75a0-402d-b80a-538bebe843b9",
   "metadata": {},
   "source": [
    "<br>\n",
    "\n",
    "## Reformatting the data\n",
    "### Move special characters into new column\n",
    "***"
   ]
  },
  {
   "cell_type": "markdown",
   "id": "66591cb9-a950-4580-8422-78cf78d717bb",
   "metadata": {},
   "source": [
    "As per the CAO website certain characters / strings are present in the points data to give more information.<br>\n",
    "- Hastag symbol (#) : Course has a Test / Interview / Portfolio / Audition <br>\n",
    "- Asterix symbol (*): Course was not offered to everyone.<br>"
   ]
  },
  {
   "cell_type": "code",
   "execution_count": 25,
   "id": "b5621ae6-1803-4d3d-b329-1409daf04773",
   "metadata": {},
   "outputs": [],
   "source": [
    "## pre check occurances 2019 and 2021 years (as 2020 data will be parsed in same function as 2019)\n",
    "\n",
    "# define cases of character occurances on relevant cols (these will be printed later)\n",
    "# locate choose subset of df then loc where index values are equal to elements in list\n",
    "pre_check_2019 = all_courses[['points_r1_2019', 'points_r2_2019']].loc[all_courses.index.isin(['AS110','DC004', 'GY501'])]\n",
    "pre_check_2020 = all_courses[['*r1_2020', '*r2_2020', '#Test/Interview2020']].loc[all_courses.index.isin(['CK120','AD204', 'DN400'])]"
   ]
  },
  {
   "cell_type": "code",
   "execution_count": 26,
   "id": "c48364de-a3cd-495d-b9ba-d2f085029b7b",
   "metadata": {},
   "outputs": [],
   "source": [
    "# parse 2019 and 2021 # and * characters into one col\n",
    "def move_special_characters(col_one, col_two):\n",
    "    '''This function accepts two cols, performs regex on each col to return result in array'''\n",
    "    # regex for '*#' case adopted from https://newbedev.com/regex-i-want-this-and-that-and-that-in-any-order\n",
    "        # this checks for any occurance of # or * anywhere in the string\n",
    "    \n",
    "    array = np.where((all_courses[col_one].str.contains('^(?=.*#)(?=.*\\*).*$', na = False) | \n",
    "                      all_courses[col_two].str.contains('^(?=.*#)(?=.*\\*).*$' , na = False)), '#*',                \n",
    "            np.where((all_courses[col_one].str.contains('\\*', na = False) | \n",
    "                      all_courses[col_two].str.contains('\\*', na = False)), '*',\n",
    "            np.where((all_courses[col_one].str.contains('#', na = False) | \n",
    "                      all_courses[col_two].str.contains('#', na = False)), '#', \n",
    "                       'NaN')))   \n",
    "    return array\n",
    "\n",
    "\n",
    "# define variable as result of function call, with 2 cols passsed\n",
    "special_chars_2019_col = move_special_characters('points_r1_2019', 'points_r2_2019')\n",
    "special_chars_2021_col = move_special_characters('points_r1_2021', 'points_r2_2021')\n",
    "\n",
    "# APush returned arrays to a list and add list as new col to df \n",
    "all_courses['special_chars_2019'] = special_chars_2019_col.tolist()\n",
    "all_courses['special_chars_2021'] = special_chars_2021_col.tolist()\n"
   ]
  },
  {
   "cell_type": "code",
   "execution_count": 27,
   "id": "2e88c635-4d36-4b26-a438-a1a46fb896b3",
   "metadata": {},
   "outputs": [],
   "source": [
    "# parse 2020 characters into one col                     \n",
    "all_courses['special_chars_2020'] = np.where(((pd.isna(all_courses['*r1_2020']) &\n",
    "                                               pd.isna(all_courses['*r2_2020'])) &   \n",
    "                                               all_courses['#Test/Interview2020'].str.contains('#')), '#',\n",
    "                                             \n",
    "                                    np.where(((pd.isna(all_courses['*r1_2020']) &\n",
    "                                               pd.isna(all_courses['*r2_2020'])) &\n",
    "                                               pd.isna(all_courses['#Test/Interview2020'])), '',\n",
    "                                             \n",
    "                                    np.where(((all_courses['*r1_2020'].str.contains('\\*', na = False) |\n",
    "                                               all_courses['*r2_2020'].str.contains('\\*', na = False)) &\n",
    "                                               all_courses['#Test/Interview2020'].str.contains('#')), '*#',\n",
    "                                             \n",
    "                                    np.where(((all_courses['*r1_2020'].str.contains('\\*', na = False) |\n",
    "                                               all_courses['*r2_2020'].str.contains('\\*', na = False)) &\n",
    "                                               pd.isna(all_courses['#Test/Interview2020'])), '*',\n",
    "                                               'NaN'))))"
   ]
  },
  {
   "cell_type": "code",
   "execution_count": 28,
   "id": "4d82af98-b256-41ec-9df4-b93749a801ca",
   "metadata": {},
   "outputs": [
    {
     "name": "stdout",
     "output_type": "stream",
     "text": [
      "pre_check_2019 \n",
      "       points_r1_2019 points_r2_2019\n",
      "code                               \n",
      "AS110          391*             409\n",
      "DC004              #            357\n",
      "GY501         #726*             731 \n",
      "\n",
      "post_check_2019 \n",
      " code\n",
      "AS110     *\n",
      "DC004     #\n",
      "GY501    #*\n",
      "Name: special_chars_2019, dtype: object \n",
      "\n",
      "\n",
      "pre_check_2020 \n",
      "       *r1_2020 *r2_2020 #Test/Interview2020\n",
      "code                                       \n",
      "AD204      NaN      NaN                   #\n",
      "CK120        *        *                 NaN\n",
      "DN400      NaN        *                   # \n",
      "\n",
      "post_check_2020 \n",
      " code\n",
      "AD204     #\n",
      "CK120     *\n",
      "DN400    *#\n",
      "Name: special_chars_2020, dtype: object \n",
      "\n"
     ]
    }
   ],
   "source": [
    "## post parse check \n",
    "post_check_2019 = all_courses['special_chars_2019'].loc[all_courses.index.isin(['AS110','DC004', 'GY501'])]\n",
    "post_check_2020 = all_courses['special_chars_2020'].loc[all_courses.index.isin(['CK120','AD204', 'DN400'])]\n",
    "\n",
    "# print and confirm the parse worked on selected cases\n",
    "#print('pre_check_2019', '\\n', pre_check_2019)\n",
    "print('pre_check_2019', '\\n', pre_check_2019, '\\n')\n",
    "print('post_check_2019', '\\n', post_check_2019, '\\n\\n')\n",
    "print('pre_check_2020', '\\n', pre_check_2020, '\\n')\n",
    "print('post_check_2020', '\\n', post_check_2020, '\\n')"
   ]
  },
  {
   "cell_type": "markdown",
   "id": "cd07820a-a21a-441c-a4e6-73b68c9c7c51",
   "metadata": {},
   "source": [
    "### Convert Point Columns To Numeric"
   ]
  },
  {
   "cell_type": "code",
   "execution_count": 29,
   "id": "ef22abe7-0695-47a7-9fdc-2d277aae2e24",
   "metadata": {},
   "outputs": [],
   "source": [
    "# remove special chars from 2021 and 2019 point cols\n",
    "for col in all_courses.columns:\n",
    "    if col in ['points_r1_2019', 'points_r2_2019','points_r1_2021', 'points_r2_2021']:\n",
    "        all_courses[col] = all_courses[col].str.replace('#+matric', '', regex = True).str.replace('\\*', '', regex = True).str.replace('#', '', regex = True).str.strip()\n",
    "    else:\n",
    "        pass\n",
    "    all_courses.to_csv('after parse.csv')\n",
    "    # conver all cols to numeric, cast erros as NaN\n",
    "    if 'points' in col:\n",
    "        all_courses[col]  = pd.to_numeric(all_courses[col], errors = 'coerce')\n",
    "    all_courses.to_csv('after numeric.csv') "
   ]
  },
  {
   "cell_type": "markdown",
   "id": "744c1ca7-cea3-4d57-9013-c7d262ea94f6",
   "metadata": {},
   "source": [
    "## Plotting The Data"
   ]
  },
  {
   "cell_type": "code",
   "execution_count": 30,
   "id": "b27bcacd-0628-45c4-a812-e3fc8dad7abc",
   "metadata": {},
   "outputs": [
    {
     "data": {
      "image/png": "[encoded data removed]",
      "text/plain": [
       "<Figure size 1080x576 with 3 Axes>"
      ]
     },
     "metadata": {},
     "output_type": "display_data"
    }
   ],
   "source": [
    "import matplotlib.pyplot as plt             # for plotting\n",
    "import seaborn as sns                       # for plotting\n",
    "\n",
    "plt.rcParams['font.size'] = 13              # set default plot font size \n",
    "sns.set_style(\"darkgrid\", {\"grid.color\": \".6\", \"grid.linestyle\": \":\"})\n",
    "\n",
    "# create figure (3x3 grid)\n",
    "fig, ax = plt.subplots(1, 3, sharex = True, sharey = True, figsize = (15, 8))\n",
    "plt.figtext(0.5, 0, 'Figure 1', wrap = True, horizontalalignment = 'center', fontsize = 15); \n",
    "\n",
    "def plot_hist_multi(df, plot_ref): \n",
    "\n",
    "    sns.histplot(data = df, x = df.iloc[:, 0], ax = ax[plot_ref], label = df.columns[0], \n",
    "                 kde = True, color = 'blue', alpha = 0.2, bins = 30)\n",
    "    sns.histplot(data = df, x = df.iloc[:, 1], ax = ax[plot_ref], label = df.columns[1], \n",
    "                 kde = True, color = 'red', alpha = 0.2, bins = 30)\n",
    "    ax[plot_ref].set_xlabel('Points')\n",
    "    \n",
    "    ax[plot_ref].legend()\n",
    "\n",
    "plot_hist_multi(all_courses[['points_r1_2019', 'points_r2_2019']], plot_ref = (0))  \n",
    "plot_hist_multi(all_courses[['points_r1_2020', 'points_r2_2020']], plot_ref = (1))  \n",
    "plot_hist_multi(all_courses[['points_r1_2021', 'points_r2_2021']], plot_ref = (2)) \n",
    "plt.show()\n"
   ]
  },
  {
   "cell_type": "code",
   "execution_count": 31,
   "id": "2ac7fe95-cf7a-45e8-a0f1-a8c1beb67467",
   "metadata": {},
   "outputs": [
    {
     "data": {
      "text/html": [
       "<div>\n",
       "<style scoped>\n",
       "    .dataframe tbody tr th:only-of-type {\n",
       "        vertical-align: middle;\n",
       "    }\n",
       "\n",
       "    .dataframe tbody tr th {\n",
       "        vertical-align: top;\n",
       "    }\n",
       "\n",
       "    .dataframe thead th {\n",
       "        text-align: right;\n",
       "    }\n",
       "</style>\n",
       "<table border=\"1\" class=\"dataframe\">\n",
       "  <thead>\n",
       "    <tr style=\"text-align: right;\">\n",
       "      <th></th>\n",
       "      <th>points_r1_2019</th>\n",
       "      <th>points_r2_2019</th>\n",
       "      <th>points_r1_2020</th>\n",
       "      <th>points_r2_2020</th>\n",
       "      <th>points_r1_2021</th>\n",
       "      <th>points_r2_2021</th>\n",
       "    </tr>\n",
       "    <tr>\n",
       "      <th>institution</th>\n",
       "      <th></th>\n",
       "      <th></th>\n",
       "      <th></th>\n",
       "      <th></th>\n",
       "      <th></th>\n",
       "      <th></th>\n",
       "    </tr>\n",
       "  </thead>\n",
       "  <tbody>\n",
       "    <tr>\n",
       "      <th>American College</th>\n",
       "      <td>243.000000</td>\n",
       "      <td>272.000000</td>\n",
       "      <td>230.500000</td>\n",
       "      <td>NaN</td>\n",
       "      <td>282.500000</td>\n",
       "      <td>282.000000</td>\n",
       "    </tr>\n",
       "    <tr>\n",
       "      <th>Athlone Institute of Technology</th>\n",
       "      <td>351.962963</td>\n",
       "      <td>407.962963</td>\n",
       "      <td>357.321429</td>\n",
       "      <td>341.500000</td>\n",
       "      <td>362.766667</td>\n",
       "      <td>423.400000</td>\n",
       "    </tr>\n",
       "    <tr>\n",
       "      <th>CCT College Dublin</th>\n",
       "      <td>235.000000</td>\n",
       "      <td>280.000000</td>\n",
       "      <td>279.000000</td>\n",
       "      <td>NaN</td>\n",
       "      <td>247.500000</td>\n",
       "      <td>247.500000</td>\n",
       "    </tr>\n",
       "    <tr>\n",
       "      <th>Carlow College, St. Patrick`s</th>\n",
       "      <td>207.333333</td>\n",
       "      <td>291.333333</td>\n",
       "      <td>253.333333</td>\n",
       "      <td>211.333333</td>\n",
       "      <td>256.000000</td>\n",
       "      <td>229.666667</td>\n",
       "    </tr>\n",
       "    <tr>\n",
       "      <th>Cork Institute of Technology</th>\n",
       "      <td>457.418605</td>\n",
       "      <td>532.651163</td>\n",
       "      <td>437.560976</td>\n",
       "      <td>643.666667</td>\n",
       "      <td>415.232558</td>\n",
       "      <td>640.333333</td>\n",
       "    </tr>\n",
       "  </tbody>\n",
       "</table>\n",
       "</div>"
      ],
      "text/plain": [
       "                                 points_r1_2019  points_r2_2019  \\\n",
       "institution                                                       \n",
       "American College                     243.000000      272.000000   \n",
       "Athlone Institute of Technology      351.962963      407.962963   \n",
       "CCT College Dublin                   235.000000      280.000000   \n",
       "Carlow College, St. Patrick`s        207.333333      291.333333   \n",
       "Cork Institute of Technology         457.418605      532.651163   \n",
       "\n",
       "                                 points_r1_2020  points_r2_2020  \\\n",
       "institution                                                       \n",
       "American College                     230.500000             NaN   \n",
       "Athlone Institute of Technology      357.321429      341.500000   \n",
       "CCT College Dublin                   279.000000             NaN   \n",
       "Carlow College, St. Patrick`s        253.333333      211.333333   \n",
       "Cork Institute of Technology         437.560976      643.666667   \n",
       "\n",
       "                                 points_r1_2021  points_r2_2021  \n",
       "institution                                                      \n",
       "American College                     282.500000      282.000000  \n",
       "Athlone Institute of Technology      362.766667      423.400000  \n",
       "CCT College Dublin                   247.500000      247.500000  \n",
       "Carlow College, St. Patrick`s        256.000000      229.666667  \n",
       "Cork Institute of Technology         415.232558      640.333333  "
      ]
     },
     "execution_count": 31,
     "metadata": {},
     "output_type": "execute_result"
    }
   ],
   "source": [
    "df_institution = all_courses.groupby('institution').mean()\n",
    "df_institution.head(5)"
   ]
  },
  {
   "cell_type": "code",
   "execution_count": 32,
   "id": "9a78395b-c316-4de7-92a3-0e0ae1acca65",
   "metadata": {},
   "outputs": [],
   "source": [
    "df_category = all_courses.groupby('category').mean()"
   ]
  },
  {
   "cell_type": "code",
   "execution_count": 33,
   "id": "0274e3ca-948e-499f-af79-e7c9ef71200c",
   "metadata": {},
   "outputs": [],
   "source": [
    "test = pd.melt(all_courses.reset_index(), id_vars=['category'], value_vars = ['points_r1_2019', 'points_r1_2020', 'points_r1_2021'])\n",
    "\n",
    "test['year'] = np.where(test['variable'].str.contains('2021'), '2021',\n",
    "                       np.where(test['variable'].str.contains('2020'), '2020',\n",
    "                               np.where(test['variable'].str.contains('2019'), '2019', '')))"
   ]
  },
  {
   "cell_type": "code",
   "execution_count": 43,
   "id": "6018e239-46fb-406e-9928-2e7c8cfa6a42",
   "metadata": {},
   "outputs": [
    {
     "data": {
      "text/plain": [
       "<AxesSubplot:xlabel='value', ylabel='year'>"
      ]
     },
     "execution_count": 43,
     "metadata": {},
     "output_type": "execute_result"
    },
    {
     "data": {
      "image/png": "[encoded data removed]",
      "text/plain": [
       "<Figure size 864x432 with 1 Axes>"
      ]
     },
     "metadata": {},
     "output_type": "display_data"
    }
   ],
   "source": [
    "fig, ax = plt.subplots(figsize = (12, 6))\n",
    "plt.figtext(0.5, 0, 'Figure 2', wrap = True, horizontalalignment = 'center', fontsize = 15); \n",
    "#sns.violinplot(x = \"year\", y = \"value\", hue = \"year\",data = test)\n",
    "sns.boxplot(data = test, x = 'value', y = 'year', orient=\"h\", palette=\"Set2\")"
   ]
  },
  {
   "cell_type": "code",
   "execution_count": null,
   "id": "4a0cebea-add2-490e-8809-37edd5ddc392",
   "metadata": {},
   "outputs": [],
   "source": []
  },
  {
   "cell_type": "code",
   "execution_count": null,
   "id": "83f80a92-a899-4d8c-be25-d91d9a12db3d",
   "metadata": {},
   "outputs": [],
   "source": []
  },
  {
   "cell_type": "code",
   "execution_count": null,
   "id": "12670964-721a-44c7-a584-8d0e90d8dd04",
   "metadata": {},
   "outputs": [],
   "source": []
  },
  {
   "cell_type": "code",
   "execution_count": null,
   "id": "087066f4-936a-4cf7-861e-798bd002f355",
   "metadata": {},
   "outputs": [],
   "source": []
  },
  {
   "cell_type": "code",
   "execution_count": null,
   "id": "6ba36498-ceeb-4fb7-8fea-71d31aabf26b",
   "metadata": {},
   "outputs": [],
   "source": []
  },
  {
   "cell_type": "code",
   "execution_count": null,
   "id": "367f2c40-6268-4155-a545-c3d8e587c6a7",
   "metadata": {},
   "outputs": [],
   "source": []
  },
  {
   "cell_type": "code",
   "execution_count": null,
   "id": "394d7689-a0dc-4df5-ad66-082638b050a8",
   "metadata": {},
   "outputs": [],
   "source": []
  },
  {
   "cell_type": "code",
   "execution_count": 39,
   "id": "149e2ed9-e010-4f15-a22a-d41b20582134",
   "metadata": {},
   "outputs": [
    {
     "data": {
      "text/html": [
       "<div>\n",
       "<style scoped>\n",
       "    .dataframe tbody tr th:only-of-type {\n",
       "        vertical-align: middle;\n",
       "    }\n",
       "\n",
       "    .dataframe tbody tr th {\n",
       "        vertical-align: top;\n",
       "    }\n",
       "\n",
       "    .dataframe thead th {\n",
       "        text-align: right;\n",
       "    }\n",
       "</style>\n",
       "<table border=\"1\" class=\"dataframe\">\n",
       "  <thead>\n",
       "    <tr style=\"text-align: right;\">\n",
       "      <th></th>\n",
       "      <th>category</th>\n",
       "      <th>variable</th>\n",
       "      <th>value</th>\n",
       "    </tr>\n",
       "  </thead>\n",
       "  <tbody>\n",
       "    <tr>\n",
       "      <th>0</th>\n",
       "      <td>Agriculture</td>\n",
       "      <td>points_r1_2019</td>\n",
       "      <td>340.222222</td>\n",
       "    </tr>\n",
       "    <tr>\n",
       "      <th>1</th>\n",
       "      <td>Architecture and construction</td>\n",
       "      <td>points_r1_2019</td>\n",
       "      <td>312.230769</td>\n",
       "    </tr>\n",
       "    <tr>\n",
       "      <th>2</th>\n",
       "      <td>Arts</td>\n",
       "      <td>points_r1_2019</td>\n",
       "      <td>466.273810</td>\n",
       "    </tr>\n",
       "    <tr>\n",
       "      <th>3</th>\n",
       "      <td>Biological and related sciences</td>\n",
       "      <td>points_r1_2019</td>\n",
       "      <td>400.484848</td>\n",
       "    </tr>\n",
       "    <tr>\n",
       "      <th>4</th>\n",
       "      <td>Business and administration</td>\n",
       "      <td>points_r1_2019</td>\n",
       "      <td>363.203540</td>\n",
       "    </tr>\n",
       "  </tbody>\n",
       "</table>\n",
       "</div>"
      ],
      "text/plain": [
       "                          category        variable       value\n",
       "0                      Agriculture  points_r1_2019  340.222222\n",
       "1    Architecture and construction  points_r1_2019  312.230769\n",
       "2                             Arts  points_r1_2019  466.273810\n",
       "3  Biological and related sciences  points_r1_2019  400.484848\n",
       "4      Business and administration  points_r1_2019  363.203540"
      ]
     },
     "execution_count": 39,
     "metadata": {},
     "output_type": "execute_result"
    }
   ],
   "source": [
    "df_category = pd.melt(df_category.reset_index(), id_vars=['category'], value_vars = ['points_r1_2019', 'points_r2_2019'])\n",
    "df_category.head(5)"
   ]
  },
  {
   "cell_type": "code",
   "execution_count": 55,
   "id": "7e309966-8e53-42a2-b8a0-978a77657d67",
   "metadata": {},
   "outputs": [
    {
     "data": {
      "text/html": [
       "<div>\n",
       "<style scoped>\n",
       "    .dataframe tbody tr th:only-of-type {\n",
       "        vertical-align: middle;\n",
       "    }\n",
       "\n",
       "    .dataframe tbody tr th {\n",
       "        vertical-align: top;\n",
       "    }\n",
       "\n",
       "    .dataframe thead th {\n",
       "        text-align: right;\n",
       "    }\n",
       "</style>\n",
       "<table border=\"1\" class=\"dataframe\">\n",
       "  <thead>\n",
       "    <tr style=\"text-align: right;\">\n",
       "      <th></th>\n",
       "      <th>category</th>\n",
       "      <th>variable</th>\n",
       "      <th>value</th>\n",
       "    </tr>\n",
       "  </thead>\n",
       "  <tbody>\n",
       "    <tr>\n",
       "      <th>0</th>\n",
       "      <td>Agriculture</td>\n",
       "      <td>points_r1_2019</td>\n",
       "      <td>340.222222</td>\n",
       "    </tr>\n",
       "    <tr>\n",
       "      <th>1</th>\n",
       "      <td>Architecture and construction</td>\n",
       "      <td>points_r1_2019</td>\n",
       "      <td>312.230769</td>\n",
       "    </tr>\n",
       "    <tr>\n",
       "      <th>2</th>\n",
       "      <td>Arts</td>\n",
       "      <td>points_r1_2019</td>\n",
       "      <td>466.273810</td>\n",
       "    </tr>\n",
       "    <tr>\n",
       "      <th>3</th>\n",
       "      <td>Biological and related sciences</td>\n",
       "      <td>points_r1_2019</td>\n",
       "      <td>400.484848</td>\n",
       "    </tr>\n",
       "    <tr>\n",
       "      <th>4</th>\n",
       "      <td>Business and administration</td>\n",
       "      <td>points_r1_2019</td>\n",
       "      <td>363.203540</td>\n",
       "    </tr>\n",
       "  </tbody>\n",
       "</table>\n",
       "</div>"
      ],
      "text/plain": [
       "                          category        variable       value\n",
       "0                      Agriculture  points_r1_2019  340.222222\n",
       "1    Architecture and construction  points_r1_2019  312.230769\n",
       "2                             Arts  points_r1_2019  466.273810\n",
       "3  Biological and related sciences  points_r1_2019  400.484848\n",
       "4      Business and administration  points_r1_2019  363.203540"
      ]
     },
     "execution_count": 55,
     "metadata": {},
     "output_type": "execute_result"
    }
   ],
   "source": [
    "df_institution = pd.melt(df_institution.reset_index(), id_vars=['institution'], value_vars = ['points_r1_2019', 'points_r2_2019'])"
   ]
  },
  {
   "cell_type": "code",
   "execution_count": 56,
   "id": "49e1de3c-139f-4f6b-9f84-79b97e024779",
   "metadata": {},
   "outputs": [
    {
     "data": {
      "text/html": [
       "<div>\n",
       "<style scoped>\n",
       "    .dataframe tbody tr th:only-of-type {\n",
       "        vertical-align: middle;\n",
       "    }\n",
       "\n",
       "    .dataframe tbody tr th {\n",
       "        vertical-align: top;\n",
       "    }\n",
       "\n",
       "    .dataframe thead th {\n",
       "        text-align: right;\n",
       "    }\n",
       "</style>\n",
       "<table border=\"1\" class=\"dataframe\">\n",
       "  <thead>\n",
       "    <tr style=\"text-align: right;\">\n",
       "      <th></th>\n",
       "      <th>institution</th>\n",
       "      <th>variable</th>\n",
       "      <th>value</th>\n",
       "    </tr>\n",
       "  </thead>\n",
       "  <tbody>\n",
       "    <tr>\n",
       "      <th>0</th>\n",
       "      <td>American College</td>\n",
       "      <td>points_r1_2019</td>\n",
       "      <td>243.000000</td>\n",
       "    </tr>\n",
       "    <tr>\n",
       "      <th>1</th>\n",
       "      <td>Athlone Institute of Technology</td>\n",
       "      <td>points_r1_2019</td>\n",
       "      <td>351.962963</td>\n",
       "    </tr>\n",
       "    <tr>\n",
       "      <th>2</th>\n",
       "      <td>CCT College Dublin</td>\n",
       "      <td>points_r1_2019</td>\n",
       "      <td>235.000000</td>\n",
       "    </tr>\n",
       "    <tr>\n",
       "      <th>3</th>\n",
       "      <td>Carlow College, St. Patrick`s</td>\n",
       "      <td>points_r1_2019</td>\n",
       "      <td>207.333333</td>\n",
       "    </tr>\n",
       "    <tr>\n",
       "      <th>4</th>\n",
       "      <td>Cork Institute of Technology</td>\n",
       "      <td>points_r1_2019</td>\n",
       "      <td>457.418605</td>\n",
       "    </tr>\n",
       "  </tbody>\n",
       "</table>\n",
       "</div>"
      ],
      "text/plain": [
       "                       institution        variable       value\n",
       "0                 American College  points_r1_2019  243.000000\n",
       "1  Athlone Institute of Technology  points_r1_2019  351.962963\n",
       "2               CCT College Dublin  points_r1_2019  235.000000\n",
       "3    Carlow College, St. Patrick`s  points_r1_2019  207.333333\n",
       "4     Cork Institute of Technology  points_r1_2019  457.418605"
      ]
     },
     "execution_count": 56,
     "metadata": {},
     "output_type": "execute_result"
    }
   ],
   "source": [
    "df_institution.head(5)"
   ]
  },
  {
   "cell_type": "code",
   "execution_count": 57,
   "id": "4a6ca2cb-22e3-492d-8cc3-dd21eac92d11",
   "metadata": {},
   "outputs": [
    {
     "data": {
      "image/png": "[encoded data removed]",
      "text/plain": [
       "<Figure size 432x1080 with 1 Axes>"
      ]
     },
     "metadata": {},
     "output_type": "display_data"
    }
   ],
   "source": [
    "fig, ax = plt.subplots(figsize = (6, 15))\n",
    "\n",
    "\n",
    "\n",
    "#sns.catplot(data = df_category, x = \"category\", y = \"value\", hue = \"variable\", kind = \"bar\")\n",
    "\n",
    "#sns.barplot(x = 'value', y = 'category', data = df_category, hue = 'variable')\n",
    "sns.barplot(x = 'value', y = 'institution', data = df_institution, hue = 'variable')\n",
    "ax.yaxis.set_label_position(\"right\")\n",
    "ax.yaxis.tick_right()"
   ]
  },
  {
   "cell_type": "code",
   "execution_count": null,
   "id": "252c8bea-8b2c-4028-802f-2b59bdf9d97c",
   "metadata": {},
   "outputs": [],
   "source": []
  }
 ],
 "metadata": {
  "kernelspec": {
   "display_name": "Python 3",
   "language": "python",
   "name": "python3"
  },
  "language_info": {
   "codemirror_mode": {
    "name": "ipython",
    "version": 3
   },
   "file_extension": ".py",
   "mimetype": "text/x-python",
   "name": "python",
   "nbconvert_exporter": "python",
   "pygments_lexer": "ipython3",
   "version": "3.8.8"
  }
 },
 "nbformat": 4,
 "nbformat_minor": 5
}

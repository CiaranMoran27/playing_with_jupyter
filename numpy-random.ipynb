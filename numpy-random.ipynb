{
 "cells": [
  {
   "cell_type": "markdown",
   "id": "61ecac27-6e80-4dfa-849c-6d7fadcb07f0",
   "metadata": {},
   "source": [
    "<img src=\"numpy.png\" width=\"450\">   "
   ]
  },
  {
   "cell_type": "markdown",
   "id": "0ba13a5a-06c9-4e61-9c4c-f606137c0ca0",
   "metadata": {},
   "source": [
    "<br>\n",
    "\n",
    "# The NumPy.random package\n",
    "[Official Documentation](https://numpy.org/doc/stable/reference/random/index.html) [5]\n",
    "***"
   ]
  },
  {
   "cell_type": "markdown",
   "id": "6b216077-a9b0-4ba8-af91-e9e87c423f5c",
   "metadata": {},
   "source": [
    "<br>\n",
    "\n",
    "## Assignment Objectives\n",
    "- Explain the overall purpose of the numpy.random package.\n",
    "- Explain the use of the “Simple random data” and “Permutations” functions.\n",
    "- Explain the use and purpose of at least five “Distributions” functions.\n",
    "- Explain the use of seeds in generating pseudorandom numbers."
   ]
  },
  {
   "cell_type": "markdown",
   "id": "0c14e5de-c728-4475-ba10-d58b637f0059",
   "metadata": {},
   "source": [
    "<br>\n",
    "\n",
    "### Overall purpose of the package\n",
    "***\n",
    "\n",
    "#### numpy (Version 1.21)\n",
    "NumPy (Numerical Python) is a very popular open source library comprised of multidimensional array objects, mathematical functions, linear algebra<br>\n",
    "routines, random number generators and more [1]. The library is very popular due to its high level syntax and ability to perform rapid data operations.<br>\n",
    "One can explain the speed by looking deeper at how the package operates. Data structures known as ndarrays (N-dimensional arrays) only accept data of<br>\n",
    "the same type and then map these data structured to highly optimised C compiled code [2]. As Soklaski 2020 describes, this process of vectorization is<br>\n",
    "so effective when compared to iterating lists and tuples as the ndarrays dont have to check every elements data-type on iteration, resulting in a process<br>\n",
    "that is orders of magniture faster.<br> \n",
    "\n",
    "NumPy's operational speed and diversity of mathematical functions make the package of great utility for tasks that involve numerical processing on large<br>\n",
    "datasets, such as Machine Learning. The package also provides a very useful module for generating random numbers that will now be explored, a package<br>\n",
    "named *numpy.random*.\n",
    "\n",
    "<br>\n",
    "\n",
    "#### numpy.random\n",
    "\n",
    "This sub-module has the ability to produce pseudo-random sequences and model chosen statistical distribtions, which can be powerful when applied to data<br>\n",
    "science or machine learning applications. Considering that certain real world phenomena follow predictable distibutions when the sample size is of sufficient<br> \n",
    "scale, one can generate a model and make predictons. An example of this would be modelling population as a *normal distribtuion* (bell-curve shape) and using<br> \n",
    "this model to make predictions on real-world data.\n",
    "\n",
    "As per the offical documnetation the random sub-module functions can be categorized into the following: <br>\n",
    "- *Simple random data* functions that can generate pseudo-random data arrays. \n",
    "- *Permutations* function that are used to randomly modify a sequence.\n",
    "- *Distribution* functions that use randomly generated arrays to sample from a chosen statistical distribtuion.<br>\n",
    "\n",
    "<br>"
   ]
  },
  {
   "cell_type": "markdown",
   "id": "b9c86c6d-a8b2-406e-a37a-91d5c2b8ebd7",
   "metadata": {},
   "source": [
    "### Simple random data\n",
    "***\n",
    "As per the offical documentation, the approach of numPy V1.21 to generating random numbers consists of using a *BitGenerators* and a *random generator*.<br> \n",
    "The BitGenerators produces an array of random bits which which are passed to a generator, which can be used to model different probability distributions.<br>\n",
    "One can call the *default_rng()* constructor to instansiate an object of the Generator Class and then apply *simple random data* functions that belong to the class.<br> Before exploring this further lets import the relevant libraries and define histogram functions for future use."
   ]
  },
  {
   "cell_type": "code",
   "execution_count": 1,
   "id": "35612530-5efb-4133-9b63-cddc0745311c",
   "metadata": {},
   "outputs": [],
   "source": [
    "# import libraries\n",
    "%matplotlib inline\n",
    "import numpy as np           \n",
    "import pandas as pd\n",
    "import matplotlib.pyplot as plt \n",
    "import statistics\n",
    "\n",
    "# Construct new Generator and store in rng variable\n",
    "# Uses default BitGenerator (PCG64)\n",
    "rng = np.random.default_rng()"
   ]
  },
  {
   "cell_type": "code",
   "execution_count": 2,
   "id": "894708b6-311e-4428-8ad8-6b9f96bbe62b",
   "metadata": {},
   "outputs": [],
   "source": [
    "def plot_hist(array, y_label, title, bin_num, fig_ref):\n",
    "    \n",
    "    plt.hist(array, density = True, bins = bin_num)     \n",
    "    plt.title(title)  \n",
    "    plt.figtext(0.5, 0.01, fig_ref, wrap=True, horizontalalignment = 'center', fontsize = 15)  \n",
    "    #plt.xlabel('Data')  \n",
    "    plt.ylabel(y_label)\n",
    "    plt.figure(figsize=(8,8),facecolor='red',edgecolor='blue')\n",
    "    plt.tight_layout(pad = 2)\n",
    "    \n",
    "    plt.show()"
   ]
  },
  {
   "cell_type": "code",
   "execution_count": 3,
   "id": "27f1c731-098a-4587-8349-45c4bfa2539e",
   "metadata": {},
   "outputs": [],
   "source": [
    "def plot_hist_twice(array_one, array_two, title_one, title_two, fig_ref):\n",
    "    \n",
    "    fig, axs = plt.subplots(1, 2, sharex = True, sharey = False, figsize = (8, 5))\n",
    "    axs[0].hist(array_one, density = False, bins = 30, rwidth = 10)\n",
    "    axs[1].hist(array_two, density = False, bins = 30, rwidth = 10)\n",
    "    \n",
    "    plt.figtext(0.5, 0.0, fig_ref, wrap=True, horizontalalignment = 'center', fontsize = 15)   \n",
    "        \n",
    "    # loop over axes objects in the figure object.. why not\n",
    "    \n",
    "    for plot_index, ax in enumerate(fig.axes):          \n",
    "        ax.set_xlabel('data range')   \n",
    "        ax.set_facecolor('silver')\n",
    " \n",
    "        if plot_index < 1:     \n",
    "            ax.set_title(str(title_one))  \n",
    "            ax.set_ylabel('count')\n",
    "        else:     \n",
    "            ax.set_title(str(title_two))  \n",
    "     \n",
    "    fig.tight_layout(pad = 2)\n",
    "    plt.show()"
   ]
  },
  {
   "cell_type": "markdown",
   "id": "dc5a13e7-6ea4-4017-ac00-b053548a1be7",
   "metadata": {},
   "source": [
    "<br>\n",
    "\n",
    "#### Random Generator Functions\n",
    "\n",
    "This version of NumPy recommends two random number generating functions that can be utilised when one accesses the Generator via<br>\n",
    "*np.random.default_rng()*. Both functions produce random numbers from the uniform distribution. In other words, all outcomes are equally likely and can<br> produce a symmetric probability distribution when the sample size sufficient scale, see the two functions below.\n",
    "\n",
    "- ***generator.integers()*** <br>\n",
    "Produces random integers from a \"discrete\" uniform distribution. This means that any symmetric probability distriubtion has a finite number of<br>\n",
    "values [7]. This makes sense as the function produces whole numbers. See *Figure 1* below and the code used to generate the histogram to see the uniformity<br> of the distribution and how it increases with a larger sample size.<br><br>\n",
    "- ***generator.random()*** <br>\n",
    "Produces random floating point numbers from a “continuous\" uniform distribution, i.e : any symmetric probability distriubtion has an infinite number of<br> possible values [7]. This also makes sense as the function can produce an infinite range of numbers (floats)."
   ]
  },
  {
   "cell_type": "code",
   "execution_count": 4,
   "id": "5f953a1a-0d6c-41ce-a4a9-b00fa6567003",
   "metadata": {},
   "outputs": [
    {
     "name": "stdout",
     "output_type": "stream",
     "text": [
      "                             data type check :int64\n"
     ]
    },
    {
     "data": {
      "image/png": "[encoded data removed]",
      "text/plain": [
       "<Figure size 576x360 with 2 Axes>"
      ]
     },
     "metadata": {
      "needs_background": "light"
     },
     "output_type": "display_data"
    }
   ],
   "source": [
    "# generator.integers function\n",
    "# syntax: Generator.integers(low, high=None, size=None, dtype=np.int64, endpoint=False)\n",
    "\n",
    "# Call integers function on generator and pass n values  \n",
    "# of range 0 (inclusive) to 1001 (exclusive) and dtype int64    \n",
    "small_array = rng.integers(1001, size = 10000)     \n",
    "large_array = rng.integers(1001, size = 10000000)   \n",
    "\n",
    "# check data type\n",
    "print(' '*28, 'data type check :' + str(small_array.dtype))\n",
    "\n",
    "# Pass variables to hist function\n",
    "plot_hist_twice(small_array, large_array, 'n = 10000', 'n = 10000000', 'Figure 1')"
   ]
  },
  {
   "cell_type": "markdown",
   "id": "71fb90fd-19a0-46af-94e8-e6f8bc51028d",
   "metadata": {},
   "source": [
    "<br>\n",
    "\n",
    "#### Choice Function\n",
    "This function can:\n",
    "- Create a random array similar to the *np.arange()* function.\n",
    "- Generate or selects a random sample from a given 1-darray or list. As per the documentation the choice method samples from a uniform distribution, however\n",
    "<br>one can pass a probability list / array to alter this distribution (Reference Figure 2)."
   ]
  },
  {
   "cell_type": "code",
   "execution_count": 5,
   "id": "f1e1ef6a-7d94-477b-a297-4f18987cfbb6",
   "metadata": {},
   "outputs": [
    {
     "data": {
      "text/plain": [
       "array([5, 2, 4, 1, 0, 8, 5, 9, 8, 7], dtype=int64)"
      ]
     },
     "execution_count": 5,
     "metadata": {},
     "output_type": "execute_result"
    }
   ],
   "source": [
    "# randomly select 10 numbers between 0 - 10\n",
    "rand_array = rng.choice(11, size = 10)     # acts like np.arange(n)\n",
    "rand_array "
   ]
  },
  {
   "cell_type": "code",
   "execution_count": 6,
   "id": "07f8a132-a1c3-482e-84ab-fbfdff0de495",
   "metadata": {},
   "outputs": [
    {
     "data": {
      "image/png": "[encoded data removed]",
      "text/plain": [
       "<Figure size 576x432 with 1 Axes>"
      ]
     },
     "metadata": {
      "needs_background": "light"
     },
     "output_type": "display_data"
    }
   ],
   "source": [
    "# This cell will explore the choice methods ability to sample from a uniform distribution\n",
    "# and its p (probability) parameter\n",
    "\n",
    "colors = ['blue', 'black', 'green', 'red', 'yellow', 'orange', 'purple', 'brown', 'white']\n",
    "selections = []\n",
    "selections_weighted = []\n",
    "probabilities = []\n",
    "\n",
    "# append choices from color list to selections list\n",
    "for i in range(10000):\n",
    "    selection = rng.choice(colors) \n",
    "    selections.append(selection)\n",
    "    \n",
    " \n",
    "    # make weighted proability list \n",
    "for color in colors:\n",
    "    if color in ['black', 'brown', 'purple']:\n",
    "        probabilities.append(0.05)\n",
    "    else:\n",
    "        probabilities.append(0.85/6)\n",
    "        \n",
    "    # make choices over large range\n",
    "for i in range(100000):\n",
    "    selection_weighted = rng.choice(colors, p = probabilities)      # pass weighted probability list to choice()  \n",
    "    selections_weighted.append(selection_weighted)                  # append choices to weighted list\n",
    "\n",
    "# plot hisrogram \n",
    "plt.figure(figsize = (8, 6))\n",
    "plt.hist(selections_weighted, bins = 25)     \n",
    "plt.figtext(0.5, 0.01, 'Figure 2', wrap = True, horizontalalignment = 'center', fontsize = 15)  \n",
    "plt.title('Color counts from choice function')  \n",
    "plt.xticks(colors)\n",
    "plt.ylabel('Count')\n",
    "plt.tight_layout(pad = 2)\n",
    "plt.show()"
   ]
  },
  {
   "cell_type": "markdown",
   "id": "79f229a7-08f4-4a45-86c9-665eb9f840d7",
   "metadata": {},
   "source": [
    "Figure 2 Shows a uniform distribution for blue, green, red, yellow, orange, white. One can see the choice method selected black, brown and purple less <br>\n",
    "frequently as \n",
    "each item had a probability of circa 5% (0.05 in code), despite being uniformly selected relative to eachother.\n",
    "\n",
    "\n",
    "\n"
   ]
  },
  {
   "cell_type": "markdown",
   "id": "932c821c-6dcd-4772-bc57-38b5dfc09ae6",
   "metadata": {},
   "source": [
    "<br>\n",
    "\n",
    "### Pemutation Functions\n",
    "When dealing with ndarrays, one can think of a permutation as any possible arrangment of the elements in that array [8]. NumPy offers three different <br>\n",
    "permutation functions that can randomly re-arrange the element sequence of the given array, these functions will be explored in more detail below. <br>\n",
    "\n",
    "<br>\n",
    "\n",
    "**Some uses in Machine Learning:**   \n",
    "1. Shuffling can be used to reduce the variance and prevent a given model from learning irrelevant noise through its training dataset which would in turn effects<br>\n",
    "its ability to accurately predict new data (overfitting)[9]. Calomme 2017 describes how in a in regular stochastic gradient descent one should shuffle their<br>\n",
    "data after each epoch to keep model learning without selection bias. <br> <br>\n",
    "2. In a Machine Learning model feature importance is of great interest as it informs the data scientist what features have the greatest impact on a models ability<br>\n",
    "to make accurate predictions. One can deduce information on features importance by randomly shuffling selected selected values and observing the new predicitions of<br>\n",
    "the model relative to its original prediction. Billiau 2021 describes how a small decrease in model accuracy suggests that the shuffled data are not contributing<br>\n",
    "heavily to your models ability to predict outcomes. The process can be very useful when correctly applied accross all features as one can now rank order the featues<br>\n",
    "by importance."
   ]
  },
  {
   "cell_type": "code",
   "execution_count": 7,
   "id": "ef82f48c-5bd8-4d87-aeee-5278dd2fd04d",
   "metadata": {},
   "outputs": [
    {
     "name": "stdout",
     "output_type": "stream",
     "text": [
      "Template Array\n",
      "[[ 0  1  2  3  4]\n",
      " [ 5  6  7  8  9]\n",
      " [10 11 12 13 14]]\n",
      "\n",
      "Shuffled sub arrays along rows (axis = 0)  \n",
      "Inplace always True\n",
      "[[ 5  6  7  8  9]\n",
      " [ 0  1  2  3  4]\n",
      " [10 11 12 13 14]]\n",
      "\n",
      "Permutation of sub arrays along cols (axis = 1)  \n",
      "Generates Copy\n",
      "[[ 2  3  1  4  0]\n",
      " [ 7  8  6  9  5]\n",
      " [12 13 11 14 10]]\n",
      "\n",
      "Permuted Array \n",
      "Each slice of rows shuffled independantly\n",
      "[[ 5  1  2 13  4]\n",
      " [ 0 11  7  3  9]\n",
      " [10  6 12  8 14]]\n"
     ]
    }
   ],
   "source": [
    "# template array\n",
    "array = np.arange(15).reshape((3, 5))\n",
    "print('Template Array')\n",
    "print(array)\n",
    "\n",
    "# axis = 0 shuffles rows\n",
    "# axies =1 shuffles columns\n",
    "\n",
    "# shuffle template along rows \n",
    "rng.shuffle(array, axis = 0)                     \n",
    "print('\\nShuffled sub arrays along rows (axis = 0)  \\nInplace always True')\n",
    "print(array)\n",
    "\n",
    "\n",
    "# define new array and shuffle along columns\n",
    "array = np.arange(15).reshape((3, 5))                                             \n",
    "array_cols_permutation = rng.permutation(array, axis = 1)\n",
    "print('\\nPermutation of sub arrays along cols (axis = 1)  \\nGenerates Copy')\n",
    "print(array_cols_permutation)\n",
    "\n",
    "\n",
    "# template passed to permuted function \n",
    "array_permuted = rng.permuted(array, axis = 0)  \n",
    "print('\\nPermuted Array \\nEach slice of rows shuffled independantly')\n",
    "print(array_permuted)"
   ]
  },
  {
   "cell_type": "markdown",
   "id": "3bb03424-273b-4bce-aa30-8ace9ed2eed4",
   "metadata": {},
   "source": [
    "<br>\n",
    "\n",
    "### Probability Distributions\n",
    "A probability distribution is a function that describes all of the possible outcomes of a random variable along with their corresponding probability values [13]. The numPy package<br>\n",
    "provides a range of subroutines that can model important statistical distributions. These subroutine can be accessed by calling the default_rng() constructor to instansiate an object<br>\n",
    "of the Generator Class and calling the distribution subroutine on the object. \n",
    "\n",
    "The ability to sample random data from chosen distribution is of great benifit as one can model different scenarios if they have information on the distribution subroutine input<br> \n",
    "parameters. The ease of access to probability distributions allows one to predict or calculate the probabilies of defined outcomes. Brooks-Bartlett 2018 breaks down the different<br>\n",
    "types of probability predictor functions into:\n",
    "- Probability Mass Function (PMF): Represents discrete probability distributions and can calculate probability of an outcome.\n",
    "- Probability Density Function (PDF): Represents continuous probability distributions and can calculate probability over a range by integrating the area under a curve.\n",
    "\n",
    "Onnen, 2021 describes how data scientists can join the dots of the 3-point-estimation technique to avoid business pitfalls, i.e: model the best case, likely case and worst<br>\n",
    "case to help describe possible outcomes with their associated probabilities. Key distributions offered by numPy will now be explored.\n"
   ]
  },
  {
   "cell_type": "markdown",
   "id": "bd7a7c51-7125-44e4-8b2f-a70c4ef8aba2",
   "metadata": {},
   "source": [
    "#### Uniform distribution"
   ]
  },
  {
   "cell_type": "code",
   "execution_count": 8,
   "id": "77a282d2-94eb-4e29-90fb-eb8e0d697898",
   "metadata": {},
   "outputs": [
    {
     "data": {
      "image/png": "[encoded data removed]",
      "text/plain": [
       "<Figure size 576x360 with 2 Axes>"
      ]
     },
     "metadata": {
      "needs_background": "light"
     },
     "output_type": "display_data"
    }
   ],
   "source": [
    "#### Uniform\n",
    "# Uniform distriubtion function\n",
    "s_small = rng.uniform(0, 1000, 10000)\n",
    "s_large = rng.uniform(0, 1000, 10000000)\n",
    "plot_hist_twice(s_small, s_large, 'n = 1000', 'n = 10000000', 'Figure 3')"
   ]
  },
  {
   "cell_type": "markdown",
   "id": "25838519-ceff-48c1-a9e2-ce61f9b68a86",
   "metadata": {},
   "source": [
    "<br>\n",
    "\n",
    "#### Normal distribution \n",
    "[Official Documentation](https://numpy.org/doc/stable/reference/random/generated/numpy.random.normal.html)"
   ]
  },
  {
   "cell_type": "markdown",
   "id": "bfa86f07-4ff5-4364-bcbb-770adecdce44",
   "metadata": {},
   "source": [
    "##### Function Usage\n",
    "*Syntax: random.Generator.normal(loc = 0.0, scale = 1.0, size = None)* <br>\n",
    "\n",
    "This function draw random samples from a Guassian (normal) distribution. It accepts 3 parameters:\n",
    "- *loc*: this is the mean or centre of the normal distribution.\n",
    "- *scale*: this is the standard deviation or spread of the distribution.\n",
    "- *size*: Shape of output array (number of dimensions * number of samples drawn (exclusive))"
   ]
  },
  {
   "cell_type": "markdown",
   "id": "f74987d7-7abe-491c-a1c4-2c751c1e8f55",
   "metadata": {},
   "source": [
    "##### Distribution Description\n",
    "The shape of the distribution resembles that of a bell<br>\n",
    "shape curve and as per Barai 2020, some of its key chracteristics include: <br>\n",
    "\n",
    "- Continuous  distribution, one local maximum in centre of distribution where the variables spread evenly from this mode.<br>\n",
    "- Symmetric about the mean, whereby a perfect normal distribution has the same mean, median and mode (this will be explored later).\n",
    "- The Standard Normal Distribution (mean = 0, standard deviation = 1) has defined data spread:\n",
    "    - 68.3 % of data falls withing one std devs of the mean\n",
    "    - 99.7 %  of data falls withing three std devs of the mean\n",
    "\n",
    "The normal distribution can be described by its mean and standard deviation, whereby the probability of being selected rises as you approach the mean and spread increases<br>\n",
    "with standard deviation, thereby effecting the heaviness of the distribution tails (kurtosis)[15]. See *Figure 4* below for exploration of how the standard normal distribution<br>\n",
    "changes with different mean and std dev values,  \n",
    "\n",
    "<br>"
   ]
  },
  {
   "cell_type": "code",
   "execution_count": 79,
   "id": "0d736040-08bb-46fa-99b3-422a1a4fb490",
   "metadata": {},
   "outputs": [
    {
     "name": "stdout",
     "output_type": "stream",
     "text": [
      "69.01124422899417\n"
     ]
    },
    {
     "data": {
      "image/png": "[encoded data removed]",
      "text/plain": [
       "<Figure size 720x432 with 2 Axes>"
      ]
     },
     "metadata": {
      "needs_background": "light"
     },
     "output_type": "display_data"
    }
   ],
   "source": [
    "def plot_normal_distributions(axis_check, mean, std_dev):\n",
    "    # pass mean, std dev and number of runs into generator.normal function\n",
    "    normal_array = rng.normal(mean, std_dev, 1000000)      \n",
    "    \n",
    "    if axis_check == 'axis_1':\n",
    "        ax1.hist(normal_array, bins = 100, histtype = 'step', linewidth = 2.0, \n",
    "                    label = \"std dev = \" + str(std_dev) + \", mean = \" + str(mean), density = True) \n",
    "        \n",
    "        ax1.set_title('Normal Distribution (Std Dev altered)')\n",
    "        ax1.set_ylabel('frequency')\n",
    "        ax1.legend(loc='upper right')\n",
    "        \n",
    "    else:\n",
    "        ax2.hist(normal_array, bins = 100, histtype = 'step', linewidth = 2.0, \n",
    "                    label = \"std dev = \" + str(std_dev) + \", mean = \" + str(mean), density = True) \n",
    "        \n",
    "        ax2.set_title('Normal Distribution (mean altered)')\n",
    "        ax2.set_ylabel('frequency')\n",
    "        ax2.legend(loc='upper right')\n",
    "\n",
    "# generate 2 subpots and pass axis_check, mean and std dev to plotting function        \n",
    "Fig, (ax1, ax2) = plt.subplots(2, 1, sharex = True, sharey = True, figsize = (10, 6))\n",
    "plt.figtext(0.5, 0.0, 'Figure 4', wrap=True, horizontalalignment = 'center', fontsize = 15)\n",
    "\n",
    "plot_normal_distributions('axis_1', mean = 0, std_dev = 1)\n",
    "plot_normal_distributions('axis_1', mean = 0, std_dev = 2)\n",
    "plot_normal_distributions('axis_1', mean = 0, std_dev = 3)\n",
    "plot_normal_distributions('axis_2', mean = 0, std_dev = 2)\n",
    "plot_normal_distributions('axis_2', mean = 3, std_dev = 2)\n",
    "plot_normal_distributions('axis_2', mean = 6, std_dev = 2)\n",
    "\n",
    "plt.show()"
   ]
  },
  {
   "cell_type": "markdown",
   "id": "d87138e0-3741-4d72-b3dc-fd917526186e",
   "metadata": {},
   "source": [
    "\n",
    "<br>\n",
    "\n",
    "##### Probability Density Function\n",
    "\n",
    "The numPy normal generator will now be used to generate a standard normal distribution array which will be plotted. The array will be plotted on a histogram <br>\n",
    "and each bin (x data point) will be passed as a paramater to the normal proability distribution function to yield the corresponding y data point and eventually a lineplot.<br>\n",
    "The closeness of the mean, median and mode will also be confirmed.\n"
   ]
  },
  {
   "cell_type": "markdown",
   "id": "7f173e20-6ed4-442f-a10f-08a11640fdb6",
   "metadata": {},
   "source": [
    "<h3>PDF (normal): &nbsp;  $P(x)=\\frac{1}{\\sqrt{2πσ^2}}{e^\\frac{(x-µ)^2}{2σ^2}}$ <h3>"
   ]
  },
  {
   "cell_type": "code",
   "execution_count": 103,
   "id": "754b4cd4-3f61-41b7-a3e6-37d7981dac58",
   "metadata": {},
   "outputs": [
    {
     "name": "stdout",
     "output_type": "stream",
     "text": [
      "\n",
      "           This plot shows that the data generated by the np.normal distribution\n",
      "           function aligns with the data generated by the probability density\n",
      "           function for a Gaussian distribution. Also the input values for the\n",
      "           mean & std dev (0, 1) closely resemble the output values in the\n",
      "           generated array showing an accuracy of 0.1 - 0.2 % (ref Fig 5 Title)\n",
      "\n"
     ]
    },
    {
     "data": {
      "image/png": "[encoded data removed]",
      "text/plain": [
       "<Figure size 720x432 with 1 Axes>"
      ]
     },
     "metadata": {
      "needs_background": "light"
     },
     "output_type": "display_data"
    }
   ],
   "source": [
    "# plot Continuous Standard Normal Distribution \n",
    "# define variables\n",
    "mean = 0\n",
    "std_dev = 1\n",
    "\n",
    "# generate normal array \n",
    "normal_array = np.random.normal(mean, std_dev, 100000)\n",
    "\n",
    "# plot histogram given normal array \n",
    "fig, ax = plt.subplots(figsize = (10, 6))\n",
    "count, bins, ignored = plt.hist(normal_array, 100, density = True)\n",
    "plt.figtext(0.5, 0.0, 'Figure 5', wrap=True, horizontalalignment = 'center', fontsize = 15) \n",
    "\n",
    "# define probability density function (equation shown in PDF1 below)\n",
    "f = 1/(std_dev * np.sqrt(2 * np.pi)) * np.exp(-(bins - mean)**2/(2 * std_dev**2))\n",
    "\n",
    "\n",
    "\n",
    "\n",
    "# calc 3x stats for normal curve\n",
    "mean = round(statistics.mean(normal_array), 3)\n",
    "median = round(statistics.median(normal_array), 3)\n",
    "mode = round(statistics.mode(normal_array), 3)\n",
    "std_dev = round(np.std(normal_array), 4)\n",
    "\n",
    "\n",
    "# plot probability density line\n",
    "plt.plot(bins, f, linewidth = 2);                     \n",
    "plt.ylabel('frequency');    \n",
    "plt.title('Continuous Standard Normal Distribution\\nMean = {}     Median =  {}       Mode = {}      Std Dev = {}'.format(mean, median, mode, std_dev)); \n",
    "\n",
    "\n",
    "# description for plot\n",
    "string_spacer = ['           ' for i in range(7)]\n",
    "print('\\n{}This plot shows that the data generated by the np.normal distribution\\n\\\n",
    "{}function aligns with the data generated by the probability density\\n\\\n",
    "{}function for a Gaussian distribution. Also the input values for the\\n\\\n",
    "{}mean & std dev (0, 1) closely resemble the output values in the\\n\\\n",
    "{}generated array showing an accuracy of 0.1 - 0.2 % (ref Fig 5 Title)\\n'.format(*string_spacer))\n",
    "\n"
   ]
  },
  {
   "cell_type": "markdown",
   "id": "bc2a9cf7-0251-4226-8a67-f3778ad84f02",
   "metadata": {},
   "source": [
    "##### Modelling Real World Data\n",
    "\n",
    "The Normal distribution is considered one of the most important of the probability distributions in statistics. This distribution occurs in many real wold phenomena such as age,<br>\n",
    "height, test-scores, IQ scores, men's height etc. Sharma (2019) helps explain this by describing how larger data sets with finite variances and independent feature probabilities will have a data<br>\n",
    "distribution that favours the bell curve shape [11]. \n",
    "\n",
    "The numPy normal function will now be used to model men's height and the results . The dataset was obtained on Kaggle (referenced in code below).\n",
    "\n",
    "\n",
    "<br>\n",
    "<br>\n",
    "<br>\n",
    "\n",
    "\n",
    "Yiu, T, 2019, Understanding the Normal Distribution (with Python), Why Is It Useful?, towards data science,<br>\n",
    "Available at: https://towardsdatascience.com/understanding-the-normal-distribution-with-python-e70bb855b027 (Accessed: 10 November 2021) <br>\n",
    "\n",
    "<br>"
   ]
  },
  {
   "cell_type": "code",
   "execution_count": 15,
   "id": "3f4a412a-610f-45ab-b027-ed4851e2adfe",
   "metadata": {},
   "outputs": [
    {
     "name": "stdout",
     "output_type": "stream",
     "text": [
      "Average male heights in inches = 69.03\n",
      "Std Dev. of male heights = 2.86\n",
      "Observiations = 5000\n"
     ]
    }
   ],
   "source": [
    "# read in mens height data to numpy array\n",
    "# url reference to zip file: https://www.kaggle.com/mustafaali96/weight-height/download\n",
    "\n",
    "read_path = r'numpy_data_sets\\weight-height.csv'             # define read path for real world data\n",
    "df = pd.read_csv(read_path)                                  # read in csv file\n",
    "df = df.loc[df.loc[:, 'Gender'] == 'Male']                   # filter gender by male\n",
    "male_heights = df['Height']                                  # isolate height column\n",
    "male_height_mean = np.mean(male_heights)                  # calc mean for normal plot\n",
    "male_height_std_dev = np.std(male_heights)                # calc std dev for normal plot\n",
    "\n",
    "print('Average male heights in inches = {}'.format(round(male_height_mean, 2)))\n",
    "print('Std Dev. of male heights = {}'.format(round(male_height_std_dev, 2)))\n",
    "print('Observiations = {}'.format(len(male_heights)))\n"
   ]
  },
  {
   "cell_type": "code",
   "execution_count": 16,
   "id": "7bb87c65-c675-40d0-9ac0-96497813e693",
   "metadata": {},
   "outputs": [],
   "source": [
    "# Draw random samples from a normal (Gaussian) distribution passing the mean\n",
    "# and std dev. from the real world dataset along with the same number of records\n",
    "normal_array = np.random.normal(male_height_mean, male_height_std_dev, 5000)      \n"
   ]
  },
  {
   "cell_type": "code",
   "execution_count": 76,
   "id": "dad31522-c25c-4c5e-876a-fd784a5bdaa9",
   "metadata": {},
   "outputs": [
    {
     "name": "stdout",
     "output_type": "stream",
     "text": [
      "\n",
      "           Both plots show skew & kurtosis values close to zero showing how\n",
      "           normal both distributions are. Interestingly the real world world\n",
      "           data values deviate further from zero than the numpy data which \n",
      "           makes sense as the normal package samples from a normal distribution\n",
      "           and the real world data tends towards a normal distribution. The real\n",
      "           world data shows a more negative skew as slightly more data is\n",
      "           concentrated on right hand side. The kurtosis of the real world\n",
      "           sample is slightly positive as the tails contain slightly more\n",
      "           data than that of a perfectly normal distribution\n",
      "\n"
     ]
    },
    {
     "data": {
      "image/png": "[encoded data removed]",
      "text/plain": [
       "<Figure size 720x432 with 2 Axes>"
      ]
     },
     "metadata": {
      "needs_background": "light"
     },
     "output_type": "display_data"
    }
   ],
   "source": [
    "# convert normal array to pandas series\n",
    "normal_series = pd.Series(normal_array)                            \n",
    "\n",
    "# calc skew & kurtosis for numpy and real world array\n",
    "normal_skew = round(normal_series.skew(), 4)\n",
    "normal_kurtosis = round(normal_series.kurtosis(), 4)\n",
    "male_heights_skew = round(male_heights.skew(), 4) \n",
    "male_heights_kurtosis = round(male_heights.kurtosis(), 4)\n",
    "\n",
    "# make 1x2 subplot to compare histograms of np.normal vs real world data\n",
    "Fig, (ax1, ax2) = plt.subplots(1, 2, sharex = False, sharey = False, figsize = (10, 6))\n",
    "plt.figtext(0.5, 0, 'Figure 6', wrap = True, horizontalalignment = 'center', fontsize = 15); \n",
    "\n",
    "ax1.hist(normal_array, bins = 100, linewidth = 2.0, density = False) \n",
    "ax2.hist(male_heights, bins = 100, linewidth = 2.0, density = False,  color = \"red\") \n",
    "\n",
    "ax1.set_xlabel('Data Range')\n",
    "ax1.set_ylabel('Count')\n",
    "ax1.set_title('Normal Distribution (np.normal)\\n skew = {}    kurtosis = {}'\n",
    "              .format(normal_skew, normal_kurtosis))\n",
    "\n",
    "ax2.set_xlabel('Height (inches)')\n",
    "ax2.set_ylabel('Count')\n",
    "ax2.set_title('Real World Data (Mens Height)\\n skew = {}    kurtosis = {}'\n",
    "              .format(male_heights_skew, male_heights_kurtosis))\n",
    "\n",
    "\n",
    "# description for plot\n",
    "string_spacer = ['           ' for i in range(20)]\n",
    "\n",
    "\n",
    "#print('\\n{}Both plots show skew & kurtosis values close to zero showing how\\n\\\n",
    "#{}normal both distributions are. Interestingly the real world world data values\\n\\\n",
    "#{}deviate further from zero than the numpy data which makes sense as the normal\\n\n",
    "#{}package samples from a normal distribution and the real world data tends towards\\n\\\n",
    "#{}a normal distribution. The {}function for a Gaussian distribution.'format(*string_spacer))\n",
    "\n",
    "# description for plot\n",
    "string_spacer = ['           ' for i in range(9)]\n",
    "print('\\n{}Both plots show skew & kurtosis values close to zero showing how\\n\\\n",
    "{}normal both distributions are. Interestingly the real world world\\n\\\n",
    "{}data values deviate further from zero than the numpy data which \\n\\\n",
    "{}makes sense as the normal package samples from a normal distribution\\n\\\n",
    "{}and the real world data tends towards a normal distribution. The real\\n\\\n",
    "{}world data shows a more negative skew as slightly more data is\\n\\\n",
    "{}concentrated on right hand side. The kurtosis of the real world\\n\\\n",
    "{}sample is slightly positive as the tails contain slightly more\\n\\\n",
    "{}data than that of a perfectly normal distribution\\n'.format(*string_spacer))"
   ]
  },
  {
   "cell_type": "markdown",
   "id": "ba497a44-ed3b-44b9-aee5-bcf105970d08",
   "metadata": {},
   "source": [
    "<br>\n",
    "<br>\n",
    "<br>\n",
    "\n",
    "\n",
    "**Talk about importance of larger datasets for formation of uniform distribution** <br>\n",
    "**Talk about  <br>"
   ]
  },
  {
   "cell_type": "code",
   "execution_count": 265,
   "id": "469302ef-7af3-4dfc-a629-3772c06d530a",
   "metadata": {},
   "outputs": [
    {
     "data": {
      "image/png": "[encoded data removed]",
      "text/plain": [
       "<Figure size 800x500 with 2 Axes>"
      ]
     },
     "metadata": {},
     "output_type": "display_data"
    }
   ],
   "source": [
    "def plot_bar_twice(roll_low, roll_high):\n",
    "\n",
    "    fig, (ax1, ax2) = plt.subplots(1, 2, figsize = (8,5))\n",
    "    ax1.bar(roll_low[0], roll_low[1])\n",
    "    ax2.bar(roll_high[0], roll_high[1])\n",
    "    \n",
    "    ax1.set_title('Sum of: 2 x coin flips, 100 turns')\n",
    "    ax1.set_xlabel('Sum')\n",
    "    ax1.set_ylabel('Count')\n",
    "    ax2.set_title('Sum of: 10 x coin flips, 5000 turns')\n",
    "    ax2.set_xlabel('Sum')\n",
    "    plt.figtext(0.5, 0, 'Figure 7', wrap = True, horizontalalignment = 'center', fontsize = 15)  \n",
    "    plt.tight_layout(pad = 2)\n",
    "    plt.show()\n",
    "\n",
    "def sum_dice_rolls(num_dice, num_turns):\n",
    "    dice = np.random.randint(1, 7, (num_turns, num_dice))\n",
    "    totals = np.sum(dice, axis = 1)\n",
    "    faces, counts = np.unique(totals, return_counts = True)        # unique count to faces variable\n",
    "    return faces, counts ,num_dice, num_turns                      # return tuple for each array\n",
    "\n",
    "less_coin_flips = sum_dice_rolls(num_dice = 2, num_turns = 100)\n",
    "more_coun_flips = sum_dice_rolls(num_dice = 10, num_turns = 5000)\n",
    "plot_bar_twice(less_coin_flips, more_coun_flips)"
   ]
  },
  {
   "cell_type": "code",
   "execution_count": null,
   "id": "cdb3cd8d-feb0-4345-86f8-94fc7b466c54",
   "metadata": {},
   "outputs": [],
   "source": []
  },
  {
   "cell_type": "markdown",
   "id": "dc3b3d45-396a-4f12-ab5a-8de68dae7fac",
   "metadata": {},
   "source": [
    "#### Binomial"
   ]
  },
  {
   "cell_type": "markdown",
   "id": "ed3dff10-9e2e-42ef-8dc4-37e41676afba",
   "metadata": {},
   "source": [
    "##### Description\n",
    "##### Probability Density Function\n",
    "##### Use Cases\n",
    "##### Modelling Real World Data"
   ]
  },
  {
   "cell_type": "code",
   "execution_count": null,
   "id": "21456e52-4ca0-4d34-a129-eafc53c7e774",
   "metadata": {},
   "outputs": [],
   "source": []
  },
  {
   "cell_type": "code",
   "execution_count": null,
   "id": "ffde72e6-b7a7-4de3-a47c-6a19b1e5ad2e",
   "metadata": {},
   "outputs": [],
   "source": []
  },
  {
   "cell_type": "markdown",
   "id": "8133bae0-9fa4-4034-a8cf-1c614bdf211d",
   "metadata": {},
   "source": [
    "#### Hypergeometric \n",
    "[Official Documentation](https://numpy.org/doc/stable/reference/random/generated/numpy.random.hypergeometric.html) <br>\n",
    "Explanation...<br>\n",
    "Samples are drawn from a hypergeometric distribution with specified parameters, ngood (ways to make a good selection), nbad (ways to make a bad selection), and nsample (number of items sampled, which is less than or equal to the sum ngood + nbad)."
   ]
  },
  {
   "cell_type": "markdown",
   "id": "4a962544-373b-4d3e-b190-803eb4ed1ae0",
   "metadata": {},
   "source": [
    "for P(x) = probability of x good results in the drawn sample, <br>\n",
    "g = ngood,  <br>\n",
    "b = nbad, and  <br>\n",
    "n = nsample <br>"
   ]
  },
  {
   "cell_type": "code",
   "execution_count": null,
   "id": "c42709a5-7fe1-4956-b24e-65435a1d6fc9",
   "metadata": {},
   "outputs": [],
   "source": [
    "# random.hypergeometric(ngood, nbad, nsample, size=None)\n",
    "# ngood = spades = 13\n",
    "# nsample = sample size  = 5 \n",
    "# nbad = sample size - ngood = 52 - 13 = 39\n",
    "\n",
    "ngood, nbad, nsamp = 13, 39, 5\n",
    "# number of good, number of bad, and number of samples\n",
    "s = np.random.hypergeometric(ngood, nbad, nsamp, 1000)\n",
    "from matplotlib.pyplot import hist\n",
    "hist(s)\n"
   ]
  },
  {
   "cell_type": "markdown",
   "id": "5bf4af5e-52f8-479d-8ba9-54b31235187a",
   "metadata": {},
   "source": [
    "<h3>Equation: &nbsp;   &nbsp;  &nbsp;   &nbsp;  $P(x)=\\frac{\\binom{ngood}{x}\\binom{b}{n - x}}{\\binom{ngood + b}{n}}$ &nbsp;   &nbsp;  &nbsp;   &nbsp;  $ P(2)=\\frac{\\binom{13}{2}\\binom{52-13}{5-2}}{\\binom{52}{5}}$<h3> "
   ]
  },
  {
   "cell_type": "markdown",
   "id": "77125869-ead9-45d3-ad78-86edaffb55c1",
   "metadata": {},
   "source": [
    "### References\n",
    "\n",
    "[1]. Tutorialspoint, 2021, NumPy Tutorial, Available at: https://www.tutorialspoint.com/numpy/index.htm (Accessed: 21 October 2021).<br>\n",
    "\n",
    "<br> \n",
    "\n",
    "[2]. Soklaski, R, 2020, “Vectorized” Operations: Optimized Computations on NumPy Arrays, Available at:<br> https://www.pythonlikeyoumeanit.com/Module3_IntroducingNumpy/VectorizedOperations.html# (Accessed: 21 October 2021).<br>\n",
    "\n",
    "<br> \n",
    "\n",
    "[3]. Mahto, P, 2020, NumPy For Machine Learning, Available at: https://medium.com/mlpoint/numpy-for-machine-learning-211a3e58b574<br>\n",
    "(Accessed: 26 October 2021).<br>\n",
    "\n",
    "<br>\n",
    "\n",
    "[4]. Bertoldi, D, 2019, Building a Pseudorandom Number Generator, Available at: https://www.tutorialspoint.com/numpy/index.htm<br>\n",
    " (Accessed: 26 October 2021).<br>\n",
    " \n",
    "<br>\n",
    " \n",
    "[5]. Harris, C.R. et al., 2020. Array programming with NumPy. Nature, 585, pp.357–362. <br>\n",
    "\n",
    "<br>\n",
    " \n",
    "[6]  Sarkar, T, 2020, How to generate random variables from scratch, Available at:<br>\n",
    "https://towardsdatascience.com/how-to-generate-random-variables-from-scratch-no-library-used-4b71eb3c8dc7 (Accessed: 27 October 2021). <br>\n",
    "\n",
    "test\n",
    "<br>\n",
    "\n",
    "[7]. Menon, V, 2021, Understanding Probability Distribution, Available at: https://medium.com/swlh/understanding-probability-distribution-b5c041f5d564<br>\n",
    "(Accessed: 02 November 2021).\n",
    "\n",
    "<br>\n",
    "\n",
    "\n",
    "[8].Mishchenko, Y, 2020, Bootstrapping vs. Permutation Testing, Available at:<br>\n",
    "https://towardsdatascience.com/tagged/permutations?p=46604da34882 (Accessed: 09 November 2021).<br>\n",
    "\n",
    "<br>\n",
    "\n",
    "[9].  Calomme, V, 2017 , Why should the data be shuffled for machine learning tasks, StackExchange, Available at:<br>\n",
    " https://datascience.stackexchange.com/questions/24511/why-should-the-data-be-shuffled-for-machine-learning-tasks/24524#24524 <br>\n",
    " (Accessed: 09 October 2021).<br>\n",
    "<br>\n",
    "\n",
    "[10].Billiau, S, 2021, From Scratch: Permutation Feature Importance for ML Interpretability, towards data science, available at:<br>\n",
    "https://towardsdatascience.com/from-scratch-permutation-feature-importance-for-ml-interpretability-b60f7d5d1fe9<br>\n",
    "(Accessed: 09 October 2021).<br>\n",
    "\n",
    "<br>\n",
    "\n",
    "[11]. Sharma, R, 2019, Gaussian distribution, Available at:<br>\n",
    "https://medium.com/ai-techsystems/gaussian-distribution-why-is-it-important-in-data-science-and-machine-learning-9adbe0e5f8ac<br>\n",
    "(Accessed 31 March 2021)<br>\n",
    "\n",
    "<br>\n",
    "\n",
    "[12]. Barai, A, 2020, Normal Distribution and Machine Learning, Available at:<br>\n",
    "https://medium.com/analytics-vidhya/normal-distribution-and-machine-learning-ec9d3ca05070,<br>\n",
    "(Accessed 10 November 2021).\n",
    "\n",
    "<br>\n",
    "\n",
    "\n",
    "[13]. Brooks-Bartlett, J, 2018, What is a probability distribution?, Available at: <br>\n",
    "https://towardsdatascience.com/probability-concepts-explained-probability-distributions-introduction-part-3-4a5db81858dc<br>\n",
    "(Accessed 12 November 2021).\n",
    "\n",
    "<br>\n",
    "\n",
    "[14]. Onnen, H, 2021, Python Scenario Analysis: Modeling Expert Estimates with the beta-PERT Distribution, towards data science, Available at: <br>\n",
    "https://towardsdatascience.com/tagged/probability-distributions?p=22a5e90cfa79<br>\n",
    "(Accessed 12 November 2021)\n",
    "\n",
    "\n",
    "<br>\n",
    "\n",
    "\n",
    "[15]. GADAADHAARIGEEK, 2019, What is a Normal (or Gaussian) Distribution?, kaggle.com,<br> \n",
    "Available at: https://www.kaggle.com/gadaadhaarigeek/normal-distribution<br>\n",
    "(Accessed 12 November 2021).\n",
    "\n",
    "<br><br>\n",
    "<br>"
   ]
  },
  {
   "cell_type": "markdown",
   "id": "a1a4a02b-b0b8-43de-a449-255b37224d57",
   "metadata": {},
   "source": [
    "\n",
    "<br>\n",
    "<br>\n",
    "<br>\n",
    "<br>\n",
    "<br>\n",
    "\n",
    "\n",
    "Bit generator:<br>\n",
    "https://bashtage.github.io/randomgen/custom-bit-generators.html<br>\n",
    "https://towardsdatascience.com/before-probability-distributions-d8a2f36b1cb<br>"
   ]
  },
  {
   "cell_type": "markdown",
   "id": "2fb0e201-4738-4540-b75e-1b1677759694",
   "metadata": {},
   "source": [
    "# extra\n",
    "numpy behind the scenes in machine learning\n",
    "\n",
    "use cases distributions : https://towardsdatascience.com/deep-diving-statistical-distributions-with-python-for-data-scientists-a0a4badc8d1a"
   ]
  },
  {
   "cell_type": "markdown",
   "id": "97e3d2cf-942b-49aa-9b2e-47ae1b3db3a2",
   "metadata": {},
   "source": [
    "<h3>*PDF(normal): &nbsp;  $P(x)=\\frac{1}{\\sqrt{2πσ^2}}{e^\\frac{(x-µ)^2}{2σ^2}}$ &nbsp; --- >  &nbsp; Plug in -1 for x &nbsp;  --- >   &nbsp;  $ P(-1)=\\frac{1}{\\sqrt{2(3.14)(1)^2}}{e^\\frac{(-1-0)^2}{2(1)^2}}$<h3>  "
   ]
  },
  {
   "cell_type": "code",
   "execution_count": null,
   "id": "5e8365bd-f8b6-40cd-9400-5c5ca7fc6a96",
   "metadata": {},
   "outputs": [],
   "source": []
  },
  {
   "cell_type": "code",
   "execution_count": null,
   "id": "dcc5f672-83cb-47a5-9cb5-2ee94d5ecfb2",
   "metadata": {},
   "outputs": [],
   "source": []
  },
  {
   "cell_type": "markdown",
   "id": "a6c949bb-8a6a-4727-b4d4-13256041590a",
   "metadata": {},
   "source": [
    "later \n",
    "\n",
    "\n",
    "\n",
    "\n",
    "<br>\n",
    "\n",
    "#### discuss this part later (mabye compare old to new?)\n",
    "The new infrastructure takes a different approach to producing random numbers from the RandomState object. \n",
    "Random number generation is separated into two components, a bit generator and a random generator.\n",
    "\n",
    "\n",
    "\n",
    "The BitGenerator has a limited set of responsibilities. It manages state and provides functions to produce random doubles and random unsigned 32- and 64-bit values.\n",
    "\n",
    "BitGenerators: Objects that generate random numbers. These are typically unsigned integer words filled with sequences of either 32 or 64 random bits.\n",
    "\n",
    "\n",
    "Simply speaking, a generator is a function that returns an object (iterator) which we can iterate over (one value at a time).\n",
    "\n",
    "\n",
    "<br>\n",
    "*class numpy.random.Generator(bit_generator)*\n"
   ]
  },
  {
   "cell_type": "code",
   "execution_count": null,
   "id": "6f10d6e1-8ba3-4c4e-8ac5-bd7e3024ad5f",
   "metadata": {},
   "outputs": [],
   "source": [
    "\\begin{align}\n",
    "Equation :  && P(x)=\\frac{\\binom{ngood}{x}\\binom{b}{n - x}}{\\binom{ngood + b}{n}} && P(2)=\\frac{\\binom{13}{2}\\binom{52-13}{5-2}}{\\binom{52}{5}}\n",
    "\\end{align}"
   ]
  }
 ],
 "metadata": {
  "kernelspec": {
   "display_name": "Python 3",
   "language": "python",
   "name": "python3"
  },
  "language_info": {
   "codemirror_mode": {
    "name": "ipython",
    "version": 3
   },
   "file_extension": ".py",
   "mimetype": "text/x-python",
   "name": "python",
   "nbconvert_exporter": "python",
   "pygments_lexer": "ipython3",
   "version": "3.8.8"
  }
 },
 "nbformat": 4,
 "nbformat_minor": 5
}

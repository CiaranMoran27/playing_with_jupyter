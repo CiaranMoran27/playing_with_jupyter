{
 "cells": [
  {
   "cell_type": "markdown",
   "id": "61ecac27-6e80-4dfa-849c-6d7fadcb07f0",
   "metadata": {},
   "source": [
    "<img src=\"numpy.png\" width=\"450\">   "
   ]
  },
  {
   "cell_type": "markdown",
   "id": "0ba13a5a-06c9-4e61-9c4c-f606137c0ca0",
   "metadata": {},
   "source": [
    "<br>\n",
    "\n",
    "# The NumPy.random package\n",
    "[Official Documentation](https://numpy.org/doc/stable/reference/random/index.html) [5]\n",
    "***"
   ]
  },
  {
   "cell_type": "markdown",
   "id": "6b216077-a9b0-4ba8-af91-e9e87c423f5c",
   "metadata": {},
   "source": [
    "<br>\n",
    "\n",
    "## Assignment Objectives\n",
    "- Explain the overall purpose of the numpy.random package.\n",
    "- Explain the use of the “Simple random data” and “Permutations” functions.\n",
    "- Explain the use and purpose of at least five “Distributions” functions.\n",
    "- Explain the use of seeds in generating pseudorandom numbers."
   ]
  },
  {
   "cell_type": "markdown",
   "id": "0c14e5de-c728-4475-ba10-d58b637f0059",
   "metadata": {},
   "source": [
    "<br>\n",
    "\n",
    "### Overall purpose of the package\n",
    "***\n",
    "\n",
    "#### numpy (Version 1.21)\n",
    "NumPy (Numerical Python) is a very popular open source library comprised of multidimensional array objects, mathematical functions, linear algebra<br>\n",
    "routines, random number generators and more [1]. The library is very popular due to its high level syntax and ability to perform rapid data operations.<br>\n",
    "One can explain the speed by looking deeper at how the package operates. Data structures known as ndarrays (N-dimensional arrays) only accept data of<br>\n",
    "the same type and then map these data structured to highly optimised C compiled code [2]. As Soklaski 2020 describes, this process of vectorization is<br>\n",
    "so effective when compared to iterating lists and tuples as the ndarrays dont have to check every elements data-type on iteration, resulting in a process<br>\n",
    "that is orders of magniture faster.<br> \n",
    "\n",
    "NumPy's operational speed and diversity of mathematical functions make the package of great utility for tasks that involve numerical processing on large<br>\n",
    "datasets, such as Machine Learning. The package also provides a very useful module for generating random numbers that will now be explored, a package<br>\n",
    "named *numpy.random*.\n",
    "\n",
    "<br>\n",
    "\n",
    "#### numpy.random\n",
    "\n",
    "This sub-module has the ability to produce pseudo-random sequences and model chosen statistical distribtions, which can be powerful when applied to data<br>\n",
    "science or machine learning applications. Considering that certain real world phenomena follow predictable distibutions when the sample size is of sufficient<br> \n",
    "scale, one can generate a model and make predictons. An example of this would be modelling population as a *normal distribtuion* (bell-curve shape) and using<br> \n",
    "this model to make predictions on real-world data.\n",
    "\n",
    "As per the offical documnetation the random sub-module functions can be categorized into the following: <br>\n",
    "- *Simple random data* functions that can generate pseudo-random data arrays. \n",
    "- *Permutations* function that are used to randomly modify a sequence.\n",
    "- *Distribution* functions that use randomly generated arrays to sample from a chosen statistical distribtuion.<br>\n",
    "\n",
    "<br>"
   ]
  },
  {
   "cell_type": "markdown",
   "id": "b9c86c6d-a8b2-406e-a37a-91d5c2b8ebd7",
   "metadata": {},
   "source": [
    "### Simple random data\n",
    "***\n",
    "As per the offical documentation, the approach of numPy V1.21 to generating random numbers consists of using a *BitGenerators* and a *random generator*.<br> \n",
    "The BitGenerators produces an array of random bits which which are passed to a generator, which can be used to model different probability distributions.<br>\n",
    "One can call the *default_rng()* constructor to instansiate an object of the Generator Class and then apply *simple random data* functions that belong to the class.<br> Before exploring this further lets import the relevant libraries and define histogram functions for future use."
   ]
  },
  {
   "cell_type": "code",
   "execution_count": 1,
   "id": "35612530-5efb-4133-9b63-cddc0745311c",
   "metadata": {},
   "outputs": [],
   "source": [
    "# import libraries\n",
    "%matplotlib inline\n",
    "import numpy as np                   \n",
    "import matplotlib.pyplot as plt        \n",
    "\n",
    "# Construct new Generator and store in rng variable\n",
    "# Uses default BitGenerator (PCG64)\n",
    "rng = np.random.default_rng()"
   ]
  },
  {
   "cell_type": "code",
   "execution_count": 2,
   "id": "4ef98b23-3a5a-4ed6-969d-758152b377c8",
   "metadata": {},
   "outputs": [],
   "source": [
    "def plot_hist(array, y_label, title, bin_num, bin_spacer):\n",
    "    \n",
    "    plt.hist(array, density = True, bins = bin_num, rwidth = bin_spacer)     \n",
    "    plt.title(title)  \n",
    "    #plt.xlabel('Data')  \n",
    "    plt.ylabel(y_label)\n",
    "    plt.tight_layout(pad = 2)\n",
    "    plt.show()"
   ]
  },
  {
   "cell_type": "code",
   "execution_count": null,
   "id": "894708b6-311e-4428-8ad8-6b9f96bbe62b",
   "metadata": {},
   "outputs": [],
   "source": [
    "def plot_histogram(array, y_label, title, bin_num, bin_spacer):\n",
    "    \n",
    "    fig, axs = plt.subplots(1, 2, sharex = True, sharey = False, figsize = (8, 4))\n",
    "    plt.hist(array, density = True, bins = bin_num, rwidth = bin_spacer)     \n",
    "    plt.title(title)  \n",
    "    #plt.xlabel('Data')  \n",
    "    plt.ylabel(y_label)\n",
    "    plt.tight_layout(pad = 2)\n",
    "    plt.show()"
   ]
  },
  {
   "cell_type": "code",
   "execution_count": 3,
   "id": "27f1c731-098a-4587-8349-45c4bfa2539e",
   "metadata": {},
   "outputs": [],
   "source": [
    "def plot_hist_twice(array_one, array_two, title_one, title_two, figure_number):\n",
    "    \n",
    "    fig, axs = plt.subplots(1, 2, sharex = True, sharey = False, figsize = (8, 4))\n",
    "    axs[0].hist(array_one, density = False, bins = 30)\n",
    "    axs[1].hist(array_two, density = False, bins = 30)\n",
    "    \n",
    "    txt = \"Figure\" + str(figure_number) \n",
    "    plt.figtext(0.5, 0.01, txt, wrap=True, horizontalalignment = 'center', fontsize = 15)   \n",
    "        \n",
    "    # loop over axes objects in the figure object.. why not\n",
    "    for plot_index, ax in enumerate(fig.axes):          \n",
    "        ax.set_xlabel('data range')   \n",
    "        ax.set_facecolor('silver')\n",
    " \n",
    "        if plot_index < 1:     \n",
    "            ax.set_title(str(title_one))  \n",
    "            ax.set_ylabel('count')\n",
    "        else:     \n",
    "            ax.set_title(str(title_two))  \n",
    "     \n",
    "    fig.tight_layout(pad = 2)\n",
    "    plt.show()"
   ]
  },
  {
   "cell_type": "markdown",
   "id": "dc5a13e7-6ea4-4017-ac00-b053548a1be7",
   "metadata": {},
   "source": [
    "<br>\n",
    "\n",
    "#### Random Generator Functions\n",
    "\n",
    "This version of NumPy recommends two random number generating functions that can be utilised when one accesses the Generator via<br>\n",
    "*np.random.default_rng()*. Both functions produce random numbers from the uniform distribution. In other words, all outcomes are equally likely and can<br> produce a symmetric probability distribution when the sample size sufficient scale, see the two functions below.\n",
    "\n",
    "- ***generator.integers()*** <br>\n",
    "Produces random integers from a \"discrete\" uniform distribution. This means that any symmetric probability distriubtion has a finite number of<br>\n",
    "values [7]. This makes sense as the function produces whole numbers. See *Figure 1* below and the code used to generate the histogram to see the uniformity<br> of the distribution and how it increases with a larger sample size.<br><br>\n",
    "- ***generator.random()*** <br>\n",
    "Produces random floating point numbers from a “continuous\" uniform distribution, i.e : any symmetric probability distriubtion has an infinite number of<br> possible values [7]. This also makes sense as the function can produce an infinite range of numbers (floats)."
   ]
  },
  {
   "cell_type": "code",
   "execution_count": 4,
   "id": "5f953a1a-0d6c-41ce-a4a9-b00fa6567003",
   "metadata": {},
   "outputs": [
    {
     "name": "stdout",
     "output_type": "stream",
     "text": [
      "                             data type check :int64\n"
     ]
    },
    {
     "data": {
      "image/png": "[encoded data removed]",
      "text/plain": [
       "<Figure size 576x288 with 2 Axes>"
      ]
     },
     "metadata": {
      "needs_background": "light"
     },
     "output_type": "display_data"
    }
   ],
   "source": [
    "# generator.integers function\n",
    "# syntax: Generator.integers(low, high=None, size=None, dtype=np.int64, endpoint=False)\n",
    "\n",
    "# Call integers function on generator and pass n values  \n",
    "# of range 0 (inclusive) to 1001 (exclusive) and dtype int64    \n",
    "small_array = rng.integers(1001, size = 10000)     \n",
    "large_array = rng.integers(1001, size = 10000000)   \n",
    "\n",
    "# check data type\n",
    "print(' '*28, 'data type check :' + str(small_array.dtype))\n",
    "\n",
    "# Pass variables to hist function\n",
    "plot_hist_twice(small_array, large_array, 'n = 10000', 'n = 10000000', 1)"
   ]
  },
  {
   "cell_type": "markdown",
   "id": "71fb90fd-19a0-46af-94e8-e6f8bc51028d",
   "metadata": {},
   "source": [
    "<br>\n",
    "\n",
    "#### Choice Function\n",
    "\n",
    "This functions generates or selects a random sample from a given array. \n",
    "doc comment... continue \n",
    "If an ndarray, a random sample is generated from its elements. If an int, the random sample is generated from np.arange(a)."
   ]
  },
  {
   "cell_type": "code",
   "execution_count": 34,
   "id": "07f8a132-a1c3-482e-84ab-fbfdff0de495",
   "metadata": {},
   "outputs": [
    {
     "data": {
      "image/png": "[encoded data removed]",
      "text/plain": [
       "<Figure size 432x288 with 1 Axes>"
      ]
     },
     "metadata": {
      "needs_background": "light"
     },
     "output_type": "display_data"
    }
   ],
   "source": [
    "colors = ['blue', 'black', 'green', 'red', 'yellow', 'orange', 'purple', 'brown', 'white']\n",
    "selections = []\n",
    "selections_weighted = []\n",
    "probabilities = []\n",
    "\n",
    "\n",
    "# append choices from color list to selections list\n",
    "for i in range(10000):\n",
    "    selection = rng.choice(colors) \n",
    "    selections.append(selection)\n",
    "    \n",
    " \n",
    "    # make weighted proability list \n",
    "for color in colors:\n",
    "    if color in ['black', 'brown']:\n",
    "        probabilities.append(0)\n",
    "    else:\n",
    "        probabilities.append(1/7)\n",
    "        \n",
    "   \n",
    "\n",
    "    # append weighted choices from color list to selections list\n",
    "for i in range(100000):\n",
    "    selection_weighted = rng.choice(colors, p = probabilities)        \n",
    "    selections_weighted.append(selection_weighted)\n",
    "\n",
    "plot_hist(selections_weighted, 'probability', 'Chosen Color Probability', 9, 20)\n"
   ]
  },
  {
   "cell_type": "code",
   "execution_count": null,
   "id": "1986d005-6886-489a-bfea-a870af3df650",
   "metadata": {},
   "outputs": [],
   "source": []
  },
  {
   "cell_type": "markdown",
   "id": "195cfaa9-64b3-498d-8eca-bb9a1f1508ca",
   "metadata": {},
   "source": [
    "#### Generator.bytes  \n",
    "[(Documentation)](https://numpy.org/doc/stable/reference/random/generated/numpy.random.Generator.bytes.html#numpy.random.Generator.bytes) \n",
    "<br>"
   ]
  },
  {
   "cell_type": "code",
   "execution_count": null,
   "id": "733f0e83-4fd3-41ae-b98b-ff00f5c671d3",
   "metadata": {},
   "outputs": [],
   "source": []
  },
  {
   "cell_type": "code",
   "execution_count": null,
   "id": "2a2751a1-2455-483d-bf4d-7c63a0b79e66",
   "metadata": {},
   "outputs": [],
   "source": []
  },
  {
   "cell_type": "markdown",
   "id": "0a0f84cb-6bc0-42c1-9a12-9f0ba21635f8",
   "metadata": {},
   "source": [
    "<br>\n",
    "\n",
    "### Pemutation Functions"
   ]
  },
  {
   "cell_type": "markdown",
   "id": "932c821c-6dcd-4772-bc57-38b5dfc09ae6",
   "metadata": {},
   "source": [
    "What do permutation functions do and why are they useful"
   ]
  },
  {
   "cell_type": "code",
   "execution_count": 31,
   "id": "56b10ad9-4713-4575-9504-071f07f2f36a",
   "metadata": {},
   "outputs": [
    {
     "name": "stdout",
     "output_type": "stream",
     "text": [
      "Template Array\n",
      "[[0 1 2]\n",
      " [3 4 5]\n",
      " [6 7 8]]\n",
      "Shuffled Array\n",
      "[[3 4 5]\n",
      " [6 7 8]\n",
      " [0 1 2]]\n",
      "Permutation Array\n",
      "[[3 4 5]\n",
      " [6 7 8]\n",
      " [0 1 2]]\n",
      "Permuted Array\n",
      "[[3 4 5]\n",
      " [6 7 8]\n",
      " [0 1 2]]\n"
     ]
    }
   ],
   "source": [
    "# shuffle(x, axis = 0)\n",
    "# random.Generator.shuffle(x, axis=0)\n",
    "    # Modify an array or sequence in-place by shuffling its contents. Acts as if 1d\n",
    "    # random.Generator.shuffle(x, axis=0)\n",
    "\n",
    "array = np.arange(9).reshape((3, 3))\n",
    "print('Template Array')\n",
    "print(array)\n",
    "\n",
    "array_shuffled = rng.shuffle(array)\n",
    "print('Shuffled Array')\n",
    "print(array)\n",
    "\n",
    "array_permutation = rng.permutation(array, axis = 0)\n",
    "print('Permutation Array')\n",
    "print(array)\n",
    "\n",
    "array_permuted = rng.permuted(array, axis = 1)\n",
    "print('Permuted Array')\n",
    "print(array)\n"
   ]
  },
  {
   "cell_type": "markdown",
   "id": "3bb03424-273b-4bce-aa30-8ace9ed2eed4",
   "metadata": {},
   "source": [
    "### Probability Distributions\n",
    "\n",
    "<br>\n",
    "Generators: Objects that transform sequences of random bits from a BitGenerator into sequences of numbers that follow a specific probability distribution (such as uniform, Normal or Binomial) within a specified interval.<br>\n",
    "\n",
    "*Generator*  sample from the array and output different statistical distributions. <br>\n",
    "\n",
    "<br>\n",
    "Call default_rng to get a new instance of a Generator, then call its methods to obtain samples from different distributions. By default, Generator uses bits provided by PCG64 which has better statistical properties than the legacy MT19937 used in RandomState.\n",
    "\n",
    "<br>\n",
    "<br>\n",
    "The Generator is the user-facing object that is nearly identical to the legacy RandomState. It accepts a bit generator instance as an argument. The default is currently PCG64 but this may change in future versions. As a convenience NumPy provides the default_rng function to hide these details:\n",
    "\n",
    "\n",
    "\n",
    "A uniform distribution is one where all outcomes have equal probability. <br>\n",
    "USE THIS REF\n",
    "Menon 2021 describes how these distributions consist of a symmetric probability distriubtion and a finite number number of values[6]. <br>\n",
    " "
   ]
  },
  {
   "cell_type": "markdown",
   "id": "25838519-ceff-48c1-a9e2-ce61f9b68a86",
   "metadata": {},
   "source": [
    "#### Generator.uniform"
   ]
  },
  {
   "cell_type": "code",
   "execution_count": 7,
   "id": "fa0d8ac7-a962-4e68-ae7f-f43522322844",
   "metadata": {},
   "outputs": [
    {
     "data": {
      "image/png": "[encoded data removed]",
      "text/plain": [
       "<Figure size 576x288 with 2 Axes>"
      ]
     },
     "metadata": {
      "needs_background": "light"
     },
     "output_type": "display_data"
    }
   ],
   "source": [
    "#### Uniform\n",
    "# Uniform distriubtion function\n",
    "s_small = np.random.default_rng().uniform(0, 1000, 10000)\n",
    "s_large = np.random.default_rng().uniform(0, 1000, 10000000)\n",
    "plot_hist_twice(s_small, s_large, 'n = 1000', 'n = 10000000')"
   ]
  },
  {
   "cell_type": "code",
   "execution_count": null,
   "id": "19a4baab-11ff-4906-b75f-71ab4e645656",
   "metadata": {},
   "outputs": [],
   "source": []
  },
  {
   "cell_type": "code",
   "execution_count": null,
   "id": "7e28cb18-cf3b-4364-9b4b-61bec3c2ae4a",
   "metadata": {},
   "outputs": [],
   "source": []
  },
  {
   "cell_type": "code",
   "execution_count": null,
   "id": "b151060b-7137-412e-929c-759b427146cb",
   "metadata": {},
   "outputs": [],
   "source": []
  },
  {
   "cell_type": "code",
   "execution_count": null,
   "id": "589bf68e-a1b2-484c-8471-932c2706ec68",
   "metadata": {},
   "outputs": [],
   "source": []
  },
  {
   "cell_type": "markdown",
   "id": "dc3b3d45-396a-4f12-ab5a-8de68dae7fac",
   "metadata": {},
   "source": [
    "#### Binomial"
   ]
  },
  {
   "cell_type": "code",
   "execution_count": null,
   "id": "5c5cea6b-6b72-4725-a7fb-b0486d6e1a15",
   "metadata": {},
   "outputs": [],
   "source": []
  },
  {
   "cell_type": "code",
   "execution_count": null,
   "id": "21456e52-4ca0-4d34-a129-eafc53c7e774",
   "metadata": {},
   "outputs": [],
   "source": []
  },
  {
   "cell_type": "code",
   "execution_count": null,
   "id": "ffde72e6-b7a7-4de3-a47c-6a19b1e5ad2e",
   "metadata": {},
   "outputs": [],
   "source": []
  },
  {
   "cell_type": "markdown",
   "id": "8133bae0-9fa4-4034-a8cf-1c614bdf211d",
   "metadata": {},
   "source": [
    "#### Hypergeometric \n",
    "[Official Documentation](https://numpy.org/doc/stable/reference/random/generated/numpy.random.hypergeometric.html) <br>\n",
    "Explanation...<br>\n",
    "Samples are drawn from a hypergeometric distribution with specified parameters, ngood (ways to make a good selection), nbad (ways to make a bad selection), and nsample (number of items sampled, which is less than or equal to the sum ngood + nbad)."
   ]
  },
  {
   "cell_type": "markdown",
   "id": "4a962544-373b-4d3e-b190-803eb4ed1ae0",
   "metadata": {},
   "source": [
    "for P(x) = probability of x good results in the drawn sample, <br>\n",
    "g = ngood,  <br>\n",
    "b = nbad, and  <br>\n",
    "n = nsample <br>"
   ]
  },
  {
   "cell_type": "code",
   "execution_count": 35,
   "id": "c42709a5-7fe1-4956-b24e-65435a1d6fc9",
   "metadata": {},
   "outputs": [
    {
     "data": {
      "text/plain": [
       "(array([233.,   0., 394.,   0.,   0., 276.,   0.,  86.,   0.,  11.]),\n",
       " array([0. , 0.4, 0.8, 1.2, 1.6, 2. , 2.4, 2.8, 3.2, 3.6, 4. ]),\n",
       " <BarContainer object of 10 artists>)"
      ]
     },
     "execution_count": 35,
     "metadata": {},
     "output_type": "execute_result"
    },
    {
     "data": {
      "image/png": "[encoded data removed]",
      "text/plain": [
       "<Figure size 432x288 with 1 Axes>"
      ]
     },
     "metadata": {
      "needs_background": "light"
     },
     "output_type": "display_data"
    }
   ],
   "source": [
    "# random.hypergeometric(ngood, nbad, nsample, size=None)\n",
    "# ngood = spades = 13\n",
    "# nsample = sample size  = 5 \n",
    "# nbad = sample size - ngood = 52 - 13 = 39\n",
    "\n",
    "ngood, nbad, nsamp = 13, 39, 5\n",
    "# number of good, number of bad, and number of samples\n",
    "s = np.random.hypergeometric(ngood, nbad, nsamp, 1000)\n",
    "from matplotlib.pyplot import hist\n",
    "hist(s)\n"
   ]
  },
  {
   "cell_type": "markdown",
   "id": "c28453b2-b7e9-4d51-a79b-adeb5c38ad91",
   "metadata": {},
   "source": []
  },
  {
   "cell_type": "markdown",
   "id": "411199be-d7ad-4f0c-bdc9-d7f460ae5015",
   "metadata": {},
   "source": [
    "\\begin{align}\n",
    "Equation :  && P(x)=\\frac{\\binom{ngood}{x}\\binom{b}{n - x}}{\\binom{ngood + b}{n}} && P(2)=\\frac{\\binom{13}{2}\\binom{52-13}{5-2}}{\\binom{52}{5}}\n",
    "\\end{align}"
   ]
  },
  {
   "cell_type": "markdown",
   "id": "5bf4af5e-52f8-479d-8ba9-54b31235187a",
   "metadata": {},
   "source": [
    "***Forumla***<br>\n",
    "<h3>Equation: &nbsp;   &nbsp;  &nbsp;   &nbsp;  $P(x)=\\frac{\\binom{ngood}{x}\\binom{b}{n - x}}{\\binom{ngood + b}{n}}$ &nbsp;   &nbsp;  &nbsp;   &nbsp;  $ P(2)=\\frac{\\binom{13}{2}\\binom{52-13}{5-2}}{\\binom{52}{5}}$<h3> "
   ]
  },
  {
   "cell_type": "markdown",
   "id": "77125869-ead9-45d3-ad78-86edaffb55c1",
   "metadata": {},
   "source": [
    "### References\n",
    "\n",
    "[1]. Tutorialspoint, 2021, NumPy Tutorial, Available at: https://www.tutorialspoint.com/numpy/index.htm (Accessed: 21 October 2021).<br>\n",
    "\n",
    "<br> \n",
    "\n",
    "[2]. Soklaski, R, 2020, “Vectorized” Operations: Optimized Computations on NumPy Arrays, Available at:<br> https://www.pythonlikeyoumeanit.com/Module3_IntroducingNumpy/VectorizedOperations.html# (Accessed: 21 October 2021).<br>\n",
    "\n",
    "<br> \n",
    "\n",
    "[3]. Mahto, P, 2020, NumPy For Machine Learning, Available at: https://medium.com/mlpoint/numpy-for-machine-learning-211a3e58b574<br>\n",
    "(Accessed: 26 October 2021).<br>\n",
    "\n",
    "<br>\n",
    "\n",
    "[4]. Bertoldi, D, 2019, Building a Pseudorandom Number Generator, Available at: https://www.tutorialspoint.com/numpy/index.htm<br>\n",
    " (Accessed: 26 October 2021).<br>\n",
    " \n",
    "<br>\n",
    " \n",
    "[5]. Harris, C.R. et al., 2020. Array programming with NumPy. Nature, 585, pp.357–362. <br>\n",
    "\n",
    "<br>\n",
    " \n",
    "[6]  Sarkar, T, 2020, How to generate random variables from scratch, Available at:<br>\n",
    "https://towardsdatascience.com/how-to-generate-random-variables-from-scratch-no-library-used-4b71eb3c8dc7 (Accessed: 27 October 2021). <br>\n",
    "\n",
    "test\n",
    "<br>\n",
    "\n",
    "[7]. Menon, V, 2021, Understanding Probability Distribution, Available at: https://medium.com/swlh/understanding-probability-distribution-b5c041f5d564<br>\n",
    "(Accessed: 02 November 2021).\n",
    "\n",
    "\n",
    "<br>\n",
    "<br>\n",
    "<br>\n",
    "<br>\n"
   ]
  },
  {
   "cell_type": "markdown",
   "id": "a1a4a02b-b0b8-43de-a449-255b37224d57",
   "metadata": {},
   "source": [
    "\n",
    "<br>\n",
    "<br>\n",
    "\n",
    "extra:<br>\n",
    "probability distributions: <br>\n",
    "Bit generator:<br>\n",
    "https://bashtage.github.io/randomgen/custom-bit-generators.html<br>\n",
    "https://towardsdatascience.com/before-probability-distributions-d8a2f36b1cb<br>"
   ]
  },
  {
   "cell_type": "markdown",
   "id": "a6c949bb-8a6a-4727-b4d4-13256041590a",
   "metadata": {},
   "source": [
    "later \n",
    "\n",
    "\n",
    "\n",
    "\n",
    "<br>\n",
    "\n",
    "#### discuss this part later (mabye compare old to new?)\n",
    "The new infrastructure takes a different approach to producing random numbers from the RandomState object. \n",
    "Random number generation is separated into two components, a bit generator and a random generator.\n",
    "\n",
    "\n",
    "\n",
    "The BitGenerator has a limited set of responsibilities. It manages state and provides functions to produce random doubles and random unsigned 32- and 64-bit values.\n",
    "\n",
    "BitGenerators: Objects that generate random numbers. These are typically unsigned integer words filled with sequences of either 32 or 64 random bits.\n",
    "\n",
    "\n",
    "Simply speaking, a generator is a function that returns an object (iterator) which we can iterate over (one value at a time).\n",
    "\n",
    "\n",
    "<br>\n",
    "*class numpy.random.Generator(bit_generator)*\n"
   ]
  },
  {
   "cell_type": "code",
   "execution_count": null,
   "id": "6f10d6e1-8ba3-4c4e-8ac5-bd7e3024ad5f",
   "metadata": {},
   "outputs": [],
   "source": [
    "\\begin{align}\n",
    "Equation :  && P(x)=\\frac{\\binom{ngood}{x}\\binom{b}{n - x}}{\\binom{ngood + b}{n}} && P(2)=\\frac{\\binom{13}{2}\\binom{52-13}{5-2}}{\\binom{52}{5}}\n",
    "\\end{align}"
   ]
  }
 ],
 "metadata": {
  "kernelspec": {
   "display_name": "Python 3",
   "language": "python",
   "name": "python3"
  },
  "language_info": {
   "codemirror_mode": {
    "name": "ipython",
    "version": 3
   },
   "file_extension": ".py",
   "mimetype": "text/x-python",
   "name": "python",
   "nbconvert_exporter": "python",
   "pygments_lexer": "ipython3",
   "version": "3.8.8"
  }
 },
 "nbformat": 4,
 "nbformat_minor": 5
}

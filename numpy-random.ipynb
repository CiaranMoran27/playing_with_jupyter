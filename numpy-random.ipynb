{
 "cells": [
  {
   "cell_type": "markdown",
   "id": "61ecac27-6e80-4dfa-849c-6d7fadcb07f0",
   "metadata": {},
   "source": [
    "<img src=\"numpy.png\" width=\"450\">   "
   ]
  },
  {
   "cell_type": "markdown",
   "id": "0ba13a5a-06c9-4e61-9c4c-f606137c0ca0",
   "metadata": {},
   "source": [
    "<br>\n",
    "\n",
    "# The NumPy.random package\n",
    "[Official Documentation](https://numpy.org/doc/stable/reference/random/index.html)\n",
    "***"
   ]
  },
  {
   "cell_type": "markdown",
   "id": "6b216077-a9b0-4ba8-af91-e9e87c423f5c",
   "metadata": {},
   "source": [
    "<br>\n",
    "\n",
    "## Assignment Objectives\n",
    "- Explain the overall purpose of the numpy.random package.\n",
    "- Explain the use of the “Simple random data” and “Permutations” functions.\n",
    "- Explain the use and purpose of at least five “Distributions” functions.\n",
    "- Explain the use of seeds in generating pseudorandom numbers."
   ]
  },
  {
   "cell_type": "markdown",
   "id": "0c14e5de-c728-4475-ba10-d58b637f0059",
   "metadata": {},
   "source": [
    "<br>\n",
    "\n",
    "### Overall purpose of the package\n",
    "\n",
    "#### numpy\n",
    "NumPy (Numerical Python) is a very popular library comprised of multidimensional array objects, mathematical functions, linear algebra routines,<br>\n",
    "random number generators and more [1]. The library is very popular due to its high level syntax and ability to perform rapid data operations. <br>\n",
    "One can explain the speed by looking deeper at how the package operates. Data structures known as ndarrays (N-dimensional arrays) only accept<br>\n",
    "data of the same type and then map these data structured to highly optimised C compiled code [2]. As Soklaski 2020 describes, this process of<br>\n",
    "vectorization is so effective when compared to iterating lists and tuples as the ndarrays dont have to check every elements data-type on iteration,<br>\n",
    "resulting in a process that is orders of magniture faster.<br> \n",
    "\n",
    "NumPy's operational speed and diversity of mathematical functions make the package of great utility for tasks that involve numerical processing on<br>\n",
    "large datasets, such as Machine Learning. The package also provides a very useful module for generating pseudo-random numbers that will now be<br> \n",
    "explored this package is called the *numpy.random* package.\n",
    "\n",
    "#### numpy.random\n"
   ]
  },
  {
   "cell_type": "markdown",
   "id": "b9c86c6d-a8b2-406e-a37a-91d5c2b8ebd7",
   "metadata": {},
   "source": [
    "### Simple random data"
   ]
  },
  {
   "cell_type": "markdown",
   "id": "3bb03424-273b-4bce-aa30-8ace9ed2eed4",
   "metadata": {},
   "source": [
    "### Probability Distributions"
   ]
  },
  {
   "cell_type": "markdown",
   "id": "5bf4af5e-52f8-479d-8ba9-54b31235187a",
   "metadata": {},
   "source": [
    "### Seed"
   ]
  },
  {
   "cell_type": "markdown",
   "id": "77125869-ead9-45d3-ad78-86edaffb55c1",
   "metadata": {},
   "source": [
    "### References\n",
    "\n",
    "e.g website reference <br>\n",
    "\n",
    "*Google (2020) Google terms of service. Available at: https://policies.google.com/terms?hl=en-US (Accessed: 11 May 2020).*\n",
    "\n",
    "<br> \n",
    "<br> \n",
    "\n",
    "[1]. Tutorialspoint, 2021, NumPy Tutorial, Available at: https://www.tutorialspoint.com/numpy/index.htm (Accessed: 21 October 2021).<br>\n",
    "\n",
    "<br> \n",
    "\n",
    "[2]. Soklaski, R, 2020, “Vectorized” Operations: Optimized Computations on NumPy Arrays, Available at:<br> https://www.pythonlikeyoumeanit.com/Module3_IntroducingNumpy/VectorizedOperations.html# (Accessed: 21 October 2021).<br>\n",
    "\n",
    "<br> \n",
    "\n",
    "[3]. Mahto, P, 2020, NumPy For Machine Learning, Available at: https://medium.com/mlpoint/numpy-for-machine-learning-211a3e58b574<br>\n",
    "(Accessed: 26 October 2021).<br>\n",
    "\n",
    "<br>\n",
    "\n",
    "[4]. Bertoldi, D, 2019, Building a Pseudorandom Number Generator, Available at: https://www.tutorialspoint.com/numpy/index.htm<br>\n",
    " (Accessed: 26 October 2021).\n",
    "\n"
   ]
  },
  {
   "cell_type": "code",
   "execution_count": null,
   "id": "f53b1906-54ee-4af8-a510-f282b8d93d62",
   "metadata": {},
   "outputs": [],
   "source": []
  }
 ],
 "metadata": {
  "kernelspec": {
   "display_name": "Python 3",
   "language": "python",
   "name": "python3"
  },
  "language_info": {
   "codemirror_mode": {
    "name": "ipython",
    "version": 3
   },
   "file_extension": ".py",
   "mimetype": "text/x-python",
   "name": "python",
   "nbconvert_exporter": "python",
   "pygments_lexer": "ipython3",
   "version": "3.8.8"
  }
 },
 "nbformat": 4,
 "nbformat_minor": 5
}
